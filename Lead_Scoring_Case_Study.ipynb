{
 "cells": [
  {
   "cell_type": "markdown",
   "id": "f9ce05fe",
   "metadata": {},
   "source": [
    "### Problem Statement :\n",
    "\n",
    "X Education sells online courses to industry professionals.The company markets its courses on several websites and search engines like Google.\n",
    "Once these people land on the website, they might browse the courses or fill up a form for the course or watch some videos.When \n",
    "these people fill up a form providing their email address or phone number, they are classified to be a lead. Moreover, the \n",
    "company also gets leads through past referrals. \n",
    "\n",
    "Once these leads are acquired, employees from the sales team start making calls, writing emails, etc. Through this process, \n",
    "some of the leads get converted while most do not.The typical lead conversion rate at X education is around 30%. \n",
    "\n",
    "### Business Goal :\n",
    "\n",
    "X Education needs help in selecting the most promising leads, i.e. the leads that are most likely to convert into paying \n",
    "customers. \n",
    "\n",
    "The company needs a model wherein you a lead score is assigned to each of the leads such that the customers with higher lead \n",
    "score have a higher conversion chance and the customers with lower lead score have a lower conversion chance. \n",
    "\n",
    "The CEO, in particular, has given a ballpark of the target lead conversion rate to be around 80%."
   ]
  },
  {
   "cell_type": "markdown",
   "id": "06f2f733",
   "metadata": {},
   "source": [
    "### Our Goals of the Case Study:\n",
    "\n",
    "\n",
    "To build a logistic regression model to assign a lead score between 0 and 100 to each of the leads which can be used by the company to target potential leads.\n",
    "\n",
    "To adjust to if the company's requirement changes in the future so you will need to handle these as well."
   ]
  },
  {
   "cell_type": "markdown",
   "id": "dd2707f0",
   "metadata": {},
   "source": [
    "### Steps :\n",
    "\n",
    "1.Read and understand the data\n",
    "\n",
    "2.Clean the data\n",
    "\n",
    "3.Prepare the data for Model Building\n",
    "\n",
    "4.Model Building\n",
    "\n",
    "5.Model Evaluation\n",
    "\n",
    "6.Making Predictions on the Test Set"
   ]
  },
  {
   "cell_type": "code",
   "execution_count": 1,
   "id": "bc2782b1",
   "metadata": {},
   "outputs": [],
   "source": [
    "# Supress Warnings\n",
    "import warnings\n",
    "warnings.filterwarnings('ignore')"
   ]
  },
  {
   "cell_type": "code",
   "execution_count": 2,
   "id": "5912f848",
   "metadata": {},
   "outputs": [],
   "source": [
    "#Importing the libraries \n",
    "import pandas as pd\n",
    "import numpy as np\n",
    "import matplotlib.pyplot as plt\n",
    "import seaborn as sns\n",
    "%matplotlib inline"
   ]
  },
  {
   "cell_type": "code",
   "execution_count": 77,
   "id": "fe782b71",
   "metadata": {},
   "outputs": [],
   "source": [
    "#Importing skilearn libraries\n",
    "from sklearn.model_selection import train_test_split\n",
    "from sklearn.preprocessing import MinMaxScaler\n",
    "import statsmodels.api as sm\n",
    "from sklearn.linear_model import LogisticRegression\n",
    "from sklearn.feature_selection import RFE\n",
    "from sklearn import metrics\n",
    "from statsmodels.stats.outliers_influence import variance_inflation_factor\n",
    "from sklearn.metrics import confusion_matrix\n",
    "from sklearn.metrics import precision_score, recall_score\n",
    "from sklearn.metrics import precision_recall_curve"
   ]
  },
  {
   "cell_type": "code",
   "execution_count": 3,
   "id": "0f4efd62",
   "metadata": {},
   "outputs": [],
   "source": [
    "#Reading the csv file \n",
    "lead_info=pd.read_csv('Leads.csv')"
   ]
  },
  {
   "cell_type": "markdown",
   "id": "5234f04b",
   "metadata": {},
   "source": [
    "### 1. Reading and understanding the Data : "
   ]
  },
  {
   "cell_type": "code",
   "execution_count": 4,
   "id": "d982bd60",
   "metadata": {},
   "outputs": [
    {
     "data": {
      "text/html": [
       "<div>\n",
       "<style scoped>\n",
       "    .dataframe tbody tr th:only-of-type {\n",
       "        vertical-align: middle;\n",
       "    }\n",
       "\n",
       "    .dataframe tbody tr th {\n",
       "        vertical-align: top;\n",
       "    }\n",
       "\n",
       "    .dataframe thead th {\n",
       "        text-align: right;\n",
       "    }\n",
       "</style>\n",
       "<table border=\"1\" class=\"dataframe\">\n",
       "  <thead>\n",
       "    <tr style=\"text-align: right;\">\n",
       "      <th></th>\n",
       "      <th>Prospect ID</th>\n",
       "      <th>Lead Number</th>\n",
       "      <th>Lead Origin</th>\n",
       "      <th>Lead Source</th>\n",
       "      <th>Do Not Email</th>\n",
       "      <th>Do Not Call</th>\n",
       "      <th>Converted</th>\n",
       "      <th>TotalVisits</th>\n",
       "      <th>Total Time Spent on Website</th>\n",
       "      <th>Page Views Per Visit</th>\n",
       "      <th>...</th>\n",
       "      <th>Get updates on DM Content</th>\n",
       "      <th>Lead Profile</th>\n",
       "      <th>City</th>\n",
       "      <th>Asymmetrique Activity Index</th>\n",
       "      <th>Asymmetrique Profile Index</th>\n",
       "      <th>Asymmetrique Activity Score</th>\n",
       "      <th>Asymmetrique Profile Score</th>\n",
       "      <th>I agree to pay the amount through cheque</th>\n",
       "      <th>A free copy of Mastering The Interview</th>\n",
       "      <th>Last Notable Activity</th>\n",
       "    </tr>\n",
       "  </thead>\n",
       "  <tbody>\n",
       "    <tr>\n",
       "      <th>0</th>\n",
       "      <td>7927b2df-8bba-4d29-b9a2-b6e0beafe620</td>\n",
       "      <td>660737</td>\n",
       "      <td>API</td>\n",
       "      <td>Olark Chat</td>\n",
       "      <td>No</td>\n",
       "      <td>No</td>\n",
       "      <td>0</td>\n",
       "      <td>0.0</td>\n",
       "      <td>0</td>\n",
       "      <td>0.0</td>\n",
       "      <td>...</td>\n",
       "      <td>No</td>\n",
       "      <td>Select</td>\n",
       "      <td>Select</td>\n",
       "      <td>02.Medium</td>\n",
       "      <td>02.Medium</td>\n",
       "      <td>15.0</td>\n",
       "      <td>15.0</td>\n",
       "      <td>No</td>\n",
       "      <td>No</td>\n",
       "      <td>Modified</td>\n",
       "    </tr>\n",
       "    <tr>\n",
       "      <th>1</th>\n",
       "      <td>2a272436-5132-4136-86fa-dcc88c88f482</td>\n",
       "      <td>660728</td>\n",
       "      <td>API</td>\n",
       "      <td>Organic Search</td>\n",
       "      <td>No</td>\n",
       "      <td>No</td>\n",
       "      <td>0</td>\n",
       "      <td>5.0</td>\n",
       "      <td>674</td>\n",
       "      <td>2.5</td>\n",
       "      <td>...</td>\n",
       "      <td>No</td>\n",
       "      <td>Select</td>\n",
       "      <td>Select</td>\n",
       "      <td>02.Medium</td>\n",
       "      <td>02.Medium</td>\n",
       "      <td>15.0</td>\n",
       "      <td>15.0</td>\n",
       "      <td>No</td>\n",
       "      <td>No</td>\n",
       "      <td>Email Opened</td>\n",
       "    </tr>\n",
       "    <tr>\n",
       "      <th>2</th>\n",
       "      <td>8cc8c611-a219-4f35-ad23-fdfd2656bd8a</td>\n",
       "      <td>660727</td>\n",
       "      <td>Landing Page Submission</td>\n",
       "      <td>Direct Traffic</td>\n",
       "      <td>No</td>\n",
       "      <td>No</td>\n",
       "      <td>1</td>\n",
       "      <td>2.0</td>\n",
       "      <td>1532</td>\n",
       "      <td>2.0</td>\n",
       "      <td>...</td>\n",
       "      <td>No</td>\n",
       "      <td>Potential Lead</td>\n",
       "      <td>Mumbai</td>\n",
       "      <td>02.Medium</td>\n",
       "      <td>01.High</td>\n",
       "      <td>14.0</td>\n",
       "      <td>20.0</td>\n",
       "      <td>No</td>\n",
       "      <td>Yes</td>\n",
       "      <td>Email Opened</td>\n",
       "    </tr>\n",
       "    <tr>\n",
       "      <th>3</th>\n",
       "      <td>0cc2df48-7cf4-4e39-9de9-19797f9b38cc</td>\n",
       "      <td>660719</td>\n",
       "      <td>Landing Page Submission</td>\n",
       "      <td>Direct Traffic</td>\n",
       "      <td>No</td>\n",
       "      <td>No</td>\n",
       "      <td>0</td>\n",
       "      <td>1.0</td>\n",
       "      <td>305</td>\n",
       "      <td>1.0</td>\n",
       "      <td>...</td>\n",
       "      <td>No</td>\n",
       "      <td>Select</td>\n",
       "      <td>Mumbai</td>\n",
       "      <td>02.Medium</td>\n",
       "      <td>01.High</td>\n",
       "      <td>13.0</td>\n",
       "      <td>17.0</td>\n",
       "      <td>No</td>\n",
       "      <td>No</td>\n",
       "      <td>Modified</td>\n",
       "    </tr>\n",
       "    <tr>\n",
       "      <th>4</th>\n",
       "      <td>3256f628-e534-4826-9d63-4a8b88782852</td>\n",
       "      <td>660681</td>\n",
       "      <td>Landing Page Submission</td>\n",
       "      <td>Google</td>\n",
       "      <td>No</td>\n",
       "      <td>No</td>\n",
       "      <td>1</td>\n",
       "      <td>2.0</td>\n",
       "      <td>1428</td>\n",
       "      <td>1.0</td>\n",
       "      <td>...</td>\n",
       "      <td>No</td>\n",
       "      <td>Select</td>\n",
       "      <td>Mumbai</td>\n",
       "      <td>02.Medium</td>\n",
       "      <td>01.High</td>\n",
       "      <td>15.0</td>\n",
       "      <td>18.0</td>\n",
       "      <td>No</td>\n",
       "      <td>No</td>\n",
       "      <td>Modified</td>\n",
       "    </tr>\n",
       "  </tbody>\n",
       "</table>\n",
       "<p>5 rows × 37 columns</p>\n",
       "</div>"
      ],
      "text/plain": [
       "                            Prospect ID  Lead Number              Lead Origin  \\\n",
       "0  7927b2df-8bba-4d29-b9a2-b6e0beafe620       660737                      API   \n",
       "1  2a272436-5132-4136-86fa-dcc88c88f482       660728                      API   \n",
       "2  8cc8c611-a219-4f35-ad23-fdfd2656bd8a       660727  Landing Page Submission   \n",
       "3  0cc2df48-7cf4-4e39-9de9-19797f9b38cc       660719  Landing Page Submission   \n",
       "4  3256f628-e534-4826-9d63-4a8b88782852       660681  Landing Page Submission   \n",
       "\n",
       "      Lead Source Do Not Email Do Not Call  Converted  TotalVisits  \\\n",
       "0      Olark Chat           No          No          0          0.0   \n",
       "1  Organic Search           No          No          0          5.0   \n",
       "2  Direct Traffic           No          No          1          2.0   \n",
       "3  Direct Traffic           No          No          0          1.0   \n",
       "4          Google           No          No          1          2.0   \n",
       "\n",
       "   Total Time Spent on Website  Page Views Per Visit  ...  \\\n",
       "0                            0                   0.0  ...   \n",
       "1                          674                   2.5  ...   \n",
       "2                         1532                   2.0  ...   \n",
       "3                          305                   1.0  ...   \n",
       "4                         1428                   1.0  ...   \n",
       "\n",
       "  Get updates on DM Content    Lead Profile    City  \\\n",
       "0                        No          Select  Select   \n",
       "1                        No          Select  Select   \n",
       "2                        No  Potential Lead  Mumbai   \n",
       "3                        No          Select  Mumbai   \n",
       "4                        No          Select  Mumbai   \n",
       "\n",
       "  Asymmetrique Activity Index Asymmetrique Profile Index  \\\n",
       "0                   02.Medium                  02.Medium   \n",
       "1                   02.Medium                  02.Medium   \n",
       "2                   02.Medium                    01.High   \n",
       "3                   02.Medium                    01.High   \n",
       "4                   02.Medium                    01.High   \n",
       "\n",
       "  Asymmetrique Activity Score Asymmetrique Profile Score  \\\n",
       "0                        15.0                       15.0   \n",
       "1                        15.0                       15.0   \n",
       "2                        14.0                       20.0   \n",
       "3                        13.0                       17.0   \n",
       "4                        15.0                       18.0   \n",
       "\n",
       "  I agree to pay the amount through cheque  \\\n",
       "0                                       No   \n",
       "1                                       No   \n",
       "2                                       No   \n",
       "3                                       No   \n",
       "4                                       No   \n",
       "\n",
       "  A free copy of Mastering The Interview Last Notable Activity  \n",
       "0                                     No              Modified  \n",
       "1                                     No          Email Opened  \n",
       "2                                    Yes          Email Opened  \n",
       "3                                     No              Modified  \n",
       "4                                     No              Modified  \n",
       "\n",
       "[5 rows x 37 columns]"
      ]
     },
     "execution_count": 4,
     "metadata": {},
     "output_type": "execute_result"
    }
   ],
   "source": [
    "#checking the data from the dataframe\n",
    "lead_info.head()"
   ]
  },
  {
   "cell_type": "code",
   "execution_count": 5,
   "id": "6ab25a86",
   "metadata": {},
   "outputs": [
    {
     "name": "stdout",
     "output_type": "stream",
     "text": [
      "<class 'pandas.core.frame.DataFrame'>\n",
      "RangeIndex: 9240 entries, 0 to 9239\n",
      "Data columns (total 37 columns):\n",
      " #   Column                                         Non-Null Count  Dtype  \n",
      "---  ------                                         --------------  -----  \n",
      " 0   Prospect ID                                    9240 non-null   object \n",
      " 1   Lead Number                                    9240 non-null   int64  \n",
      " 2   Lead Origin                                    9240 non-null   object \n",
      " 3   Lead Source                                    9204 non-null   object \n",
      " 4   Do Not Email                                   9240 non-null   object \n",
      " 5   Do Not Call                                    9240 non-null   object \n",
      " 6   Converted                                      9240 non-null   int64  \n",
      " 7   TotalVisits                                    9103 non-null   float64\n",
      " 8   Total Time Spent on Website                    9240 non-null   int64  \n",
      " 9   Page Views Per Visit                           9103 non-null   float64\n",
      " 10  Last Activity                                  9137 non-null   object \n",
      " 11  Country                                        6779 non-null   object \n",
      " 12  Specialization                                 7802 non-null   object \n",
      " 13  How did you hear about X Education             7033 non-null   object \n",
      " 14  What is your current occupation                6550 non-null   object \n",
      " 15  What matters most to you in choosing a course  6531 non-null   object \n",
      " 16  Search                                         9240 non-null   object \n",
      " 17  Magazine                                       9240 non-null   object \n",
      " 18  Newspaper Article                              9240 non-null   object \n",
      " 19  X Education Forums                             9240 non-null   object \n",
      " 20  Newspaper                                      9240 non-null   object \n",
      " 21  Digital Advertisement                          9240 non-null   object \n",
      " 22  Through Recommendations                        9240 non-null   object \n",
      " 23  Receive More Updates About Our Courses         9240 non-null   object \n",
      " 24  Tags                                           5887 non-null   object \n",
      " 25  Lead Quality                                   4473 non-null   object \n",
      " 26  Update me on Supply Chain Content              9240 non-null   object \n",
      " 27  Get updates on DM Content                      9240 non-null   object \n",
      " 28  Lead Profile                                   6531 non-null   object \n",
      " 29  City                                           7820 non-null   object \n",
      " 30  Asymmetrique Activity Index                    5022 non-null   object \n",
      " 31  Asymmetrique Profile Index                     5022 non-null   object \n",
      " 32  Asymmetrique Activity Score                    5022 non-null   float64\n",
      " 33  Asymmetrique Profile Score                     5022 non-null   float64\n",
      " 34  I agree to pay the amount through cheque       9240 non-null   object \n",
      " 35  A free copy of Mastering The Interview         9240 non-null   object \n",
      " 36  Last Notable Activity                          9240 non-null   object \n",
      "dtypes: float64(4), int64(3), object(30)\n",
      "memory usage: 2.6+ MB\n"
     ]
    }
   ],
   "source": [
    "#checking the information and analysis of null values \n",
    "lead_info.info()"
   ]
  },
  {
   "cell_type": "markdown",
   "id": "b410b01a",
   "metadata": {},
   "source": [
    "Based on the above result we can see few of the columns have null values ."
   ]
  },
  {
   "cell_type": "code",
   "execution_count": 6,
   "id": "60152c4a",
   "metadata": {},
   "outputs": [
    {
     "data": {
      "text/plain": [
       "(9240, 37)"
      ]
     },
     "execution_count": 6,
     "metadata": {},
     "output_type": "execute_result"
    }
   ],
   "source": [
    "#checking the shape of the dataframe\n",
    "lead_info.shape"
   ]
  },
  {
   "cell_type": "code",
   "execution_count": 7,
   "id": "438f42e4",
   "metadata": {},
   "outputs": [
    {
     "data": {
      "text/html": [
       "<div>\n",
       "<style scoped>\n",
       "    .dataframe tbody tr th:only-of-type {\n",
       "        vertical-align: middle;\n",
       "    }\n",
       "\n",
       "    .dataframe tbody tr th {\n",
       "        vertical-align: top;\n",
       "    }\n",
       "\n",
       "    .dataframe thead th {\n",
       "        text-align: right;\n",
       "    }\n",
       "</style>\n",
       "<table border=\"1\" class=\"dataframe\">\n",
       "  <thead>\n",
       "    <tr style=\"text-align: right;\">\n",
       "      <th></th>\n",
       "      <th>count</th>\n",
       "      <th>mean</th>\n",
       "      <th>std</th>\n",
       "      <th>min</th>\n",
       "      <th>25%</th>\n",
       "      <th>50%</th>\n",
       "      <th>75%</th>\n",
       "      <th>max</th>\n",
       "    </tr>\n",
       "  </thead>\n",
       "  <tbody>\n",
       "    <tr>\n",
       "      <th>Lead Number</th>\n",
       "      <td>9240.0</td>\n",
       "      <td>617188.435606</td>\n",
       "      <td>23405.995698</td>\n",
       "      <td>579533.0</td>\n",
       "      <td>596484.5</td>\n",
       "      <td>615479.0</td>\n",
       "      <td>637387.25</td>\n",
       "      <td>660737.0</td>\n",
       "    </tr>\n",
       "    <tr>\n",
       "      <th>Converted</th>\n",
       "      <td>9240.0</td>\n",
       "      <td>0.385390</td>\n",
       "      <td>0.486714</td>\n",
       "      <td>0.0</td>\n",
       "      <td>0.0</td>\n",
       "      <td>0.0</td>\n",
       "      <td>1.00</td>\n",
       "      <td>1.0</td>\n",
       "    </tr>\n",
       "    <tr>\n",
       "      <th>TotalVisits</th>\n",
       "      <td>9103.0</td>\n",
       "      <td>3.445238</td>\n",
       "      <td>4.854853</td>\n",
       "      <td>0.0</td>\n",
       "      <td>1.0</td>\n",
       "      <td>3.0</td>\n",
       "      <td>5.00</td>\n",
       "      <td>251.0</td>\n",
       "    </tr>\n",
       "    <tr>\n",
       "      <th>Total Time Spent on Website</th>\n",
       "      <td>9240.0</td>\n",
       "      <td>487.698268</td>\n",
       "      <td>548.021466</td>\n",
       "      <td>0.0</td>\n",
       "      <td>12.0</td>\n",
       "      <td>248.0</td>\n",
       "      <td>936.00</td>\n",
       "      <td>2272.0</td>\n",
       "    </tr>\n",
       "    <tr>\n",
       "      <th>Page Views Per Visit</th>\n",
       "      <td>9103.0</td>\n",
       "      <td>2.362820</td>\n",
       "      <td>2.161418</td>\n",
       "      <td>0.0</td>\n",
       "      <td>1.0</td>\n",
       "      <td>2.0</td>\n",
       "      <td>3.00</td>\n",
       "      <td>55.0</td>\n",
       "    </tr>\n",
       "    <tr>\n",
       "      <th>Asymmetrique Activity Score</th>\n",
       "      <td>5022.0</td>\n",
       "      <td>14.306252</td>\n",
       "      <td>1.386694</td>\n",
       "      <td>7.0</td>\n",
       "      <td>14.0</td>\n",
       "      <td>14.0</td>\n",
       "      <td>15.00</td>\n",
       "      <td>18.0</td>\n",
       "    </tr>\n",
       "    <tr>\n",
       "      <th>Asymmetrique Profile Score</th>\n",
       "      <td>5022.0</td>\n",
       "      <td>16.344883</td>\n",
       "      <td>1.811395</td>\n",
       "      <td>11.0</td>\n",
       "      <td>15.0</td>\n",
       "      <td>16.0</td>\n",
       "      <td>18.00</td>\n",
       "      <td>20.0</td>\n",
       "    </tr>\n",
       "  </tbody>\n",
       "</table>\n",
       "</div>"
      ],
      "text/plain": [
       "                              count           mean           std       min  \\\n",
       "Lead Number                  9240.0  617188.435606  23405.995698  579533.0   \n",
       "Converted                    9240.0       0.385390      0.486714       0.0   \n",
       "TotalVisits                  9103.0       3.445238      4.854853       0.0   \n",
       "Total Time Spent on Website  9240.0     487.698268    548.021466       0.0   \n",
       "Page Views Per Visit         9103.0       2.362820      2.161418       0.0   \n",
       "Asymmetrique Activity Score  5022.0      14.306252      1.386694       7.0   \n",
       "Asymmetrique Profile Score   5022.0      16.344883      1.811395      11.0   \n",
       "\n",
       "                                  25%       50%        75%       max  \n",
       "Lead Number                  596484.5  615479.0  637387.25  660737.0  \n",
       "Converted                         0.0       0.0       1.00       1.0  \n",
       "TotalVisits                       1.0       3.0       5.00     251.0  \n",
       "Total Time Spent on Website      12.0     248.0     936.00    2272.0  \n",
       "Page Views Per Visit              1.0       2.0       3.00      55.0  \n",
       "Asymmetrique Activity Score      14.0      14.0      15.00      18.0  \n",
       "Asymmetrique Profile Score       15.0      16.0      18.00      20.0  "
      ]
     },
     "execution_count": 7,
     "metadata": {},
     "output_type": "execute_result"
    }
   ],
   "source": [
    "# Understanding distribution of all the numerical variables in dataset\n",
    "lead_info.describe().transpose()"
   ]
  },
  {
   "cell_type": "markdown",
   "id": "86357316",
   "metadata": {},
   "source": [
    "Based on understanding of the Data , \n",
    "we can see there are columns with null values,outliers. \n",
    "categorical columns we need to create dummy variables . \n",
    "Also we know some columns are filled with value 'Select' and we will need to handle it too ."
   ]
  },
  {
   "cell_type": "markdown",
   "id": "b7b10185",
   "metadata": {},
   "source": [
    "### 2. Data Cleaning : "
   ]
  },
  {
   "cell_type": "code",
   "execution_count": 8,
   "id": "47ec8b42",
   "metadata": {},
   "outputs": [
    {
     "data": {
      "text/plain": [
       "0"
      ]
     },
     "execution_count": 8,
     "metadata": {},
     "output_type": "execute_result"
    }
   ],
   "source": [
    "# checking for duplicates\n",
    "lead_info.duplicated().sum()"
   ]
  },
  {
   "cell_type": "markdown",
   "id": "ea1cf552",
   "metadata": {},
   "source": [
    "There are no duplicate values in the data."
   ]
  },
  {
   "cell_type": "code",
   "execution_count": 9,
   "id": "be9b1e55",
   "metadata": {},
   "outputs": [
    {
     "name": "stdout",
     "output_type": "stream",
     "text": [
      "Lead Quality                                     51.59\n",
      "Asymmetrique Activity Index                      45.65\n",
      "Asymmetrique Profile Score                       45.65\n",
      "Asymmetrique Activity Score                      45.65\n",
      "Asymmetrique Profile Index                       45.65\n",
      "Tags                                             36.29\n",
      "Lead Profile                                     29.32\n",
      "What matters most to you in choosing a course    29.32\n",
      "What is your current occupation                  29.11\n",
      "Country                                          26.63\n",
      "How did you hear about X Education               23.89\n",
      "Specialization                                   15.56\n",
      "City                                             15.37\n",
      "Page Views Per Visit                              1.48\n",
      "TotalVisits                                       1.48\n",
      "Last Activity                                     1.11\n",
      "Lead Source                                       0.39\n",
      "Receive More Updates About Our Courses            0.00\n",
      "I agree to pay the amount through cheque          0.00\n",
      "Get updates on DM Content                         0.00\n",
      "Update me on Supply Chain Content                 0.00\n",
      "A free copy of Mastering The Interview            0.00\n",
      "Prospect ID                                       0.00\n",
      "Newspaper Article                                 0.00\n",
      "Through Recommendations                           0.00\n",
      "Digital Advertisement                             0.00\n",
      "Newspaper                                         0.00\n",
      "X Education Forums                                0.00\n",
      "Lead Number                                       0.00\n",
      "Magazine                                          0.00\n",
      "Search                                            0.00\n",
      "Total Time Spent on Website                       0.00\n",
      "Converted                                         0.00\n",
      "Do Not Call                                       0.00\n",
      "Do Not Email                                      0.00\n",
      "Lead Origin                                       0.00\n",
      "Last Notable Activity                             0.00\n",
      "dtype: float64\n"
     ]
    }
   ],
   "source": [
    "#checking for the null values as percentage \n",
    "percent_null = round(100*(lead_info.isnull().sum()/len(lead_info.index)), 2).sort_values(ascending=False)\n",
    "print(percent_null)"
   ]
  },
  {
   "cell_type": "markdown",
   "id": "f8e8b3ab",
   "metadata": {},
   "source": [
    "Based on the above result we can see the columns with null values > 30%. "
   ]
  },
  {
   "cell_type": "code",
   "execution_count": 10,
   "id": "dd9d7ea2",
   "metadata": {},
   "outputs": [
    {
     "data": {
      "text/plain": [
       "Index(['Specialization', 'How did you hear about X Education', 'Lead Profile',\n",
       "       'City'],\n",
       "      dtype='object')"
      ]
     },
     "execution_count": 10,
     "metadata": {},
     "output_type": "execute_result"
    }
   ],
   "source": [
    "#checking for the columns that contains 'Select' value\n",
    "lead_info.columns[(lead_info=='Select').any(axis=0)]"
   ]
  },
  {
   "cell_type": "code",
   "execution_count": 11,
   "id": "9127b379",
   "metadata": {},
   "outputs": [],
   "source": [
    "# Following columns have a value called 'Select'. \n",
    "# a) Specialization\n",
    "# b) How did you hear about X Education\n",
    "# c) Lead Profile\n",
    "# d) City\n",
    "\n",
    "# Converting 'Select' values to NaN.\n",
    "\n",
    "lead_info['Specialization'] = lead_info['Specialization'].replace('Select', np.nan)\n",
    "\n",
    "lead_info['How did you hear about X Education'] = lead_info['How did you hear about X Education'].replace('Select', np.nan)\n",
    "\n",
    "lead_info['Lead Profile'] = lead_info['Lead Profile'].replace('Select', np.nan)\n",
    "\n",
    "lead_info['City'] = lead_info['City'].replace('Select', np.nan)"
   ]
  },
  {
   "cell_type": "code",
   "execution_count": 12,
   "id": "6c955c32",
   "metadata": {},
   "outputs": [
    {
     "name": "stdout",
     "output_type": "stream",
     "text": [
      "How did you hear about X Education               78.46\n",
      "Lead Profile                                     74.19\n",
      "Lead Quality                                     51.59\n",
      "Asymmetrique Profile Score                       45.65\n",
      "Asymmetrique Activity Score                      45.65\n",
      "Asymmetrique Activity Index                      45.65\n",
      "Asymmetrique Profile Index                       45.65\n",
      "City                                             39.71\n",
      "Specialization                                   36.58\n",
      "Tags                                             36.29\n",
      "What matters most to you in choosing a course    29.32\n",
      "What is your current occupation                  29.11\n",
      "Country                                          26.63\n",
      "Page Views Per Visit                              1.48\n",
      "TotalVisits                                       1.48\n",
      "Last Activity                                     1.11\n",
      "Lead Source                                       0.39\n",
      "Receive More Updates About Our Courses            0.00\n",
      "I agree to pay the amount through cheque          0.00\n",
      "Get updates on DM Content                         0.00\n",
      "Update me on Supply Chain Content                 0.00\n",
      "A free copy of Mastering The Interview            0.00\n",
      "Prospect ID                                       0.00\n",
      "Newspaper Article                                 0.00\n",
      "Through Recommendations                           0.00\n",
      "Digital Advertisement                             0.00\n",
      "Newspaper                                         0.00\n",
      "X Education Forums                                0.00\n",
      "Lead Number                                       0.00\n",
      "Magazine                                          0.00\n",
      "Search                                            0.00\n",
      "Total Time Spent on Website                       0.00\n",
      "Converted                                         0.00\n",
      "Do Not Call                                       0.00\n",
      "Do Not Email                                      0.00\n",
      "Lead Origin                                       0.00\n",
      "Last Notable Activity                             0.00\n",
      "dtype: float64\n"
     ]
    }
   ],
   "source": [
    "# Again check for percentage of null values in each column\n",
    "\n",
    "percent_null = round(100*(lead_info.isnull().sum()/len(lead_info.index)), 2).sort_values(ascending=False)\n",
    "print(percent_null)"
   ]
  },
  {
   "cell_type": "code",
   "execution_count": 13,
   "id": "f0f6e559",
   "metadata": {},
   "outputs": [
    {
     "data": {
      "text/plain": [
       "Index(['Specialization', 'How did you hear about X Education', 'Tags',\n",
       "       'Lead Quality', 'Lead Profile', 'City', 'Asymmetrique Activity Index',\n",
       "       'Asymmetrique Profile Index', 'Asymmetrique Activity Score',\n",
       "       'Asymmetrique Profile Score'],\n",
       "      dtype='object')"
      ]
     },
     "execution_count": 13,
     "metadata": {},
     "output_type": "execute_result"
    }
   ],
   "source": [
    "## Finding columns which are having more than 30% null values\n",
    "col_to_drop=lead_info.loc[:,list(round((100*lead_info.isnull().sum()/lead_info.shape[0]),2)>30)].columns\n",
    "col_to_drop"
   ]
  },
  {
   "cell_type": "code",
   "execution_count": 14,
   "id": "48d206e7",
   "metadata": {},
   "outputs": [],
   "source": [
    "#Droping columns which have null values > 30 % \n",
    "lead_info = lead_info.drop(['Specialization', 'How did you hear about X Education', 'Tags',\n",
    "       'Lead Quality', 'Lead Profile', 'City', 'Asymmetrique Activity Index',\n",
    "       'Asymmetrique Profile Index', 'Asymmetrique Activity Score',\n",
    "       'Asymmetrique Profile Score'], axis=1)"
   ]
  },
  {
   "cell_type": "code",
   "execution_count": 15,
   "id": "fa54621b",
   "metadata": {},
   "outputs": [
    {
     "name": "stdout",
     "output_type": "stream",
     "text": [
      "What matters most to you in choosing a course    29.32\n",
      "What is your current occupation                  29.11\n",
      "Country                                          26.63\n",
      "TotalVisits                                       1.48\n",
      "Page Views Per Visit                              1.48\n",
      "Last Activity                                     1.11\n",
      "Lead Source                                       0.39\n",
      "X Education Forums                                0.00\n",
      "A free copy of Mastering The Interview            0.00\n",
      "I agree to pay the amount through cheque          0.00\n",
      "Get updates on DM Content                         0.00\n",
      "Update me on Supply Chain Content                 0.00\n",
      "Receive More Updates About Our Courses            0.00\n",
      "Through Recommendations                           0.00\n",
      "Digital Advertisement                             0.00\n",
      "Newspaper                                         0.00\n",
      "Prospect ID                                       0.00\n",
      "Newspaper Article                                 0.00\n",
      "Magazine                                          0.00\n",
      "Search                                            0.00\n",
      "Lead Number                                       0.00\n",
      "Total Time Spent on Website                       0.00\n",
      "Converted                                         0.00\n",
      "Do Not Call                                       0.00\n",
      "Do Not Email                                      0.00\n",
      "Lead Origin                                       0.00\n",
      "Last Notable Activity                             0.00\n",
      "dtype: float64\n"
     ]
    }
   ],
   "source": [
    "# Again check for percentage of null values in each column\n",
    "\n",
    "percent_null = round(100*(lead_info.isnull().sum()/len(lead_info.index)), 2).sort_values(ascending=False)\n",
    "print(percent_null)"
   ]
  },
  {
   "cell_type": "code",
   "execution_count": 16,
   "id": "6f6e08bb",
   "metadata": {},
   "outputs": [
    {
     "data": {
      "text/plain": [
       "India                   6492\n",
       "United States             69\n",
       "United Arab Emirates      53\n",
       "Singapore                 24\n",
       "Saudi Arabia              21\n",
       "United Kingdom            15\n",
       "Australia                 13\n",
       "Qatar                     10\n",
       "Hong Kong                  7\n",
       "Bahrain                    7\n",
       "Oman                       6\n",
       "France                     6\n",
       "unknown                    5\n",
       "South Africa               4\n",
       "Nigeria                    4\n",
       "Germany                    4\n",
       "Kuwait                     4\n",
       "Canada                     4\n",
       "Sweden                     3\n",
       "China                      2\n",
       "Asia/Pacific Region        2\n",
       "Uganda                     2\n",
       "Bangladesh                 2\n",
       "Italy                      2\n",
       "Belgium                    2\n",
       "Netherlands                2\n",
       "Ghana                      2\n",
       "Philippines                2\n",
       "Russia                     1\n",
       "Switzerland                1\n",
       "Vietnam                    1\n",
       "Denmark                    1\n",
       "Tanzania                   1\n",
       "Liberia                    1\n",
       "Malaysia                   1\n",
       "Kenya                      1\n",
       "Sri Lanka                  1\n",
       "Indonesia                  1\n",
       "Name: Country, dtype: int64"
      ]
     },
     "execution_count": 16,
     "metadata": {},
     "output_type": "execute_result"
    }
   ],
   "source": [
    "## Checking Country\n",
    "lead_info.Country.value_counts()"
   ]
  },
  {
   "cell_type": "markdown",
   "id": "0a80c963",
   "metadata": {},
   "source": [
    "Based on the above result we can see that mostly 70% of value is 'India' in country column and 27% as null values.\n",
    "Thus we will drop the country column."
   ]
  },
  {
   "cell_type": "code",
   "execution_count": 17,
   "id": "5b0f62e8",
   "metadata": {},
   "outputs": [],
   "source": [
    "#droping column country\n",
    "lead_info = lead_info.drop(['Country'], axis=1)"
   ]
  },
  {
   "cell_type": "code",
   "execution_count": 18,
   "id": "4401cc95",
   "metadata": {},
   "outputs": [
    {
     "data": {
      "text/plain": [
       "Unemployed              5600\n",
       "Working Professional     706\n",
       "Student                  210\n",
       "Other                     16\n",
       "Housewife                 10\n",
       "Businessman                8\n",
       "Name: What is your current occupation, dtype: int64"
      ]
     },
     "execution_count": 18,
     "metadata": {},
     "output_type": "execute_result"
    }
   ],
   "source": [
    "#checking on What is your current occupation\n",
    "lead_info['What is your current occupation'].value_counts()"
   ]
  },
  {
   "cell_type": "markdown",
   "id": "cb071cfb",
   "metadata": {},
   "source": [
    "As we have 29% of null values , we will try to replace the null values to seperate label as No Information\n"
   ]
  },
  {
   "cell_type": "code",
   "execution_count": 19,
   "id": "42e038c0",
   "metadata": {},
   "outputs": [],
   "source": [
    "lead_info['What is your current occupation']=lead_info['What is your current occupation'].replace(np.nan, 'No Information')"
   ]
  },
  {
   "cell_type": "code",
   "execution_count": 20,
   "id": "404eeb1b",
   "metadata": {},
   "outputs": [
    {
     "data": {
      "text/plain": [
       "Unemployed              5600\n",
       "No Information          2690\n",
       "Working Professional     706\n",
       "Student                  210\n",
       "Other                     16\n",
       "Housewife                 10\n",
       "Businessman                8\n",
       "Name: What is your current occupation, dtype: int64"
      ]
     },
     "execution_count": 20,
     "metadata": {},
     "output_type": "execute_result"
    }
   ],
   "source": [
    "#checking again on What is your current occupation\n",
    "lead_info['What is your current occupation'].value_counts()"
   ]
  },
  {
   "cell_type": "code",
   "execution_count": 21,
   "id": "765adee4",
   "metadata": {},
   "outputs": [
    {
     "data": {
      "text/plain": [
       "Better Career Prospects      6528\n",
       "Flexibility & Convenience       2\n",
       "Other                           1\n",
       "Name: What matters most to you in choosing a course, dtype: int64"
      ]
     },
     "execution_count": 21,
     "metadata": {},
     "output_type": "execute_result"
    }
   ],
   "source": [
    "# Check the value counts for the column What matters most to you in choosing a course \n",
    "lead_info['What matters most to you in choosing a course'].value_counts()"
   ]
  },
  {
   "cell_type": "markdown",
   "id": "34f86c38",
   "metadata": {},
   "source": [
    "Based on the result we can see most of the value as 'Better Career Prospects'of 70% column and \n",
    "we have null percent as 29%. Thus we will drop this column."
   ]
  },
  {
   "cell_type": "code",
   "execution_count": 22,
   "id": "0d9309a7",
   "metadata": {},
   "outputs": [],
   "source": [
    "#Droping What matters most to you in choosing a course column\n",
    "lead_info = lead_info.drop(['What matters most to you in choosing a course'], axis=1)"
   ]
  },
  {
   "cell_type": "code",
   "execution_count": 23,
   "id": "1a0636bf",
   "metadata": {},
   "outputs": [
    {
     "data": {
      "text/plain": [
       "Google               2868\n",
       "Direct Traffic       2543\n",
       "Olark Chat           1755\n",
       "Organic Search       1154\n",
       "Reference             534\n",
       "Welingak Website      142\n",
       "Referral Sites        125\n",
       "Facebook               55\n",
       "bing                    6\n",
       "google                  5\n",
       "Click2call              4\n",
       "Press_Release           2\n",
       "Social Media            2\n",
       "Live Chat               2\n",
       "youtubechannel          1\n",
       "testone                 1\n",
       "Pay per Click Ads       1\n",
       "welearnblog_Home        1\n",
       "WeLearn                 1\n",
       "blog                    1\n",
       "NC_EDM                  1\n",
       "Name: Lead Source, dtype: int64"
      ]
     },
     "execution_count": 23,
     "metadata": {},
     "output_type": "execute_result"
    }
   ],
   "source": [
    "# Check the value counts for the column Lead Source\n",
    "lead_info['Lead Source'].value_counts()"
   ]
  },
  {
   "cell_type": "markdown",
   "id": "e8952d6c",
   "metadata": {},
   "source": [
    "Based on the result we can see two lables of Google and google , we will try to rename it correctly and merge the data."
   ]
  },
  {
   "cell_type": "code",
   "execution_count": 24,
   "id": "0a1ff863",
   "metadata": {},
   "outputs": [],
   "source": [
    "# From the above it can be noticed that Google appears twice with different cases. Hence we shall convert all rows with value \n",
    "# \"Google\" to the same case.\n",
    "lead_info['Lead Source'] = lead_info['Lead Source'].replace('google', 'Google')"
   ]
  },
  {
   "cell_type": "code",
   "execution_count": 25,
   "id": "20b7f17f",
   "metadata": {},
   "outputs": [],
   "source": [
    "#we have null values with 'Lead Source' as 0.39 \n",
    "# Imputing Null with Others\n",
    "lead_info['Lead Source'] = lead_info['Lead Source'].replace(np.nan, 'Others')"
   ]
  },
  {
   "cell_type": "code",
   "execution_count": 26,
   "id": "a3531157",
   "metadata": {},
   "outputs": [
    {
     "data": {
      "text/plain": [
       "0.0      2189\n",
       "2.0      1680\n",
       "3.0      1306\n",
       "4.0      1120\n",
       "5.0       783\n",
       "6.0       466\n",
       "1.0       395\n",
       "7.0       309\n",
       "8.0       224\n",
       "9.0       164\n",
       "10.0      114\n",
       "11.0       86\n",
       "13.0       48\n",
       "12.0       45\n",
       "14.0       36\n",
       "16.0       21\n",
       "15.0       18\n",
       "17.0       16\n",
       "18.0       15\n",
       "20.0       12\n",
       "19.0        9\n",
       "21.0        6\n",
       "23.0        6\n",
       "24.0        5\n",
       "25.0        5\n",
       "27.0        5\n",
       "22.0        3\n",
       "29.0        2\n",
       "28.0        2\n",
       "26.0        2\n",
       "141.0       1\n",
       "55.0        1\n",
       "30.0        1\n",
       "43.0        1\n",
       "74.0        1\n",
       "41.0        1\n",
       "54.0        1\n",
       "115.0       1\n",
       "251.0       1\n",
       "32.0        1\n",
       "42.0        1\n",
       "Name: TotalVisits, dtype: int64"
      ]
     },
     "execution_count": 26,
     "metadata": {},
     "output_type": "execute_result"
    }
   ],
   "source": [
    "# Check the value counts for the column Total Visits\n",
    "lead_info['TotalVisits'].value_counts()"
   ]
  },
  {
   "cell_type": "code",
   "execution_count": 27,
   "id": "b60ecdcf",
   "metadata": {},
   "outputs": [
    {
     "data": {
      "text/plain": [
       "3.0"
      ]
     },
     "execution_count": 27,
     "metadata": {},
     "output_type": "execute_result"
    }
   ],
   "source": [
    "#checking the median value to impute null values\n",
    "lead_info['TotalVisits'].median()"
   ]
  },
  {
   "cell_type": "code",
   "execution_count": 28,
   "id": "e71309b4",
   "metadata": {},
   "outputs": [],
   "source": [
    "# We shall impute the null values in TotalVisits by the median value which is 3.0\n",
    "lead_info['TotalVisits'] = lead_info['TotalVisits'].replace(np.nan, lead_info['TotalVisits'].median())"
   ]
  },
  {
   "cell_type": "code",
   "execution_count": 29,
   "id": "c12a204b",
   "metadata": {},
   "outputs": [
    {
     "data": {
      "text/plain": [
       "0.00    2189\n",
       "2.00    1795\n",
       "3.00    1196\n",
       "4.00     896\n",
       "1.00     651\n",
       "        ... \n",
       "3.43       1\n",
       "2.56       1\n",
       "6.33       1\n",
       "1.64       1\n",
       "2.08       1\n",
       "Name: Page Views Per Visit, Length: 114, dtype: int64"
      ]
     },
     "execution_count": 29,
     "metadata": {},
     "output_type": "execute_result"
    }
   ],
   "source": [
    "# Check the value counts for Page Views Per Visit\n",
    "lead_info['Page Views Per Visit'].value_counts()"
   ]
  },
  {
   "cell_type": "code",
   "execution_count": 30,
   "id": "a6337583",
   "metadata": {},
   "outputs": [
    {
     "data": {
      "text/plain": [
       "2.0"
      ]
     },
     "execution_count": 30,
     "metadata": {},
     "output_type": "execute_result"
    }
   ],
   "source": [
    "#checking the median value to impute null values\n",
    "lead_info['Page Views Per Visit'].median()"
   ]
  },
  {
   "cell_type": "code",
   "execution_count": 31,
   "id": "77928a80",
   "metadata": {},
   "outputs": [],
   "source": [
    "# We shall impute the null values in TotalVisits by the median value which is 2.0\n",
    "lead_info['Page Views Per Visit'] = lead_info['Page Views Per Visit'].replace(np.nan, lead_info['Page Views Per Visit'].median())"
   ]
  },
  {
   "cell_type": "code",
   "execution_count": 32,
   "id": "dd9099be",
   "metadata": {},
   "outputs": [
    {
     "data": {
      "text/plain": [
       "Email Opened                    3437\n",
       "SMS Sent                        2745\n",
       "Olark Chat Conversation          973\n",
       "Page Visited on Website          640\n",
       "Converted to Lead                428\n",
       "Email Bounced                    326\n",
       "Email Link Clicked               267\n",
       "Form Submitted on Website        116\n",
       "Unreachable                       93\n",
       "Unsubscribed                      61\n",
       "Had a Phone Conversation          30\n",
       "Approached upfront                 9\n",
       "View in browser link Clicked       6\n",
       "Email Received                     2\n",
       "Email Marked Spam                  2\n",
       "Visited Booth in Tradeshow         1\n",
       "Resubscribed to emails             1\n",
       "Name: Last Activity, dtype: int64"
      ]
     },
     "execution_count": 32,
     "metadata": {},
     "output_type": "execute_result"
    }
   ],
   "source": [
    "# Check the value counts for the column Last Activity\n",
    "lead_info['Last Activity'].value_counts()"
   ]
  },
  {
   "cell_type": "code",
   "execution_count": 33,
   "id": "b51e6e07",
   "metadata": {},
   "outputs": [],
   "source": [
    "# We shall impute the null values in Last Activity with new lable Others\n",
    "lead_info['Last Activity'] = lead_info['Last Activity'].replace(np.nan, 'Others')"
   ]
  },
  {
   "cell_type": "code",
   "execution_count": 34,
   "id": "d5d03238",
   "metadata": {},
   "outputs": [
    {
     "name": "stdout",
     "output_type": "stream",
     "text": [
      "Prospect ID                                 0.0\n",
      "Magazine                                    0.0\n",
      "A free copy of Mastering The Interview      0.0\n",
      "I agree to pay the amount through cheque    0.0\n",
      "Get updates on DM Content                   0.0\n",
      "Update me on Supply Chain Content           0.0\n",
      "Receive More Updates About Our Courses      0.0\n",
      "Through Recommendations                     0.0\n",
      "Digital Advertisement                       0.0\n",
      "Newspaper                                   0.0\n",
      "X Education Forums                          0.0\n",
      "Newspaper Article                           0.0\n",
      "Search                                      0.0\n",
      "Lead Number                                 0.0\n",
      "What is your current occupation             0.0\n",
      "Last Activity                               0.0\n",
      "Page Views Per Visit                        0.0\n",
      "Total Time Spent on Website                 0.0\n",
      "TotalVisits                                 0.0\n",
      "Converted                                   0.0\n",
      "Do Not Call                                 0.0\n",
      "Do Not Email                                0.0\n",
      "Lead Source                                 0.0\n",
      "Lead Origin                                 0.0\n",
      "Last Notable Activity                       0.0\n",
      "dtype: float64\n"
     ]
    }
   ],
   "source": [
    "# Again check for percentage of null values in each column\n",
    "percent_null = round(100*(lead_info.isnull().sum()/len(lead_info.index)), 2).sort_values(ascending=False)\n",
    "print(percent_null)"
   ]
  },
  {
   "cell_type": "markdown",
   "id": "a67e9ae8",
   "metadata": {},
   "source": [
    "All the null values in the columns now have either been imputed or we have dropped the columns which have more than 70% data concentrated towards one value."
   ]
  },
  {
   "cell_type": "markdown",
   "id": "52ef84f6",
   "metadata": {},
   "source": [
    "#### Checking Categorical columns :"
   ]
  },
  {
   "cell_type": "code",
   "execution_count": 35,
   "id": "44ceb831",
   "metadata": {},
   "outputs": [
    {
     "name": "stdout",
     "output_type": "stream",
     "text": [
      "000104b9-23e4-4ddc-8caa-8629fe8ad7f4    1\n",
      "a7a319ea-b6ae-4c6b-afc5-183b933d10b5    1\n",
      "aa27a0af-eeab-4007-a770-fa8a93fa53c8    1\n",
      "aa30ebb2-8476-41ce-9258-37cc025110d3    1\n",
      "aa405742-17ac-4c65-b19e-ab91c241cc53    1\n",
      "                                       ..\n",
      "539eb309-df36-4a89-ac58-6d3651393910    1\n",
      "539ffa32-1be7-4fe1-b04c-faf1bab763cf    1\n",
      "53aabd84-5dcc-4299-bbe3-62f3764b07b1    1\n",
      "53ac14bd-2bb2-4315-a21c-94562d1b6b2d    1\n",
      "fffb0e5e-9f92-4017-9f42-781a69da4154    1\n",
      "Name: Prospect ID, Length: 9240, dtype: int64\n",
      "********************************************\n",
      "Landing Page Submission    4886\n",
      "API                        3580\n",
      "Lead Add Form               718\n",
      "Lead Import                  55\n",
      "Quick Add Form                1\n",
      "Name: Lead Origin, dtype: int64\n",
      "********************************************\n",
      "Google               2873\n",
      "Direct Traffic       2543\n",
      "Olark Chat           1755\n",
      "Organic Search       1154\n",
      "Reference             534\n",
      "Welingak Website      142\n",
      "Referral Sites        125\n",
      "Facebook               55\n",
      "Others                 36\n",
      "bing                    6\n",
      "Click2call              4\n",
      "Social Media            2\n",
      "Press_Release           2\n",
      "Live Chat               2\n",
      "Pay per Click Ads       1\n",
      "WeLearn                 1\n",
      "NC_EDM                  1\n",
      "blog                    1\n",
      "testone                 1\n",
      "welearnblog_Home        1\n",
      "youtubechannel          1\n",
      "Name: Lead Source, dtype: int64\n",
      "********************************************\n",
      "No     8506\n",
      "Yes     734\n",
      "Name: Do Not Email, dtype: int64\n",
      "********************************************\n",
      "No     9238\n",
      "Yes       2\n",
      "Name: Do Not Call, dtype: int64\n",
      "********************************************\n",
      "Email Opened                    3437\n",
      "SMS Sent                        2745\n",
      "Olark Chat Conversation          973\n",
      "Page Visited on Website          640\n",
      "Converted to Lead                428\n",
      "Email Bounced                    326\n",
      "Email Link Clicked               267\n",
      "Form Submitted on Website        116\n",
      "Others                           103\n",
      "Unreachable                       93\n",
      "Unsubscribed                      61\n",
      "Had a Phone Conversation          30\n",
      "Approached upfront                 9\n",
      "View in browser link Clicked       6\n",
      "Email Received                     2\n",
      "Email Marked Spam                  2\n",
      "Resubscribed to emails             1\n",
      "Visited Booth in Tradeshow         1\n",
      "Name: Last Activity, dtype: int64\n",
      "********************************************\n",
      "Unemployed              5600\n",
      "No Information          2690\n",
      "Working Professional     706\n",
      "Student                  210\n",
      "Other                     16\n",
      "Housewife                 10\n",
      "Businessman                8\n",
      "Name: What is your current occupation, dtype: int64\n",
      "********************************************\n",
      "No     9226\n",
      "Yes      14\n",
      "Name: Search, dtype: int64\n",
      "********************************************\n",
      "No    9240\n",
      "Name: Magazine, dtype: int64\n",
      "********************************************\n",
      "No     9238\n",
      "Yes       2\n",
      "Name: Newspaper Article, dtype: int64\n",
      "********************************************\n",
      "No     9239\n",
      "Yes       1\n",
      "Name: X Education Forums, dtype: int64\n",
      "********************************************\n",
      "No     9239\n",
      "Yes       1\n",
      "Name: Newspaper, dtype: int64\n",
      "********************************************\n",
      "No     9236\n",
      "Yes       4\n",
      "Name: Digital Advertisement, dtype: int64\n",
      "********************************************\n",
      "No     9233\n",
      "Yes       7\n",
      "Name: Through Recommendations, dtype: int64\n",
      "********************************************\n",
      "No    9240\n",
      "Name: Receive More Updates About Our Courses, dtype: int64\n",
      "********************************************\n",
      "No    9240\n",
      "Name: Update me on Supply Chain Content, dtype: int64\n",
      "********************************************\n",
      "No    9240\n",
      "Name: Get updates on DM Content, dtype: int64\n",
      "********************************************\n",
      "No    9240\n",
      "Name: I agree to pay the amount through cheque, dtype: int64\n",
      "********************************************\n",
      "No     6352\n",
      "Yes    2888\n",
      "Name: A free copy of Mastering The Interview, dtype: int64\n",
      "********************************************\n",
      "Modified                        3407\n",
      "Email Opened                    2827\n",
      "SMS Sent                        2172\n",
      "Page Visited on Website          318\n",
      "Olark Chat Conversation          183\n",
      "Email Link Clicked               173\n",
      "Email Bounced                     60\n",
      "Unsubscribed                      47\n",
      "Unreachable                       32\n",
      "Had a Phone Conversation          14\n",
      "Email Marked Spam                  2\n",
      "Approached upfront                 1\n",
      "Email Received                     1\n",
      "Form Submitted on Website          1\n",
      "Resubscribed to emails             1\n",
      "View in browser link Clicked       1\n",
      "Name: Last Notable Activity, dtype: int64\n",
      "********************************************\n"
     ]
    }
   ],
   "source": [
    "lead_cat_col = lead_info.loc[:, lead_info.dtypes == 'object']\n",
    "for i in lead_cat_col:\n",
    "    print(lead_info[i].astype('category').value_counts())\n",
    "    print('********************************************')"
   ]
  },
  {
   "cell_type": "markdown",
   "id": "a8d2a24e",
   "metadata": {},
   "source": [
    "Based on the above result we can see few columns have data only under 'No' category and thus we will drop those columns."
   ]
  },
  {
   "cell_type": "code",
   "execution_count": 36,
   "id": "d89eb251",
   "metadata": {},
   "outputs": [],
   "source": [
    "# Dropping columns have only one value \"No\":\n",
    "\n",
    "# a) Magazine\n",
    "# b) Receive More Updates About Our Courses\n",
    "# c) Update me on Supply Chain Content\n",
    "# d) Get updates on DM Content\n",
    "# e) I agree to pay the amount through cheque\n",
    "\n",
    "lead_info = lead_info.drop(['Magazine', 'Receive More Updates About Our Courses', 'Update me on Supply Chain Content', \n",
    "                          'Get updates on DM Content', 'I agree to pay the amount through cheque'], axis=1)"
   ]
  },
  {
   "cell_type": "code",
   "execution_count": 37,
   "id": "b6eae7e3",
   "metadata": {},
   "outputs": [
    {
     "data": {
      "text/plain": [
       "(9240, 20)"
      ]
     },
     "execution_count": 37,
     "metadata": {},
     "output_type": "execute_result"
    }
   ],
   "source": [
    "#checking the shape of the dataframe as we have dropped many columns\n",
    "lead_info.shape"
   ]
  },
  {
   "cell_type": "code",
   "execution_count": 38,
   "id": "5e466787",
   "metadata": {},
   "outputs": [
    {
     "name": "stdout",
     "output_type": "stream",
     "text": [
      "<class 'pandas.core.frame.DataFrame'>\n",
      "RangeIndex: 9240 entries, 0 to 9239\n",
      "Data columns (total 20 columns):\n",
      " #   Column                                  Non-Null Count  Dtype  \n",
      "---  ------                                  --------------  -----  \n",
      " 0   Prospect ID                             9240 non-null   object \n",
      " 1   Lead Number                             9240 non-null   int64  \n",
      " 2   Lead Origin                             9240 non-null   object \n",
      " 3   Lead Source                             9240 non-null   object \n",
      " 4   Do Not Email                            9240 non-null   object \n",
      " 5   Do Not Call                             9240 non-null   object \n",
      " 6   Converted                               9240 non-null   int64  \n",
      " 7   TotalVisits                             9240 non-null   float64\n",
      " 8   Total Time Spent on Website             9240 non-null   int64  \n",
      " 9   Page Views Per Visit                    9240 non-null   float64\n",
      " 10  Last Activity                           9240 non-null   object \n",
      " 11  What is your current occupation         9240 non-null   object \n",
      " 12  Search                                  9240 non-null   object \n",
      " 13  Newspaper Article                       9240 non-null   object \n",
      " 14  X Education Forums                      9240 non-null   object \n",
      " 15  Newspaper                               9240 non-null   object \n",
      " 16  Digital Advertisement                   9240 non-null   object \n",
      " 17  Through Recommendations                 9240 non-null   object \n",
      " 18  A free copy of Mastering The Interview  9240 non-null   object \n",
      " 19  Last Notable Activity                   9240 non-null   object \n",
      "dtypes: float64(2), int64(3), object(15)\n",
      "memory usage: 1.4+ MB\n"
     ]
    }
   ],
   "source": [
    "#checking the info of dataframe\n",
    "lead_info.info()"
   ]
  },
  {
   "cell_type": "markdown",
   "id": "8978a4d7",
   "metadata": {},
   "source": [
    "#### Treating Outliers :"
   ]
  },
  {
   "cell_type": "code",
   "execution_count": 42,
   "id": "8af48051",
   "metadata": {},
   "outputs": [
    {
     "data": {
      "text/html": [
       "<div>\n",
       "<style scoped>\n",
       "    .dataframe tbody tr th:only-of-type {\n",
       "        vertical-align: middle;\n",
       "    }\n",
       "\n",
       "    .dataframe tbody tr th {\n",
       "        vertical-align: top;\n",
       "    }\n",
       "\n",
       "    .dataframe thead th {\n",
       "        text-align: right;\n",
       "    }\n",
       "</style>\n",
       "<table border=\"1\" class=\"dataframe\">\n",
       "  <thead>\n",
       "    <tr style=\"text-align: right;\">\n",
       "      <th></th>\n",
       "      <th>count</th>\n",
       "      <th>mean</th>\n",
       "      <th>std</th>\n",
       "      <th>min</th>\n",
       "      <th>25%</th>\n",
       "      <th>50%</th>\n",
       "      <th>75%</th>\n",
       "      <th>90%</th>\n",
       "      <th>95%</th>\n",
       "      <th>99%</th>\n",
       "      <th>max</th>\n",
       "    </tr>\n",
       "  </thead>\n",
       "  <tbody>\n",
       "    <tr>\n",
       "      <th>Lead Number</th>\n",
       "      <td>9240.0</td>\n",
       "      <td>617188.435606</td>\n",
       "      <td>23405.995698</td>\n",
       "      <td>579533.0</td>\n",
       "      <td>596484.5</td>\n",
       "      <td>615479.0</td>\n",
       "      <td>637387.25</td>\n",
       "      <td>650506.1</td>\n",
       "      <td>655404.05</td>\n",
       "      <td>659592.98</td>\n",
       "      <td>660737.0</td>\n",
       "    </tr>\n",
       "    <tr>\n",
       "      <th>Converted</th>\n",
       "      <td>9240.0</td>\n",
       "      <td>0.385390</td>\n",
       "      <td>0.486714</td>\n",
       "      <td>0.0</td>\n",
       "      <td>0.0</td>\n",
       "      <td>0.0</td>\n",
       "      <td>1.00</td>\n",
       "      <td>1.0</td>\n",
       "      <td>1.00</td>\n",
       "      <td>1.00</td>\n",
       "      <td>1.0</td>\n",
       "    </tr>\n",
       "    <tr>\n",
       "      <th>TotalVisits</th>\n",
       "      <td>9240.0</td>\n",
       "      <td>3.438636</td>\n",
       "      <td>4.819024</td>\n",
       "      <td>0.0</td>\n",
       "      <td>1.0</td>\n",
       "      <td>3.0</td>\n",
       "      <td>5.00</td>\n",
       "      <td>7.0</td>\n",
       "      <td>10.00</td>\n",
       "      <td>17.00</td>\n",
       "      <td>251.0</td>\n",
       "    </tr>\n",
       "    <tr>\n",
       "      <th>Total Time Spent on Website</th>\n",
       "      <td>9240.0</td>\n",
       "      <td>487.698268</td>\n",
       "      <td>548.021466</td>\n",
       "      <td>0.0</td>\n",
       "      <td>12.0</td>\n",
       "      <td>248.0</td>\n",
       "      <td>936.00</td>\n",
       "      <td>1380.0</td>\n",
       "      <td>1562.00</td>\n",
       "      <td>1840.61</td>\n",
       "      <td>2272.0</td>\n",
       "    </tr>\n",
       "    <tr>\n",
       "      <th>Page Views Per Visit</th>\n",
       "      <td>9240.0</td>\n",
       "      <td>2.357440</td>\n",
       "      <td>2.145781</td>\n",
       "      <td>0.0</td>\n",
       "      <td>1.0</td>\n",
       "      <td>2.0</td>\n",
       "      <td>3.00</td>\n",
       "      <td>5.0</td>\n",
       "      <td>6.00</td>\n",
       "      <td>9.00</td>\n",
       "      <td>55.0</td>\n",
       "    </tr>\n",
       "  </tbody>\n",
       "</table>\n",
       "</div>"
      ],
      "text/plain": [
       "                              count           mean           std       min  \\\n",
       "Lead Number                  9240.0  617188.435606  23405.995698  579533.0   \n",
       "Converted                    9240.0       0.385390      0.486714       0.0   \n",
       "TotalVisits                  9240.0       3.438636      4.819024       0.0   \n",
       "Total Time Spent on Website  9240.0     487.698268    548.021466       0.0   \n",
       "Page Views Per Visit         9240.0       2.357440      2.145781       0.0   \n",
       "\n",
       "                                  25%       50%        75%       90%  \\\n",
       "Lead Number                  596484.5  615479.0  637387.25  650506.1   \n",
       "Converted                         0.0       0.0       1.00       1.0   \n",
       "TotalVisits                       1.0       3.0       5.00       7.0   \n",
       "Total Time Spent on Website      12.0     248.0     936.00    1380.0   \n",
       "Page Views Per Visit              1.0       2.0       3.00       5.0   \n",
       "\n",
       "                                   95%        99%       max  \n",
       "Lead Number                  655404.05  659592.98  660737.0  \n",
       "Converted                         1.00       1.00       1.0  \n",
       "TotalVisits                      10.00      17.00     251.0  \n",
       "Total Time Spent on Website    1562.00    1840.61    2272.0  \n",
       "Page Views Per Visit              6.00       9.00      55.0  "
      ]
     },
     "execution_count": 42,
     "metadata": {},
     "output_type": "execute_result"
    }
   ],
   "source": [
    "#Checking outliers at 25%,50%,75%,90%,95% and above\n",
    "lead_info.describe(percentiles=[.25,.5,.75,.90,.95,.99]).transpose()"
   ]
  },
  {
   "cell_type": "markdown",
   "id": "43e78121",
   "metadata": {},
   "source": [
    "Based on the above result we can see that outlier exists in the columns TotalVisits and Page Views Per Visit columns."
   ]
  },
  {
   "cell_type": "code",
   "execution_count": 43,
   "id": "656d3429",
   "metadata": {},
   "outputs": [
    {
     "data": {
      "image/png": "[encoded data removed]",
      "text/plain": [
       "<Figure size 2000x2500 with 3 Axes>"
      ]
     },
     "metadata": {},
     "output_type": "display_data"
    }
   ],
   "source": [
    "#ploting for the check of outliers \n",
    "plt.figure(figsize=(20, 25))\n",
    "plt.subplot(4,3,1)\n",
    "sns.boxplot(y = 'TotalVisits', data = lead_info)\n",
    "plt.subplot(4,3,2)\n",
    "sns.boxplot(y = 'Total Time Spent on Website',  data = lead_info)\n",
    "plt.subplot(4,3,3)\n",
    "sns.boxplot(y = 'Page Views Per Visit', data = lead_info)\n",
    "plt.show()\n"
   ]
  },
  {
   "cell_type": "markdown",
   "id": "5018d1ba",
   "metadata": {},
   "source": [
    "we will try to remove the 0.99 percentail data so we can have balanced data for Page Views Per Visit and TotalVisits numerical columns."
   ]
  },
  {
   "cell_type": "code",
   "execution_count": 44,
   "id": "b461a0df",
   "metadata": {},
   "outputs": [],
   "source": [
    "# Removing values from 0.99 percentail for Total Visits\n",
    "total_visits_quantile = lead_info['TotalVisits'].quantile(0.99)\n",
    "lead_info = lead_info[lead_info[\"TotalVisits\"] < total_visits_quantile]"
   ]
  },
  {
   "cell_type": "code",
   "execution_count": 45,
   "id": "0711f999",
   "metadata": {},
   "outputs": [],
   "source": [
    "# Removing values from 0.99 percentail for Page Views Per Visit\n",
    "pages_per_visits_quantile = lead_info['Page Views Per Visit'].quantile(0.99)\n",
    "lead_info = lead_info[lead_info[\"Page Views Per Visit\"] < pages_per_visits_quantile]"
   ]
  },
  {
   "cell_type": "code",
   "execution_count": 47,
   "id": "469930a8",
   "metadata": {},
   "outputs": [
    {
     "data": {
      "image/png": "[encoded data removed]",
      "text/plain": [
       "<Figure size 2000x2500 with 3 Axes>"
      ]
     },
     "metadata": {},
     "output_type": "display_data"
    }
   ],
   "source": [
    "#Rechecking the columns with the plot\n",
    "plt.figure(figsize=(20, 25))\n",
    "plt.subplot(4,3,1)\n",
    "sns.boxplot(y = 'TotalVisits', data = lead_info)\n",
    "plt.subplot(4,3,2)\n",
    "sns.boxplot(y = 'Total Time Spent on Website',  data = lead_info)\n",
    "plt.subplot(4,3,3)\n",
    "sns.boxplot(y = 'Page Views Per Visit',  data = lead_info)\n",
    "plt.show()"
   ]
  },
  {
   "cell_type": "markdown",
   "id": "e38c411f",
   "metadata": {},
   "source": [
    "Based on the above result we have treated the outliers and the data seems to be better that before treatment to outliers."
   ]
  },
  {
   "cell_type": "markdown",
   "id": "9e465c6c",
   "metadata": {},
   "source": [
    "### 3.Data Analysis:"
   ]
  },
  {
   "cell_type": "markdown",
   "id": "b60dd19d",
   "metadata": {},
   "source": [
    "#### Uni-variate/BI-Variate Analysis:"
   ]
  },
  {
   "cell_type": "code",
   "execution_count": 49,
   "id": "3863003a",
   "metadata": {},
   "outputs": [
    {
     "data": {
      "text/plain": [
       "0    5552\n",
       "1    3477\n",
       "Name: Converted, dtype: int64"
      ]
     },
     "execution_count": 49,
     "metadata": {},
     "output_type": "execute_result"
    }
   ],
   "source": [
    "#checking on the target variable Converted \n",
    "lead_info.Converted.value_counts()"
   ]
  },
  {
   "cell_type": "code",
   "execution_count": 53,
   "id": "37bf2198",
   "metadata": {},
   "outputs": [
    {
     "data": {
      "image/png": "[encoded data removed]",
      "text/plain": [
       "<Figure size 640x480 with 1 Axes>"
      ]
     },
     "metadata": {},
     "output_type": "display_data"
    }
   ],
   "source": [
    "plt.title(\"Target Variable \\n\", fontdict={'fontsize': 12, 'fontweight' : 2, 'color' : 'Red'})\n",
    "plt.ylabel(\"Converted\", fontdict={'fontsize': 12, 'fontweight' : 5, 'color' : 'Brown'})\n",
    "lead_info.Converted.value_counts(normalize=True).plot.bar()\n",
    "plt.show()"
   ]
  },
  {
   "cell_type": "code",
   "execution_count": 56,
   "id": "d4a1631b",
   "metadata": {},
   "outputs": [
    {
     "data": {
      "image/png": "[encoded data removed]",
      "text/plain": [
       "<Figure size 640x480 with 1 Axes>"
      ]
     },
     "metadata": {},
     "output_type": "display_data"
    }
   ],
   "source": [
    "## Lead Origin \n",
    "sns.countplot(x = \"Lead Origin\", hue = \"Converted\", data = lead_info)\n",
    "plt.xticks(rotation = 90)\n",
    "plt.show()"
   ]
  },
  {
   "cell_type": "markdown",
   "id": "c0a680a3",
   "metadata": {},
   "source": [
    "Base on the result we can make the inference as \n",
    "\n",
    "1.API and Landing Page Submission have around 35-40% conversion rate but count of lead originated from them are considerable.\n",
    "\n",
    "2.Lead Add Form has more than 90% conversion rate but count of lead are not very high.\n",
    "\n",
    "3.Lead Import and Quick Add From are very less in count."
   ]
  },
  {
   "cell_type": "code",
   "execution_count": 57,
   "id": "570e3960",
   "metadata": {},
   "outputs": [
    {
     "data": {
      "image/png": "[encoded data removed]",
      "text/plain": [
       "<Figure size 640x480 with 1 Axes>"
      ]
     },
     "metadata": {},
     "output_type": "display_data"
    }
   ],
   "source": [
    "## Lead Source\n",
    "sns.countplot(x = \"Lead Source\", hue = \"Converted\", data = lead_info)\n",
    "plt.xticks(rotation = 90)\n",
    "plt.show()"
   ]
  },
  {
   "cell_type": "markdown",
   "id": "011f6953",
   "metadata": {},
   "source": [
    "Base on the result we can make the inference as\n",
    "\n",
    "1.Direct Traffic and Google are generating high number of leads; should be focused for their conversion.\n",
    "\n",
    "2.Welingak and Reference are having more conversion rate hence should be focused to generate more leads.\n",
    "\n",
    "3.leads from Olark Chat and Organic Search should be focused for conversion."
   ]
  },
  {
   "cell_type": "code",
   "execution_count": 58,
   "id": "0de0dffb",
   "metadata": {},
   "outputs": [
    {
     "data": {
      "image/png": "[encoded data removed]",
      "text/plain": [
       "<Figure size 640x480 with 1 Axes>"
      ]
     },
     "metadata": {},
     "output_type": "display_data"
    }
   ],
   "source": [
    "#Last Activity\n",
    "sns.countplot(x = \"Last Activity\", hue = \"Converted\", data = lead_info)\n",
    "plt.xticks(rotation = 90)\n",
    "plt.show()"
   ]
  },
  {
   "cell_type": "markdown",
   "id": "39d106a6",
   "metadata": {},
   "source": [
    "Base on the result we can make the inference as\n",
    "\n",
    "1.Most of the leads have Email Opened and SMS Sent. More focus should be on leads opening email.\n",
    "\n",
    "2.conversion rate for SMS sent is very high and hence they should be targeted for lead conversion."
   ]
  },
  {
   "cell_type": "code",
   "execution_count": 59,
   "id": "44583da9",
   "metadata": {},
   "outputs": [
    {
     "data": {
      "image/png": "[encoded data removed]",
      "text/plain": [
       "<Figure size 640x480 with 1 Axes>"
      ]
     },
     "metadata": {},
     "output_type": "display_data"
    }
   ],
   "source": [
    "## What is your current occupation\n",
    "sns.countplot(x = \"What is your current occupation\", hue = \"Converted\", data = lead_info)\n",
    "plt.xticks(rotation = 90)\n",
    "plt.show()"
   ]
  },
  {
   "cell_type": "markdown",
   "id": "a55c69e2",
   "metadata": {},
   "source": [
    "Based on the above result we can infer as \n",
    "\n",
    "1.Working prefessionals have high conversion. focus should be on them for more leads.\n",
    "\n",
    "2.Most of the leads are from Unemployed section, foucs should be increasing conversion from them.\n"
   ]
  },
  {
   "cell_type": "code",
   "execution_count": 60,
   "id": "4a3a33c4",
   "metadata": {},
   "outputs": [
    {
     "data": {
      "image/png": "[encoded data removed]",
      "text/plain": [
       "<Figure size 640x480 with 1 Axes>"
      ]
     },
     "metadata": {},
     "output_type": "display_data"
    }
   ],
   "source": [
    "## Search\n",
    "sns.countplot(x = \"Search\", hue = \"Converted\", data = lead_info)\n",
    "plt.xticks(rotation = 90)\n",
    "plt.show()"
   ]
  },
  {
   "cell_type": "markdown",
   "id": "e771f15c",
   "metadata": {},
   "source": [
    "Based on the result we can infer that Conversion rate is high on leads who are not through search."
   ]
  },
  {
   "cell_type": "code",
   "execution_count": 61,
   "id": "1445f19c",
   "metadata": {},
   "outputs": [
    {
     "data": {
      "image/png": "[encoded data removed]",
      "text/plain": [
       "<Figure size 640x480 with 1 Axes>"
      ]
     },
     "metadata": {},
     "output_type": "display_data"
    }
   ],
   "source": [
    "## Newspaper Article\n",
    "sns.countplot(x = \"Newspaper Article\", hue = \"Converted\", data = lead_info)\n",
    "plt.xticks(rotation = 90)\n",
    "plt.show()"
   ]
  },
  {
   "cell_type": "markdown",
   "id": "b7e65037",
   "metadata": {},
   "source": [
    "Since \"Newspaper Article\" column now has only one value for all rows - \"No\" , it is safe to drop this column"
   ]
  },
  {
   "cell_type": "code",
   "execution_count": 62,
   "id": "be5ad36f",
   "metadata": {},
   "outputs": [],
   "source": [
    "#dropping NewsPaper Article\n",
    "lead_info = lead_info.drop(['Newspaper Article'], axis=1)"
   ]
  },
  {
   "cell_type": "code",
   "execution_count": 63,
   "id": "efac1ebe",
   "metadata": {},
   "outputs": [
    {
     "data": {
      "image/png": "[encoded data removed]",
      "text/plain": [
       "<Figure size 640x480 with 1 Axes>"
      ]
     },
     "metadata": {},
     "output_type": "display_data"
    }
   ],
   "source": [
    "#X Education Forums\n",
    "sns.countplot(x = \"X Education Forums\", hue = \"Converted\", data = lead_info)\n",
    "plt.xticks(rotation = 90)\n",
    "plt.show()"
   ]
  },
  {
   "cell_type": "markdown",
   "id": "53a2c22f",
   "metadata": {},
   "source": [
    "Since \"X Education Forums\" column now has only one value for all rows - \"No\" , it is safe to drop this column."
   ]
  },
  {
   "cell_type": "code",
   "execution_count": 64,
   "id": "119d1dca",
   "metadata": {},
   "outputs": [],
   "source": [
    "#dropping X Education Forum column\n",
    "\n",
    "lead_info = lead_info.drop(['X Education Forums'], axis=1)"
   ]
  },
  {
   "cell_type": "code",
   "execution_count": 65,
   "id": "5d8174c2",
   "metadata": {},
   "outputs": [
    {
     "data": {
      "text/plain": [
       "No     9028\n",
       "Yes       1\n",
       "Name: Newspaper, dtype: int64"
      ]
     },
     "execution_count": 65,
     "metadata": {},
     "output_type": "execute_result"
    }
   ],
   "source": [
    "#checking NewsPaper column\n",
    "lead_info.Newspaper.value_counts()"
   ]
  },
  {
   "cell_type": "code",
   "execution_count": 66,
   "id": "af652cf7",
   "metadata": {},
   "outputs": [],
   "source": [
    "#dropping newspaper column as it has only one Yes\n",
    "lead_info = lead_info.drop(['Newspaper'], axis=1)"
   ]
  },
  {
   "cell_type": "code",
   "execution_count": 67,
   "id": "e47ec462",
   "metadata": {},
   "outputs": [
    {
     "data": {
      "image/png": "[encoded data removed]",
      "text/plain": [
       "<Figure size 640x480 with 1 Axes>"
      ]
     },
     "metadata": {},
     "output_type": "display_data"
    }
   ],
   "source": [
    "#checking column A free copy of Mastering The Interview\n",
    "sns.countplot(x = \"A free copy of Mastering The Interview\", hue = \"Converted\", data = lead_info)\n",
    "plt.xticks(rotation = 90)\n",
    "plt.show()"
   ]
  },
  {
   "cell_type": "markdown",
   "id": "5c2d0f48",
   "metadata": {},
   "source": [
    "Based on the result we can infer as more leads are from those who do not ask for free copy of Mastering Interviews. Can be focused for conversion."
   ]
  },
  {
   "cell_type": "code",
   "execution_count": 68,
   "id": "50dd3cc9",
   "metadata": {},
   "outputs": [
    {
     "data": {
      "image/png": "[encoded data removed]",
      "text/plain": [
       "<Figure size 640x480 with 1 Axes>"
      ]
     },
     "metadata": {},
     "output_type": "display_data"
    }
   ],
   "source": [
    "## Last Notable Activity\n",
    "sns.countplot(x = \"Last Notable Activity\", hue = \"Converted\", data = lead_info)\n",
    "plt.xticks(rotation = 90)\n",
    "plt.show()"
   ]
  },
  {
   "cell_type": "markdown",
   "id": "72d20de3",
   "metadata": {},
   "source": [
    "Based on the result we can infer as \n",
    "\n",
    "1.More leads are from those who have modified their account or opened email. Thus focus should be on their conversion.\n",
    "\n",
    "2.SMS sent have high converison."
   ]
  },
  {
   "cell_type": "markdown",
   "id": "2acc381d",
   "metadata": {},
   "source": [
    "#### Numerical columns Analysis:"
   ]
  },
  {
   "cell_type": "code",
   "execution_count": 69,
   "id": "9cd63b5b",
   "metadata": {},
   "outputs": [
    {
     "data": {
      "image/png": "[encoded data removed]",
      "text/plain": [
       "<Figure size 640x480 with 2 Axes>"
      ]
     },
     "metadata": {},
     "output_type": "display_data"
    }
   ],
   "source": [
    "sns.heatmap(lead_info.corr(),annot=True)\n",
    "plt.show()"
   ]
  },
  {
   "cell_type": "markdown",
   "id": "0cce92db",
   "metadata": {},
   "source": [
    "Based on the heat map we can see the strong correlation between 'TotalVisits' and 'Page Views Per Visit'."
   ]
  },
  {
   "cell_type": "markdown",
   "id": "232453d2",
   "metadata": {},
   "source": [
    "### 4.Data Preparation - Creating Dummies"
   ]
  },
  {
   "cell_type": "markdown",
   "id": "dd827fba",
   "metadata": {},
   "source": [
    "Converting some binary variables from Yes & No to 0 & 1."
   ]
  },
  {
   "cell_type": "code",
   "execution_count": 70,
   "id": "9f0e130f",
   "metadata": {},
   "outputs": [],
   "source": [
    "var_list=['Do Not Email', 'Do Not Call', 'Search', 'Digital Advertisement', \n",
    "          'Through Recommendations', 'A free copy of Mastering The Interview']\n",
    "\n",
    "# Defining the map function\n",
    "def binary_map(x):\n",
    "    return x.map({'Yes': 1, \"No\": 0})\n",
    "\n",
    "# Applying the function to the columns\n",
    "lead_info[var_list] = lead_info[var_list].apply(binary_map)"
   ]
  },
  {
   "cell_type": "code",
   "execution_count": 71,
   "id": "b1fb5b08",
   "metadata": {},
   "outputs": [
    {
     "data": {
      "text/html": [
       "<div>\n",
       "<style scoped>\n",
       "    .dataframe tbody tr th:only-of-type {\n",
       "        vertical-align: middle;\n",
       "    }\n",
       "\n",
       "    .dataframe tbody tr th {\n",
       "        vertical-align: top;\n",
       "    }\n",
       "\n",
       "    .dataframe thead th {\n",
       "        text-align: right;\n",
       "    }\n",
       "</style>\n",
       "<table border=\"1\" class=\"dataframe\">\n",
       "  <thead>\n",
       "    <tr style=\"text-align: right;\">\n",
       "      <th></th>\n",
       "      <th>Do Not Email</th>\n",
       "      <th>Do Not Call</th>\n",
       "      <th>Search</th>\n",
       "      <th>Digital Advertisement</th>\n",
       "      <th>Through Recommendations</th>\n",
       "      <th>A free copy of Mastering The Interview</th>\n",
       "    </tr>\n",
       "  </thead>\n",
       "  <tbody>\n",
       "    <tr>\n",
       "      <th>0</th>\n",
       "      <td>0</td>\n",
       "      <td>0</td>\n",
       "      <td>0</td>\n",
       "      <td>0</td>\n",
       "      <td>0</td>\n",
       "      <td>0</td>\n",
       "    </tr>\n",
       "    <tr>\n",
       "      <th>1</th>\n",
       "      <td>0</td>\n",
       "      <td>0</td>\n",
       "      <td>0</td>\n",
       "      <td>0</td>\n",
       "      <td>0</td>\n",
       "      <td>0</td>\n",
       "    </tr>\n",
       "    <tr>\n",
       "      <th>2</th>\n",
       "      <td>0</td>\n",
       "      <td>0</td>\n",
       "      <td>0</td>\n",
       "      <td>0</td>\n",
       "      <td>0</td>\n",
       "      <td>1</td>\n",
       "    </tr>\n",
       "    <tr>\n",
       "      <th>3</th>\n",
       "      <td>0</td>\n",
       "      <td>0</td>\n",
       "      <td>0</td>\n",
       "      <td>0</td>\n",
       "      <td>0</td>\n",
       "      <td>0</td>\n",
       "    </tr>\n",
       "    <tr>\n",
       "      <th>4</th>\n",
       "      <td>0</td>\n",
       "      <td>0</td>\n",
       "      <td>0</td>\n",
       "      <td>0</td>\n",
       "      <td>0</td>\n",
       "      <td>0</td>\n",
       "    </tr>\n",
       "  </tbody>\n",
       "</table>\n",
       "</div>"
      ],
      "text/plain": [
       "   Do Not Email  Do Not Call  Search  Digital Advertisement  \\\n",
       "0             0            0       0                      0   \n",
       "1             0            0       0                      0   \n",
       "2             0            0       0                      0   \n",
       "3             0            0       0                      0   \n",
       "4             0            0       0                      0   \n",
       "\n",
       "   Through Recommendations  A free copy of Mastering The Interview  \n",
       "0                        0                                       0  \n",
       "1                        0                                       0  \n",
       "2                        0                                       1  \n",
       "3                        0                                       0  \n",
       "4                        0                                       0  "
      ]
     },
     "execution_count": 71,
     "metadata": {},
     "output_type": "execute_result"
    }
   ],
   "source": [
    "#checking on the conversion was done or not \n",
    "lead_info[var_list].head()"
   ]
  },
  {
   "cell_type": "code",
   "execution_count": 72,
   "id": "2cfa806a",
   "metadata": {},
   "outputs": [
    {
     "data": {
      "text/html": [
       "<div>\n",
       "<style scoped>\n",
       "    .dataframe tbody tr th:only-of-type {\n",
       "        vertical-align: middle;\n",
       "    }\n",
       "\n",
       "    .dataframe tbody tr th {\n",
       "        vertical-align: top;\n",
       "    }\n",
       "\n",
       "    .dataframe thead th {\n",
       "        text-align: right;\n",
       "    }\n",
       "</style>\n",
       "<table border=\"1\" class=\"dataframe\">\n",
       "  <thead>\n",
       "    <tr style=\"text-align: right;\">\n",
       "      <th></th>\n",
       "      <th>Prospect ID</th>\n",
       "      <th>Lead Number</th>\n",
       "      <th>Lead Origin</th>\n",
       "      <th>Lead Source</th>\n",
       "      <th>Do Not Email</th>\n",
       "      <th>Do Not Call</th>\n",
       "      <th>Converted</th>\n",
       "      <th>TotalVisits</th>\n",
       "      <th>Total Time Spent on Website</th>\n",
       "      <th>Page Views Per Visit</th>\n",
       "      <th>Last Activity</th>\n",
       "      <th>What is your current occupation</th>\n",
       "      <th>Search</th>\n",
       "      <th>Digital Advertisement</th>\n",
       "      <th>Through Recommendations</th>\n",
       "      <th>A free copy of Mastering The Interview</th>\n",
       "      <th>Last Notable Activity</th>\n",
       "    </tr>\n",
       "  </thead>\n",
       "  <tbody>\n",
       "    <tr>\n",
       "      <th>0</th>\n",
       "      <td>7927b2df-8bba-4d29-b9a2-b6e0beafe620</td>\n",
       "      <td>660737</td>\n",
       "      <td>API</td>\n",
       "      <td>Olark Chat</td>\n",
       "      <td>0</td>\n",
       "      <td>0</td>\n",
       "      <td>0</td>\n",
       "      <td>0.0</td>\n",
       "      <td>0</td>\n",
       "      <td>0.0</td>\n",
       "      <td>Page Visited on Website</td>\n",
       "      <td>Unemployed</td>\n",
       "      <td>0</td>\n",
       "      <td>0</td>\n",
       "      <td>0</td>\n",
       "      <td>0</td>\n",
       "      <td>Modified</td>\n",
       "    </tr>\n",
       "    <tr>\n",
       "      <th>1</th>\n",
       "      <td>2a272436-5132-4136-86fa-dcc88c88f482</td>\n",
       "      <td>660728</td>\n",
       "      <td>API</td>\n",
       "      <td>Organic Search</td>\n",
       "      <td>0</td>\n",
       "      <td>0</td>\n",
       "      <td>0</td>\n",
       "      <td>5.0</td>\n",
       "      <td>674</td>\n",
       "      <td>2.5</td>\n",
       "      <td>Email Opened</td>\n",
       "      <td>Unemployed</td>\n",
       "      <td>0</td>\n",
       "      <td>0</td>\n",
       "      <td>0</td>\n",
       "      <td>0</td>\n",
       "      <td>Email Opened</td>\n",
       "    </tr>\n",
       "    <tr>\n",
       "      <th>2</th>\n",
       "      <td>8cc8c611-a219-4f35-ad23-fdfd2656bd8a</td>\n",
       "      <td>660727</td>\n",
       "      <td>Landing Page Submission</td>\n",
       "      <td>Direct Traffic</td>\n",
       "      <td>0</td>\n",
       "      <td>0</td>\n",
       "      <td>1</td>\n",
       "      <td>2.0</td>\n",
       "      <td>1532</td>\n",
       "      <td>2.0</td>\n",
       "      <td>Email Opened</td>\n",
       "      <td>Student</td>\n",
       "      <td>0</td>\n",
       "      <td>0</td>\n",
       "      <td>0</td>\n",
       "      <td>1</td>\n",
       "      <td>Email Opened</td>\n",
       "    </tr>\n",
       "    <tr>\n",
       "      <th>3</th>\n",
       "      <td>0cc2df48-7cf4-4e39-9de9-19797f9b38cc</td>\n",
       "      <td>660719</td>\n",
       "      <td>Landing Page Submission</td>\n",
       "      <td>Direct Traffic</td>\n",
       "      <td>0</td>\n",
       "      <td>0</td>\n",
       "      <td>0</td>\n",
       "      <td>1.0</td>\n",
       "      <td>305</td>\n",
       "      <td>1.0</td>\n",
       "      <td>Unreachable</td>\n",
       "      <td>Unemployed</td>\n",
       "      <td>0</td>\n",
       "      <td>0</td>\n",
       "      <td>0</td>\n",
       "      <td>0</td>\n",
       "      <td>Modified</td>\n",
       "    </tr>\n",
       "    <tr>\n",
       "      <th>4</th>\n",
       "      <td>3256f628-e534-4826-9d63-4a8b88782852</td>\n",
       "      <td>660681</td>\n",
       "      <td>Landing Page Submission</td>\n",
       "      <td>Google</td>\n",
       "      <td>0</td>\n",
       "      <td>0</td>\n",
       "      <td>1</td>\n",
       "      <td>2.0</td>\n",
       "      <td>1428</td>\n",
       "      <td>1.0</td>\n",
       "      <td>Converted to Lead</td>\n",
       "      <td>Unemployed</td>\n",
       "      <td>0</td>\n",
       "      <td>0</td>\n",
       "      <td>0</td>\n",
       "      <td>0</td>\n",
       "      <td>Modified</td>\n",
       "    </tr>\n",
       "  </tbody>\n",
       "</table>\n",
       "</div>"
      ],
      "text/plain": [
       "                            Prospect ID  Lead Number              Lead Origin  \\\n",
       "0  7927b2df-8bba-4d29-b9a2-b6e0beafe620       660737                      API   \n",
       "1  2a272436-5132-4136-86fa-dcc88c88f482       660728                      API   \n",
       "2  8cc8c611-a219-4f35-ad23-fdfd2656bd8a       660727  Landing Page Submission   \n",
       "3  0cc2df48-7cf4-4e39-9de9-19797f9b38cc       660719  Landing Page Submission   \n",
       "4  3256f628-e534-4826-9d63-4a8b88782852       660681  Landing Page Submission   \n",
       "\n",
       "      Lead Source  Do Not Email  Do Not Call  Converted  TotalVisits  \\\n",
       "0      Olark Chat             0            0          0          0.0   \n",
       "1  Organic Search             0            0          0          5.0   \n",
       "2  Direct Traffic             0            0          1          2.0   \n",
       "3  Direct Traffic             0            0          0          1.0   \n",
       "4          Google             0            0          1          2.0   \n",
       "\n",
       "   Total Time Spent on Website  Page Views Per Visit            Last Activity  \\\n",
       "0                            0                   0.0  Page Visited on Website   \n",
       "1                          674                   2.5             Email Opened   \n",
       "2                         1532                   2.0             Email Opened   \n",
       "3                          305                   1.0              Unreachable   \n",
       "4                         1428                   1.0        Converted to Lead   \n",
       "\n",
       "  What is your current occupation  Search  Digital Advertisement  \\\n",
       "0                      Unemployed       0                      0   \n",
       "1                      Unemployed       0                      0   \n",
       "2                         Student       0                      0   \n",
       "3                      Unemployed       0                      0   \n",
       "4                      Unemployed       0                      0   \n",
       "\n",
       "   Through Recommendations  A free copy of Mastering The Interview  \\\n",
       "0                        0                                       0   \n",
       "1                        0                                       0   \n",
       "2                        0                                       1   \n",
       "3                        0                                       0   \n",
       "4                        0                                       0   \n",
       "\n",
       "  Last Notable Activity  \n",
       "0              Modified  \n",
       "1          Email Opened  \n",
       "2          Email Opened  \n",
       "3              Modified  \n",
       "4              Modified  "
      ]
     },
     "execution_count": 72,
     "metadata": {},
     "output_type": "execute_result"
    }
   ],
   "source": [
    "lead_info.head()"
   ]
  },
  {
   "cell_type": "code",
   "execution_count": 73,
   "id": "1eea082a",
   "metadata": {},
   "outputs": [],
   "source": [
    "#creating dummies for the below \n",
    "# Lead Origin : \n",
    "\n",
    "d_lead_origin = pd.get_dummies(lead_info['Lead Origin'], prefix='LeadOrigin')\n",
    "# Dropping quick Add Form column\n",
    "d_lead_origin1 = d_lead_origin.drop(['LeadOrigin_Quick Add Form'], 1)\n",
    "#Adding the results to the master dataframe\n",
    "lead_info = pd.concat([lead_info, d_lead_origin1], axis = 1)\n",
    "\n",
    "# Lead Source :\n",
    "\n",
    "d_lead_source = pd.get_dummies(lead_info['Lead Source'], prefix='LeadSource')\n",
    "# Dropping blog column\n",
    "d_lead_source1 = d_lead_source.drop(['LeadSource_NC_EDM'], 1)\n",
    "# Adding the results to the master dataframe\n",
    "lead_info = pd.concat([lead_info,d_lead_source1], axis=1)\n",
    "\n",
    "# last Activity\n",
    "\n",
    "d_last_activity = pd.get_dummies(lead_info['Last Activity'], prefix='LastActivity')\n",
    "# Dropping Resubscribed to emails column\n",
    "d_last_activity1 = d_last_activity.drop(['LastActivity_Resubscribed to emails'], 1)\n",
    "# Adding the results to the master dataframe\n",
    "lead_info = pd.concat([lead_info,d_last_activity1], axis=1)\n",
    "\n",
    "# What is your current occupation\n",
    "\n",
    "d_curr_occupation = pd.get_dummies(lead_info['What is your current occupation'], prefix='CurrentOccupation')\n",
    "# Dropping No Information column\n",
    "d_curr_occupation1 = d_curr_occupation.drop(['CurrentOccupation_Businessman'], 1)\n",
    "# Adding the results to the master dataframe\n",
    "lead_info = pd.concat([lead_info,d_curr_occupation1], axis=1)\n",
    "\n",
    "# Last Notable Activity\n",
    "\n",
    "d_last_notable_activity = pd.get_dummies(lead_info['Last Notable Activity'], prefix='LastNotableActivity')\n",
    "# Dropping Resubscribed to emails column\n",
    "d_last_notable_activity1 = d_last_notable_activity.drop(['LastNotableActivity_Resubscribed to emails'], 1)\n",
    "# Adding the results to the master dataframe\n",
    "lead_info = pd.concat([lead_info,d_last_notable_activity1], axis=1)"
   ]
  },
  {
   "cell_type": "code",
   "execution_count": 74,
   "id": "cd2c2532",
   "metadata": {},
   "outputs": [],
   "source": [
    "#removing the columns for which we have created dummies \n",
    "lead_info = lead_info.drop(['Prospect ID', 'Lead Number', 'Lead Origin', 'Lead Source', 'Last Activity',\n",
    "                          'What is your current occupation', 'Last Notable Activity'], axis=1)"
   ]
  },
  {
   "cell_type": "code",
   "execution_count": 75,
   "id": "14163bf6",
   "metadata": {},
   "outputs": [
    {
     "name": "stdout",
     "output_type": "stream",
     "text": [
      "<class 'pandas.core.frame.DataFrame'>\n",
      "Int64Index: 9029 entries, 0 to 9239\n",
      "Data columns (total 72 columns):\n",
      " #   Column                                            Non-Null Count  Dtype  \n",
      "---  ------                                            --------------  -----  \n",
      " 0   Do Not Email                                      9029 non-null   int64  \n",
      " 1   Do Not Call                                       9029 non-null   int64  \n",
      " 2   Converted                                         9029 non-null   int64  \n",
      " 3   TotalVisits                                       9029 non-null   float64\n",
      " 4   Total Time Spent on Website                       9029 non-null   int64  \n",
      " 5   Page Views Per Visit                              9029 non-null   float64\n",
      " 6   Search                                            9029 non-null   int64  \n",
      " 7   Digital Advertisement                             9029 non-null   int64  \n",
      " 8   Through Recommendations                           9029 non-null   int64  \n",
      " 9   A free copy of Mastering The Interview            9029 non-null   int64  \n",
      " 10  LeadOrigin_API                                    9029 non-null   uint8  \n",
      " 11  LeadOrigin_Landing Page Submission                9029 non-null   uint8  \n",
      " 12  LeadOrigin_Lead Add Form                          9029 non-null   uint8  \n",
      " 13  LeadOrigin_Lead Import                            9029 non-null   uint8  \n",
      " 14  LeadSource_Click2call                             9029 non-null   uint8  \n",
      " 15  LeadSource_Direct Traffic                         9029 non-null   uint8  \n",
      " 16  LeadSource_Facebook                               9029 non-null   uint8  \n",
      " 17  LeadSource_Google                                 9029 non-null   uint8  \n",
      " 18  LeadSource_Live Chat                              9029 non-null   uint8  \n",
      " 19  LeadSource_Olark Chat                             9029 non-null   uint8  \n",
      " 20  LeadSource_Organic Search                         9029 non-null   uint8  \n",
      " 21  LeadSource_Others                                 9029 non-null   uint8  \n",
      " 22  LeadSource_Pay per Click Ads                      9029 non-null   uint8  \n",
      " 23  LeadSource_Press_Release                          9029 non-null   uint8  \n",
      " 24  LeadSource_Reference                              9029 non-null   uint8  \n",
      " 25  LeadSource_Referral Sites                         9029 non-null   uint8  \n",
      " 26  LeadSource_Social Media                           9029 non-null   uint8  \n",
      " 27  LeadSource_WeLearn                                9029 non-null   uint8  \n",
      " 28  LeadSource_Welingak Website                       9029 non-null   uint8  \n",
      " 29  LeadSource_bing                                   9029 non-null   uint8  \n",
      " 30  LeadSource_blog                                   9029 non-null   uint8  \n",
      " 31  LeadSource_testone                                9029 non-null   uint8  \n",
      " 32  LeadSource_welearnblog_Home                       9029 non-null   uint8  \n",
      " 33  LeadSource_youtubechannel                         9029 non-null   uint8  \n",
      " 34  LastActivity_Approached upfront                   9029 non-null   uint8  \n",
      " 35  LastActivity_Converted to Lead                    9029 non-null   uint8  \n",
      " 36  LastActivity_Email Bounced                        9029 non-null   uint8  \n",
      " 37  LastActivity_Email Link Clicked                   9029 non-null   uint8  \n",
      " 38  LastActivity_Email Marked Spam                    9029 non-null   uint8  \n",
      " 39  LastActivity_Email Opened                         9029 non-null   uint8  \n",
      " 40  LastActivity_Email Received                       9029 non-null   uint8  \n",
      " 41  LastActivity_Form Submitted on Website            9029 non-null   uint8  \n",
      " 42  LastActivity_Had a Phone Conversation             9029 non-null   uint8  \n",
      " 43  LastActivity_Olark Chat Conversation              9029 non-null   uint8  \n",
      " 44  LastActivity_Others                               9029 non-null   uint8  \n",
      " 45  LastActivity_Page Visited on Website              9029 non-null   uint8  \n",
      " 46  LastActivity_SMS Sent                             9029 non-null   uint8  \n",
      " 47  LastActivity_Unreachable                          9029 non-null   uint8  \n",
      " 48  LastActivity_Unsubscribed                         9029 non-null   uint8  \n",
      " 49  LastActivity_View in browser link Clicked         9029 non-null   uint8  \n",
      " 50  LastActivity_Visited Booth in Tradeshow           9029 non-null   uint8  \n",
      " 51  CurrentOccupation_Housewife                       9029 non-null   uint8  \n",
      " 52  CurrentOccupation_No Information                  9029 non-null   uint8  \n",
      " 53  CurrentOccupation_Other                           9029 non-null   uint8  \n",
      " 54  CurrentOccupation_Student                         9029 non-null   uint8  \n",
      " 55  CurrentOccupation_Unemployed                      9029 non-null   uint8  \n",
      " 56  CurrentOccupation_Working Professional            9029 non-null   uint8  \n",
      " 57  LastNotableActivity_Approached upfront            9029 non-null   uint8  \n",
      " 58  LastNotableActivity_Email Bounced                 9029 non-null   uint8  \n",
      " 59  LastNotableActivity_Email Link Clicked            9029 non-null   uint8  \n",
      " 60  LastNotableActivity_Email Marked Spam             9029 non-null   uint8  \n",
      " 61  LastNotableActivity_Email Opened                  9029 non-null   uint8  \n",
      " 62  LastNotableActivity_Email Received                9029 non-null   uint8  \n",
      " 63  LastNotableActivity_Form Submitted on Website     9029 non-null   uint8  \n",
      " 64  LastNotableActivity_Had a Phone Conversation      9029 non-null   uint8  \n",
      " 65  LastNotableActivity_Modified                      9029 non-null   uint8  \n",
      " 66  LastNotableActivity_Olark Chat Conversation       9029 non-null   uint8  \n",
      " 67  LastNotableActivity_Page Visited on Website       9029 non-null   uint8  \n",
      " 68  LastNotableActivity_SMS Sent                      9029 non-null   uint8  \n",
      " 69  LastNotableActivity_Unreachable                   9029 non-null   uint8  \n",
      " 70  LastNotableActivity_Unsubscribed                  9029 non-null   uint8  \n",
      " 71  LastNotableActivity_View in browser link Clicked  9029 non-null   uint8  \n",
      "dtypes: float64(2), int64(8), uint8(62)\n",
      "memory usage: 1.5 MB\n"
     ]
    }
   ],
   "source": [
    "lead_info.info()"
   ]
  },
  {
   "cell_type": "code",
   "execution_count": 76,
   "id": "df069772",
   "metadata": {},
   "outputs": [
    {
     "data": {
      "text/plain": [
       "(9029, 72)"
      ]
     },
     "execution_count": 76,
     "metadata": {},
     "output_type": "execute_result"
    }
   ],
   "source": [
    "#checking the shape\n",
    "lead_info.shape"
   ]
  },
  {
   "cell_type": "markdown",
   "id": "1312ff31",
   "metadata": {},
   "source": [
    "Finally we have the dataframe for building the model ."
   ]
  },
  {
   "cell_type": "markdown",
   "id": "c04f6d30",
   "metadata": {},
   "source": [
    "### 5:Test-Train Split"
   ]
  },
  {
   "cell_type": "code",
   "execution_count": 78,
   "id": "118f104b",
   "metadata": {},
   "outputs": [
    {
     "data": {
      "text/html": [
       "<div>\n",
       "<style scoped>\n",
       "    .dataframe tbody tr th:only-of-type {\n",
       "        vertical-align: middle;\n",
       "    }\n",
       "\n",
       "    .dataframe tbody tr th {\n",
       "        vertical-align: top;\n",
       "    }\n",
       "\n",
       "    .dataframe thead th {\n",
       "        text-align: right;\n",
       "    }\n",
       "</style>\n",
       "<table border=\"1\" class=\"dataframe\">\n",
       "  <thead>\n",
       "    <tr style=\"text-align: right;\">\n",
       "      <th></th>\n",
       "      <th>Do Not Email</th>\n",
       "      <th>Do Not Call</th>\n",
       "      <th>TotalVisits</th>\n",
       "      <th>Total Time Spent on Website</th>\n",
       "      <th>Page Views Per Visit</th>\n",
       "      <th>Search</th>\n",
       "      <th>Digital Advertisement</th>\n",
       "      <th>Through Recommendations</th>\n",
       "      <th>A free copy of Mastering The Interview</th>\n",
       "      <th>LeadOrigin_API</th>\n",
       "      <th>...</th>\n",
       "      <th>LastNotableActivity_Email Received</th>\n",
       "      <th>LastNotableActivity_Form Submitted on Website</th>\n",
       "      <th>LastNotableActivity_Had a Phone Conversation</th>\n",
       "      <th>LastNotableActivity_Modified</th>\n",
       "      <th>LastNotableActivity_Olark Chat Conversation</th>\n",
       "      <th>LastNotableActivity_Page Visited on Website</th>\n",
       "      <th>LastNotableActivity_SMS Sent</th>\n",
       "      <th>LastNotableActivity_Unreachable</th>\n",
       "      <th>LastNotableActivity_Unsubscribed</th>\n",
       "      <th>LastNotableActivity_View in browser link Clicked</th>\n",
       "    </tr>\n",
       "  </thead>\n",
       "  <tbody>\n",
       "    <tr>\n",
       "      <th>0</th>\n",
       "      <td>0</td>\n",
       "      <td>0</td>\n",
       "      <td>0.0</td>\n",
       "      <td>0</td>\n",
       "      <td>0.0</td>\n",
       "      <td>0</td>\n",
       "      <td>0</td>\n",
       "      <td>0</td>\n",
       "      <td>0</td>\n",
       "      <td>1</td>\n",
       "      <td>...</td>\n",
       "      <td>0</td>\n",
       "      <td>0</td>\n",
       "      <td>0</td>\n",
       "      <td>1</td>\n",
       "      <td>0</td>\n",
       "      <td>0</td>\n",
       "      <td>0</td>\n",
       "      <td>0</td>\n",
       "      <td>0</td>\n",
       "      <td>0</td>\n",
       "    </tr>\n",
       "    <tr>\n",
       "      <th>1</th>\n",
       "      <td>0</td>\n",
       "      <td>0</td>\n",
       "      <td>5.0</td>\n",
       "      <td>674</td>\n",
       "      <td>2.5</td>\n",
       "      <td>0</td>\n",
       "      <td>0</td>\n",
       "      <td>0</td>\n",
       "      <td>0</td>\n",
       "      <td>1</td>\n",
       "      <td>...</td>\n",
       "      <td>0</td>\n",
       "      <td>0</td>\n",
       "      <td>0</td>\n",
       "      <td>0</td>\n",
       "      <td>0</td>\n",
       "      <td>0</td>\n",
       "      <td>0</td>\n",
       "      <td>0</td>\n",
       "      <td>0</td>\n",
       "      <td>0</td>\n",
       "    </tr>\n",
       "    <tr>\n",
       "      <th>2</th>\n",
       "      <td>0</td>\n",
       "      <td>0</td>\n",
       "      <td>2.0</td>\n",
       "      <td>1532</td>\n",
       "      <td>2.0</td>\n",
       "      <td>0</td>\n",
       "      <td>0</td>\n",
       "      <td>0</td>\n",
       "      <td>1</td>\n",
       "      <td>0</td>\n",
       "      <td>...</td>\n",
       "      <td>0</td>\n",
       "      <td>0</td>\n",
       "      <td>0</td>\n",
       "      <td>0</td>\n",
       "      <td>0</td>\n",
       "      <td>0</td>\n",
       "      <td>0</td>\n",
       "      <td>0</td>\n",
       "      <td>0</td>\n",
       "      <td>0</td>\n",
       "    </tr>\n",
       "    <tr>\n",
       "      <th>3</th>\n",
       "      <td>0</td>\n",
       "      <td>0</td>\n",
       "      <td>1.0</td>\n",
       "      <td>305</td>\n",
       "      <td>1.0</td>\n",
       "      <td>0</td>\n",
       "      <td>0</td>\n",
       "      <td>0</td>\n",
       "      <td>0</td>\n",
       "      <td>0</td>\n",
       "      <td>...</td>\n",
       "      <td>0</td>\n",
       "      <td>0</td>\n",
       "      <td>0</td>\n",
       "      <td>1</td>\n",
       "      <td>0</td>\n",
       "      <td>0</td>\n",
       "      <td>0</td>\n",
       "      <td>0</td>\n",
       "      <td>0</td>\n",
       "      <td>0</td>\n",
       "    </tr>\n",
       "    <tr>\n",
       "      <th>4</th>\n",
       "      <td>0</td>\n",
       "      <td>0</td>\n",
       "      <td>2.0</td>\n",
       "      <td>1428</td>\n",
       "      <td>1.0</td>\n",
       "      <td>0</td>\n",
       "      <td>0</td>\n",
       "      <td>0</td>\n",
       "      <td>0</td>\n",
       "      <td>0</td>\n",
       "      <td>...</td>\n",
       "      <td>0</td>\n",
       "      <td>0</td>\n",
       "      <td>0</td>\n",
       "      <td>1</td>\n",
       "      <td>0</td>\n",
       "      <td>0</td>\n",
       "      <td>0</td>\n",
       "      <td>0</td>\n",
       "      <td>0</td>\n",
       "      <td>0</td>\n",
       "    </tr>\n",
       "  </tbody>\n",
       "</table>\n",
       "<p>5 rows × 71 columns</p>\n",
       "</div>"
      ],
      "text/plain": [
       "   Do Not Email  Do Not Call  TotalVisits  Total Time Spent on Website  \\\n",
       "0             0            0          0.0                            0   \n",
       "1             0            0          5.0                          674   \n",
       "2             0            0          2.0                         1532   \n",
       "3             0            0          1.0                          305   \n",
       "4             0            0          2.0                         1428   \n",
       "\n",
       "   Page Views Per Visit  Search  Digital Advertisement  \\\n",
       "0                   0.0       0                      0   \n",
       "1                   2.5       0                      0   \n",
       "2                   2.0       0                      0   \n",
       "3                   1.0       0                      0   \n",
       "4                   1.0       0                      0   \n",
       "\n",
       "   Through Recommendations  A free copy of Mastering The Interview  \\\n",
       "0                        0                                       0   \n",
       "1                        0                                       0   \n",
       "2                        0                                       1   \n",
       "3                        0                                       0   \n",
       "4                        0                                       0   \n",
       "\n",
       "   LeadOrigin_API  ...  LastNotableActivity_Email Received  \\\n",
       "0               1  ...                                   0   \n",
       "1               1  ...                                   0   \n",
       "2               0  ...                                   0   \n",
       "3               0  ...                                   0   \n",
       "4               0  ...                                   0   \n",
       "\n",
       "   LastNotableActivity_Form Submitted on Website  \\\n",
       "0                                              0   \n",
       "1                                              0   \n",
       "2                                              0   \n",
       "3                                              0   \n",
       "4                                              0   \n",
       "\n",
       "   LastNotableActivity_Had a Phone Conversation  LastNotableActivity_Modified  \\\n",
       "0                                             0                             1   \n",
       "1                                             0                             0   \n",
       "2                                             0                             0   \n",
       "3                                             0                             1   \n",
       "4                                             0                             1   \n",
       "\n",
       "   LastNotableActivity_Olark Chat Conversation  \\\n",
       "0                                            0   \n",
       "1                                            0   \n",
       "2                                            0   \n",
       "3                                            0   \n",
       "4                                            0   \n",
       "\n",
       "   LastNotableActivity_Page Visited on Website  LastNotableActivity_SMS Sent  \\\n",
       "0                                            0                             0   \n",
       "1                                            0                             0   \n",
       "2                                            0                             0   \n",
       "3                                            0                             0   \n",
       "4                                            0                             0   \n",
       "\n",
       "   LastNotableActivity_Unreachable  LastNotableActivity_Unsubscribed  \\\n",
       "0                                0                                 0   \n",
       "1                                0                                 0   \n",
       "2                                0                                 0   \n",
       "3                                0                                 0   \n",
       "4                                0                                 0   \n",
       "\n",
       "   LastNotableActivity_View in browser link Clicked  \n",
       "0                                                 0  \n",
       "1                                                 0  \n",
       "2                                                 0  \n",
       "3                                                 0  \n",
       "4                                                 0  \n",
       "\n",
       "[5 rows x 71 columns]"
      ]
     },
     "execution_count": 78,
     "metadata": {},
     "output_type": "execute_result"
    }
   ],
   "source": [
    "# Putting feature variable to X\n",
    "X = lead_info.drop(['Converted'], axis=1)\n",
    "X.head()"
   ]
  },
  {
   "cell_type": "code",
   "execution_count": 79,
   "id": "0d3f4237",
   "metadata": {},
   "outputs": [
    {
     "data": {
      "text/plain": [
       "0    0\n",
       "1    0\n",
       "2    1\n",
       "3    0\n",
       "4    1\n",
       "Name: Converted, dtype: int64"
      ]
     },
     "execution_count": 79,
     "metadata": {},
     "output_type": "execute_result"
    }
   ],
   "source": [
    "# Putting response variable to y\n",
    "y = lead_info['Converted']\n",
    "\n",
    "y.head()"
   ]
  },
  {
   "cell_type": "code",
   "execution_count": 80,
   "id": "e47c0408",
   "metadata": {},
   "outputs": [],
   "source": [
    "# Splitting the data into train and test\n",
    "X_train, X_test, y_train, y_test = train_test_split(X, y, train_size=0.7, test_size=0.3, random_state=42)"
   ]
  },
  {
   "cell_type": "markdown",
   "id": "5fba163b",
   "metadata": {},
   "source": [
    "### 6.Rescaling the features with MinMax Scaling"
   ]
  },
  {
   "cell_type": "code",
   "execution_count": 81,
   "id": "f2057693",
   "metadata": {},
   "outputs": [
    {
     "data": {
      "text/html": [
       "<div>\n",
       "<style scoped>\n",
       "    .dataframe tbody tr th:only-of-type {\n",
       "        vertical-align: middle;\n",
       "    }\n",
       "\n",
       "    .dataframe tbody tr th {\n",
       "        vertical-align: top;\n",
       "    }\n",
       "\n",
       "    .dataframe thead th {\n",
       "        text-align: right;\n",
       "    }\n",
       "</style>\n",
       "<table border=\"1\" class=\"dataframe\">\n",
       "  <thead>\n",
       "    <tr style=\"text-align: right;\">\n",
       "      <th></th>\n",
       "      <th>Do Not Email</th>\n",
       "      <th>Do Not Call</th>\n",
       "      <th>TotalVisits</th>\n",
       "      <th>Total Time Spent on Website</th>\n",
       "      <th>Page Views Per Visit</th>\n",
       "      <th>Search</th>\n",
       "      <th>Digital Advertisement</th>\n",
       "      <th>Through Recommendations</th>\n",
       "      <th>A free copy of Mastering The Interview</th>\n",
       "      <th>LeadOrigin_API</th>\n",
       "      <th>...</th>\n",
       "      <th>LastNotableActivity_Email Received</th>\n",
       "      <th>LastNotableActivity_Form Submitted on Website</th>\n",
       "      <th>LastNotableActivity_Had a Phone Conversation</th>\n",
       "      <th>LastNotableActivity_Modified</th>\n",
       "      <th>LastNotableActivity_Olark Chat Conversation</th>\n",
       "      <th>LastNotableActivity_Page Visited on Website</th>\n",
       "      <th>LastNotableActivity_SMS Sent</th>\n",
       "      <th>LastNotableActivity_Unreachable</th>\n",
       "      <th>LastNotableActivity_Unsubscribed</th>\n",
       "      <th>LastNotableActivity_View in browser link Clicked</th>\n",
       "    </tr>\n",
       "  </thead>\n",
       "  <tbody>\n",
       "    <tr>\n",
       "      <th>2240</th>\n",
       "      <td>0</td>\n",
       "      <td>0</td>\n",
       "      <td>0.1875</td>\n",
       "      <td>0.898963</td>\n",
       "      <td>0.375</td>\n",
       "      <td>0</td>\n",
       "      <td>0</td>\n",
       "      <td>0</td>\n",
       "      <td>0</td>\n",
       "      <td>0</td>\n",
       "      <td>...</td>\n",
       "      <td>0</td>\n",
       "      <td>0</td>\n",
       "      <td>0</td>\n",
       "      <td>0</td>\n",
       "      <td>0</td>\n",
       "      <td>0</td>\n",
       "      <td>0</td>\n",
       "      <td>0</td>\n",
       "      <td>0</td>\n",
       "      <td>0</td>\n",
       "    </tr>\n",
       "    <tr>\n",
       "      <th>113</th>\n",
       "      <td>0</td>\n",
       "      <td>0</td>\n",
       "      <td>0.3125</td>\n",
       "      <td>0.706360</td>\n",
       "      <td>0.625</td>\n",
       "      <td>0</td>\n",
       "      <td>0</td>\n",
       "      <td>0</td>\n",
       "      <td>0</td>\n",
       "      <td>1</td>\n",
       "      <td>...</td>\n",
       "      <td>0</td>\n",
       "      <td>0</td>\n",
       "      <td>0</td>\n",
       "      <td>1</td>\n",
       "      <td>0</td>\n",
       "      <td>0</td>\n",
       "      <td>0</td>\n",
       "      <td>0</td>\n",
       "      <td>0</td>\n",
       "      <td>0</td>\n",
       "    </tr>\n",
       "    <tr>\n",
       "      <th>4132</th>\n",
       "      <td>0</td>\n",
       "      <td>0</td>\n",
       "      <td>0.3750</td>\n",
       "      <td>0.768155</td>\n",
       "      <td>0.750</td>\n",
       "      <td>0</td>\n",
       "      <td>0</td>\n",
       "      <td>0</td>\n",
       "      <td>1</td>\n",
       "      <td>0</td>\n",
       "      <td>...</td>\n",
       "      <td>0</td>\n",
       "      <td>0</td>\n",
       "      <td>0</td>\n",
       "      <td>1</td>\n",
       "      <td>0</td>\n",
       "      <td>0</td>\n",
       "      <td>0</td>\n",
       "      <td>0</td>\n",
       "      <td>0</td>\n",
       "      <td>0</td>\n",
       "    </tr>\n",
       "    <tr>\n",
       "      <th>5573</th>\n",
       "      <td>0</td>\n",
       "      <td>0</td>\n",
       "      <td>0.1250</td>\n",
       "      <td>0.028868</td>\n",
       "      <td>0.250</td>\n",
       "      <td>0</td>\n",
       "      <td>0</td>\n",
       "      <td>0</td>\n",
       "      <td>1</td>\n",
       "      <td>0</td>\n",
       "      <td>...</td>\n",
       "      <td>0</td>\n",
       "      <td>0</td>\n",
       "      <td>0</td>\n",
       "      <td>0</td>\n",
       "      <td>0</td>\n",
       "      <td>0</td>\n",
       "      <td>0</td>\n",
       "      <td>0</td>\n",
       "      <td>0</td>\n",
       "      <td>0</td>\n",
       "    </tr>\n",
       "    <tr>\n",
       "      <th>1109</th>\n",
       "      <td>0</td>\n",
       "      <td>0</td>\n",
       "      <td>0.0625</td>\n",
       "      <td>0.009021</td>\n",
       "      <td>0.125</td>\n",
       "      <td>0</td>\n",
       "      <td>0</td>\n",
       "      <td>0</td>\n",
       "      <td>0</td>\n",
       "      <td>1</td>\n",
       "      <td>...</td>\n",
       "      <td>0</td>\n",
       "      <td>0</td>\n",
       "      <td>0</td>\n",
       "      <td>1</td>\n",
       "      <td>0</td>\n",
       "      <td>0</td>\n",
       "      <td>0</td>\n",
       "      <td>0</td>\n",
       "      <td>0</td>\n",
       "      <td>0</td>\n",
       "    </tr>\n",
       "  </tbody>\n",
       "</table>\n",
       "<p>5 rows × 71 columns</p>\n",
       "</div>"
      ],
      "text/plain": [
       "      Do Not Email  Do Not Call  TotalVisits  Total Time Spent on Website  \\\n",
       "2240             0            0       0.1875                     0.898963   \n",
       "113              0            0       0.3125                     0.706360   \n",
       "4132             0            0       0.3750                     0.768155   \n",
       "5573             0            0       0.1250                     0.028868   \n",
       "1109             0            0       0.0625                     0.009021   \n",
       "\n",
       "      Page Views Per Visit  Search  Digital Advertisement  \\\n",
       "2240                 0.375       0                      0   \n",
       "113                  0.625       0                      0   \n",
       "4132                 0.750       0                      0   \n",
       "5573                 0.250       0                      0   \n",
       "1109                 0.125       0                      0   \n",
       "\n",
       "      Through Recommendations  A free copy of Mastering The Interview  \\\n",
       "2240                        0                                       0   \n",
       "113                         0                                       0   \n",
       "4132                        0                                       1   \n",
       "5573                        0                                       1   \n",
       "1109                        0                                       0   \n",
       "\n",
       "      LeadOrigin_API  ...  LastNotableActivity_Email Received  \\\n",
       "2240               0  ...                                   0   \n",
       "113                1  ...                                   0   \n",
       "4132               0  ...                                   0   \n",
       "5573               0  ...                                   0   \n",
       "1109               1  ...                                   0   \n",
       "\n",
       "      LastNotableActivity_Form Submitted on Website  \\\n",
       "2240                                              0   \n",
       "113                                               0   \n",
       "4132                                              0   \n",
       "5573                                              0   \n",
       "1109                                              0   \n",
       "\n",
       "      LastNotableActivity_Had a Phone Conversation  \\\n",
       "2240                                             0   \n",
       "113                                              0   \n",
       "4132                                             0   \n",
       "5573                                             0   \n",
       "1109                                             0   \n",
       "\n",
       "      LastNotableActivity_Modified  \\\n",
       "2240                             0   \n",
       "113                              1   \n",
       "4132                             1   \n",
       "5573                             0   \n",
       "1109                             1   \n",
       "\n",
       "      LastNotableActivity_Olark Chat Conversation  \\\n",
       "2240                                            0   \n",
       "113                                             0   \n",
       "4132                                            0   \n",
       "5573                                            0   \n",
       "1109                                            0   \n",
       "\n",
       "      LastNotableActivity_Page Visited on Website  \\\n",
       "2240                                            0   \n",
       "113                                             0   \n",
       "4132                                            0   \n",
       "5573                                            0   \n",
       "1109                                            0   \n",
       "\n",
       "      LastNotableActivity_SMS Sent  LastNotableActivity_Unreachable  \\\n",
       "2240                             0                                0   \n",
       "113                              0                                0   \n",
       "4132                             0                                0   \n",
       "5573                             0                                0   \n",
       "1109                             0                                0   \n",
       "\n",
       "      LastNotableActivity_Unsubscribed  \\\n",
       "2240                                 0   \n",
       "113                                  0   \n",
       "4132                                 0   \n",
       "5573                                 0   \n",
       "1109                                 0   \n",
       "\n",
       "      LastNotableActivity_View in browser link Clicked  \n",
       "2240                                                 0  \n",
       "113                                                  0  \n",
       "4132                                                 0  \n",
       "5573                                                 0  \n",
       "1109                                                 0  \n",
       "\n",
       "[5 rows x 71 columns]"
      ]
     },
     "execution_count": 81,
     "metadata": {},
     "output_type": "execute_result"
    }
   ],
   "source": [
    "scaler = MinMaxScaler()\n",
    "\n",
    "X_train[['TotalVisits','Total Time Spent on Website','Page Views Per Visit']] = scaler.fit_transform(X_train[['TotalVisits',\n",
    "                                                                        'Total Time Spent on Website','Page Views Per Visit']])\n",
    "\n",
    "X_train.head()"
   ]
  },
  {
   "cell_type": "markdown",
   "id": "098a30bf",
   "metadata": {},
   "source": [
    "### 7.Model Building"
   ]
  },
  {
   "cell_type": "markdown",
   "id": "2c8afa99",
   "metadata": {},
   "source": [
    "Let's start by splitting our data into a training set and a test set."
   ]
  },
  {
   "cell_type": "markdown",
   "id": "9ed17828",
   "metadata": {},
   "source": [
    "#### Model : 1"
   ]
  },
  {
   "cell_type": "code",
   "execution_count": 82,
   "id": "11cf7fbe",
   "metadata": {},
   "outputs": [
    {
     "data": {
      "text/html": [
       "<table class=\"simpletable\">\n",
       "<caption>Generalized Linear Model Regression Results</caption>\n",
       "<tr>\n",
       "  <th>Dep. Variable:</th>       <td>Converted</td>    <th>  No. Observations:  </th>   <td>  6320</td>  \n",
       "</tr>\n",
       "<tr>\n",
       "  <th>Model:</th>                  <td>GLM</td>       <th>  Df Residuals:      </th>   <td>  6258</td>  \n",
       "</tr>\n",
       "<tr>\n",
       "  <th>Model Family:</th>        <td>Binomial</td>     <th>  Df Model:          </th>   <td>    61</td>  \n",
       "</tr>\n",
       "<tr>\n",
       "  <th>Link Function:</th>         <td>Logit</td>      <th>  Scale:             </th>  <td>  1.0000</td> \n",
       "</tr>\n",
       "<tr>\n",
       "  <th>Method:</th>                <td>IRLS</td>       <th>  Log-Likelihood:    </th>  <td>     nan</td> \n",
       "</tr>\n",
       "<tr>\n",
       "  <th>Date:</th>            <td>Wed, 17 May 2023</td> <th>  Deviance:          </th> <td>1.3898e+05</td>\n",
       "</tr>\n",
       "<tr>\n",
       "  <th>Time:</th>                <td>18:50:27</td>     <th>  Pearson chi2:      </th>  <td>6.80e+18</td> \n",
       "</tr>\n",
       "<tr>\n",
       "  <th>No. Iterations:</th>         <td>100</td>       <th>  Pseudo R-squ. (CS):</th>   <td>   nan</td>  \n",
       "</tr>\n",
       "<tr>\n",
       "  <th>Covariance Type:</th>     <td>nonrobust</td>    <th>                     </th>      <td> </td>    \n",
       "</tr>\n",
       "</table>\n",
       "<table class=\"simpletable\">\n",
       "<tr>\n",
       "                          <td></td>                            <th>coef</th>     <th>std err</th>      <th>z</th>      <th>P>|z|</th>  <th>[0.025</th>    <th>0.975]</th>  \n",
       "</tr>\n",
       "<tr>\n",
       "  <th>const</th>                                            <td> 1.113e+16</td> <td> 6.69e+07</td> <td> 1.66e+08</td> <td> 0.000</td> <td> 1.11e+16</td> <td> 1.11e+16</td>\n",
       "</tr>\n",
       "<tr>\n",
       "  <th>Do Not Email</th>                                     <td>-4.652e+14</td> <td> 4.48e+06</td> <td>-1.04e+08</td> <td> 0.000</td> <td>-4.65e+14</td> <td>-4.65e+14</td>\n",
       "</tr>\n",
       "<tr>\n",
       "  <th>Do Not Call</th>                                      <td> 6.473e+15</td> <td> 4.76e+07</td> <td> 1.36e+08</td> <td> 0.000</td> <td> 6.47e+15</td> <td> 6.47e+15</td>\n",
       "</tr>\n",
       "<tr>\n",
       "  <th>TotalVisits</th>                                      <td> 1.067e+15</td> <td> 7.66e+06</td> <td> 1.39e+08</td> <td> 0.000</td> <td> 1.07e+15</td> <td> 1.07e+15</td>\n",
       "</tr>\n",
       "<tr>\n",
       "  <th>Total Time Spent on Website</th>                      <td> 6.067e+14</td> <td> 4.02e+06</td> <td> 1.51e+08</td> <td> 0.000</td> <td> 6.07e+14</td> <td> 6.07e+14</td>\n",
       "</tr>\n",
       "<tr>\n",
       "  <th>Page Views Per Visit</th>                             <td>-9.878e+14</td> <td> 6.53e+06</td> <td>-1.51e+08</td> <td> 0.000</td> <td>-9.88e+14</td> <td>-9.88e+14</td>\n",
       "</tr>\n",
       "<tr>\n",
       "  <th>Search</th>                                           <td>-1.142e+15</td> <td> 2.44e+07</td> <td>-4.68e+07</td> <td> 0.000</td> <td>-1.14e+15</td> <td>-1.14e+15</td>\n",
       "</tr>\n",
       "<tr>\n",
       "  <th>Digital Advertisement</th>                            <td> 1.394e+15</td> <td> 4.76e+07</td> <td> 2.93e+07</td> <td> 0.000</td> <td> 1.39e+15</td> <td> 1.39e+15</td>\n",
       "</tr>\n",
       "<tr>\n",
       "  <th>Through Recommendations</th>                          <td> 2.238e+15</td> <td>  4.2e+07</td> <td> 5.32e+07</td> <td> 0.000</td> <td> 2.24e+15</td> <td> 2.24e+15</td>\n",
       "</tr>\n",
       "<tr>\n",
       "  <th>A free copy of Mastering The Interview</th>           <td>-1.781e+13</td> <td> 2.69e+06</td> <td>-6.61e+06</td> <td> 0.000</td> <td>-1.78e+13</td> <td>-1.78e+13</td>\n",
       "</tr>\n",
       "<tr>\n",
       "  <th>LeadOrigin_API</th>                                   <td>-1.363e+16</td> <td> 7.51e+07</td> <td>-1.82e+08</td> <td> 0.000</td> <td>-1.36e+16</td> <td>-1.36e+16</td>\n",
       "</tr>\n",
       "<tr>\n",
       "  <th>LeadOrigin_Landing Page Submission</th>               <td> -1.36e+16</td> <td> 7.51e+07</td> <td>-1.81e+08</td> <td> 0.000</td> <td>-1.36e+16</td> <td>-1.36e+16</td>\n",
       "</tr>\n",
       "<tr>\n",
       "  <th>LeadOrigin_Lead Add Form</th>                         <td>-1.235e+16</td> <td> 6.87e+07</td> <td> -1.8e+08</td> <td> 0.000</td> <td>-1.24e+16</td> <td>-1.24e+16</td>\n",
       "</tr>\n",
       "<tr>\n",
       "  <th>LeadOrigin_Lead Import</th>                           <td>-1.381e+16</td> <td> 8.43e+07</td> <td>-1.64e+08</td> <td> 0.000</td> <td>-1.38e+16</td> <td>-1.38e+16</td>\n",
       "</tr>\n",
       "<tr>\n",
       "  <th>LeadSource_Click2call</th>                            <td> 3.458e+15</td> <td> 5.01e+07</td> <td>  6.9e+07</td> <td> 0.000</td> <td> 3.46e+15</td> <td> 3.46e+15</td>\n",
       "</tr>\n",
       "<tr>\n",
       "  <th>LeadSource_Direct Traffic</th>                        <td> 1.538e+15</td> <td>  1.6e+07</td> <td> 9.62e+07</td> <td> 0.000</td> <td> 1.54e+15</td> <td> 1.54e+15</td>\n",
       "</tr>\n",
       "<tr>\n",
       "  <th>LeadSource_Facebook</th>                              <td> 1.135e+15</td> <td> 4.65e+07</td> <td> 2.44e+07</td> <td> 0.000</td> <td> 1.14e+15</td> <td> 1.14e+15</td>\n",
       "</tr>\n",
       "<tr>\n",
       "  <th>LeadSource_Google</th>                                <td> 1.756e+15</td> <td> 1.59e+07</td> <td>  1.1e+08</td> <td> 0.000</td> <td> 1.76e+15</td> <td> 1.76e+15</td>\n",
       "</tr>\n",
       "<tr>\n",
       "  <th>LeadSource_Live Chat</th>                             <td> 1.732e+15</td> <td> 5.01e+07</td> <td> 3.46e+07</td> <td> 0.000</td> <td> 1.73e+15</td> <td> 1.73e+15</td>\n",
       "</tr>\n",
       "<tr>\n",
       "  <th>LeadSource_Olark Chat</th>                            <td>     7e+14</td> <td>  1.6e+07</td> <td> 4.38e+07</td> <td> 0.000</td> <td>    7e+14</td> <td>    7e+14</td>\n",
       "</tr>\n",
       "<tr>\n",
       "  <th>LeadSource_Organic Search</th>                        <td> 1.665e+15</td> <td> 1.61e+07</td> <td> 1.04e+08</td> <td> 0.000</td> <td> 1.66e+15</td> <td> 1.66e+15</td>\n",
       "</tr>\n",
       "<tr>\n",
       "  <th>LeadSource_Others</th>                                <td>  9.94e+14</td> <td>  2.4e+07</td> <td> 4.15e+07</td> <td> 0.000</td> <td> 9.94e+14</td> <td> 9.94e+14</td>\n",
       "</tr>\n",
       "<tr>\n",
       "  <th>LeadSource_Pay per Click Ads</th>                     <td>   16.6573</td> <td> 2.09e-07</td> <td> 7.99e+07</td> <td> 0.000</td> <td>   16.657</td> <td>   16.657</td>\n",
       "</tr>\n",
       "<tr>\n",
       "  <th>LeadSource_Press_Release</th>                         <td>  -90.5442</td> <td> 4.88e-07</td> <td>-1.85e+08</td> <td> 0.000</td> <td>  -90.544</td> <td>  -90.544</td>\n",
       "</tr>\n",
       "<tr>\n",
       "  <th>LeadSource_Reference</th>                             <td> 9.388e+14</td> <td>  2.3e+07</td> <td> 4.08e+07</td> <td> 0.000</td> <td> 9.39e+14</td> <td> 9.39e+14</td>\n",
       "</tr>\n",
       "<tr>\n",
       "  <th>LeadSource_Referral Sites</th>                        <td> 1.464e+15</td> <td> 1.74e+07</td> <td>  8.4e+07</td> <td> 0.000</td> <td> 1.46e+15</td> <td> 1.46e+15</td>\n",
       "</tr>\n",
       "<tr>\n",
       "  <th>LeadSource_Social Media</th>                          <td>-2.222e+15</td> <td> 6.52e+07</td> <td>-3.41e+07</td> <td> 0.000</td> <td>-2.22e+15</td> <td>-2.22e+15</td>\n",
       "</tr>\n",
       "<tr>\n",
       "  <th>LeadSource_WeLearn</th>                               <td>   -9.7655</td> <td>  1.6e-07</td> <td>-6.09e+07</td> <td> 0.000</td> <td>   -9.766</td> <td>   -9.766</td>\n",
       "</tr>\n",
       "<tr>\n",
       "  <th>LeadSource_Welingak Website</th>                      <td> 1.598e+15</td> <td> 2.35e+07</td> <td> 6.79e+07</td> <td> 0.000</td> <td>  1.6e+15</td> <td>  1.6e+15</td>\n",
       "</tr>\n",
       "<tr>\n",
       "  <th>LeadSource_bing</th>                                  <td> 4.362e+13</td> <td> 3.24e+07</td> <td> 1.35e+06</td> <td> 0.000</td> <td> 4.36e+13</td> <td> 4.36e+13</td>\n",
       "</tr>\n",
       "<tr>\n",
       "  <th>LeadSource_blog</th>                                  <td>-2.377e+15</td> <td>  6.5e+07</td> <td>-3.66e+07</td> <td> 0.000</td> <td>-2.38e+15</td> <td>-2.38e+15</td>\n",
       "</tr>\n",
       "<tr>\n",
       "  <th>LeadSource_testone</th>                               <td> -3.23e+15</td> <td> 6.51e+07</td> <td>-4.96e+07</td> <td> 0.000</td> <td>-3.23e+15</td> <td>-3.23e+15</td>\n",
       "</tr>\n",
       "<tr>\n",
       "  <th>LeadSource_welearnblog_Home</th>                      <td> 1.941e+15</td> <td>  6.5e+07</td> <td> 2.99e+07</td> <td> 0.000</td> <td> 1.94e+15</td> <td> 1.94e+15</td>\n",
       "</tr>\n",
       "<tr>\n",
       "  <th>LeadSource_youtubechannel</th>                        <td>    5.3142</td> <td> 1.56e-07</td> <td>  3.4e+07</td> <td> 0.000</td> <td>    5.314</td> <td>    5.314</td>\n",
       "</tr>\n",
       "<tr>\n",
       "  <th>LastActivity_Approached upfront</th>                  <td> 5.404e+15</td> <td> 2.72e+07</td> <td> 1.98e+08</td> <td> 0.000</td> <td>  5.4e+15</td> <td>  5.4e+15</td>\n",
       "</tr>\n",
       "<tr>\n",
       "  <th>LastActivity_Converted to Lead</th>                   <td> 5.936e+13</td> <td> 9.45e+06</td> <td> 6.28e+06</td> <td> 0.000</td> <td> 5.94e+13</td> <td> 5.94e+13</td>\n",
       "</tr>\n",
       "<tr>\n",
       "  <th>LastActivity_Email Bounced</th>                       <td> 4.934e+14</td> <td> 1.03e+07</td> <td> 4.79e+07</td> <td> 0.000</td> <td> 4.93e+14</td> <td> 4.93e+14</td>\n",
       "</tr>\n",
       "<tr>\n",
       "  <th>LastActivity_Email Link Clicked</th>                  <td> 5.969e+14</td> <td> 1.15e+07</td> <td>  5.2e+07</td> <td> 0.000</td> <td> 5.97e+14</td> <td> 5.97e+14</td>\n",
       "</tr>\n",
       "<tr>\n",
       "  <th>LastActivity_Email Marked Spam</th>                   <td> 3.097e+15</td> <td> 2.33e+07</td> <td> 1.33e+08</td> <td> 0.000</td> <td>  3.1e+15</td> <td>  3.1e+15</td>\n",
       "</tr>\n",
       "<tr>\n",
       "  <th>LastActivity_Email Opened</th>                        <td> 1.208e+15</td> <td> 9.17e+06</td> <td> 1.32e+08</td> <td> 0.000</td> <td> 1.21e+15</td> <td> 1.21e+15</td>\n",
       "</tr>\n",
       "<tr>\n",
       "  <th>LastActivity_Email Received</th>                      <td> 4.038e+15</td> <td> 6.38e+07</td> <td> 6.33e+07</td> <td> 0.000</td> <td> 4.04e+15</td> <td> 4.04e+15</td>\n",
       "</tr>\n",
       "<tr>\n",
       "  <th>LastActivity_Form Submitted on Website</th>           <td> 3.131e+14</td> <td> 1.14e+07</td> <td> 2.76e+07</td> <td> 0.000</td> <td> 3.13e+14</td> <td> 3.13e+14</td>\n",
       "</tr>\n",
       "<tr>\n",
       "  <th>LastActivity_Had a Phone Conversation</th>            <td>-2.347e+14</td> <td> 2.27e+07</td> <td>-1.04e+07</td> <td> 0.000</td> <td>-2.35e+14</td> <td>-2.35e+14</td>\n",
       "</tr>\n",
       "<tr>\n",
       "  <th>LastActivity_Olark Chat Conversation</th>             <td> 9.028e+14</td> <td> 9.17e+06</td> <td> 9.85e+07</td> <td> 0.000</td> <td> 9.03e+14</td> <td> 9.03e+14</td>\n",
       "</tr>\n",
       "<tr>\n",
       "  <th>LastActivity_Others</th>                              <td> 1.278e+15</td> <td>  1.2e+07</td> <td> 1.07e+08</td> <td> 0.000</td> <td> 1.28e+15</td> <td> 1.28e+15</td>\n",
       "</tr>\n",
       "<tr>\n",
       "  <th>LastActivity_Page Visited on Website</th>             <td> 4.164e+14</td> <td> 9.59e+06</td> <td> 4.34e+07</td> <td> 0.000</td> <td> 4.16e+14</td> <td> 4.16e+14</td>\n",
       "</tr>\n",
       "<tr>\n",
       "  <th>LastActivity_SMS Sent</th>                            <td> 8.148e+14</td> <td> 9.18e+06</td> <td> 8.87e+07</td> <td> 0.000</td> <td> 8.15e+14</td> <td> 8.15e+14</td>\n",
       "</tr>\n",
       "<tr>\n",
       "  <th>LastActivity_Unreachable</th>                         <td>-3.203e+13</td> <td>  1.3e+07</td> <td>-2.47e+06</td> <td> 0.000</td> <td> -3.2e+13</td> <td> -3.2e+13</td>\n",
       "</tr>\n",
       "<tr>\n",
       "  <th>LastActivity_Unsubscribed</th>                        <td> 1.077e+15</td> <td> 2.39e+07</td> <td> 4.51e+07</td> <td> 0.000</td> <td> 1.08e+15</td> <td> 1.08e+15</td>\n",
       "</tr>\n",
       "<tr>\n",
       "  <th>LastActivity_View in browser link Clicked</th>        <td>-4.759e+15</td> <td> 6.33e+07</td> <td>-7.52e+07</td> <td> 0.000</td> <td>-4.76e+15</td> <td>-4.76e+15</td>\n",
       "</tr>\n",
       "<tr>\n",
       "  <th>LastActivity_Visited Booth in Tradeshow</th>          <td>-3.539e+15</td> <td> 6.37e+07</td> <td>-5.55e+07</td> <td> 0.000</td> <td>-3.54e+15</td> <td>-3.54e+15</td>\n",
       "</tr>\n",
       "<tr>\n",
       "  <th>CurrentOccupation_Housewife</th>                      <td> 1.922e+15</td> <td> 4.12e+07</td> <td> 4.66e+07</td> <td> 0.000</td> <td> 1.92e+15</td> <td> 1.92e+15</td>\n",
       "</tr>\n",
       "<tr>\n",
       "  <th>CurrentOccupation_No Information</th>                 <td>-1.247e+15</td> <td> 3.37e+07</td> <td> -3.7e+07</td> <td> 0.000</td> <td>-1.25e+15</td> <td>-1.25e+15</td>\n",
       "</tr>\n",
       "<tr>\n",
       "  <th>CurrentOccupation_Other</th>                          <td> 1.936e+14</td> <td> 3.89e+07</td> <td> 4.98e+06</td> <td> 0.000</td> <td> 1.94e+14</td> <td> 1.94e+14</td>\n",
       "</tr>\n",
       "<tr>\n",
       "  <th>CurrentOccupation_Student</th>                        <td>-7.117e+14</td> <td> 3.41e+07</td> <td>-2.09e+07</td> <td> 0.000</td> <td>-7.12e+14</td> <td>-7.12e+14</td>\n",
       "</tr>\n",
       "<tr>\n",
       "  <th>CurrentOccupation_Unemployed</th>                     <td>-6.254e+14</td> <td> 3.37e+07</td> <td>-1.86e+07</td> <td> 0.000</td> <td>-6.25e+14</td> <td>-6.25e+14</td>\n",
       "</tr>\n",
       "<tr>\n",
       "  <th>CurrentOccupation_Working Professional</th>           <td> 6.584e+14</td> <td> 3.38e+07</td> <td> 1.95e+07</td> <td> 0.000</td> <td> 6.58e+14</td> <td> 6.58e+14</td>\n",
       "</tr>\n",
       "<tr>\n",
       "  <th>LastNotableActivity_Approached upfront</th>           <td>    0.2937</td> <td> 7.79e-09</td> <td> 3.77e+07</td> <td> 0.000</td> <td>    0.294</td> <td>    0.294</td>\n",
       "</tr>\n",
       "<tr>\n",
       "  <th>LastNotableActivity_Email Bounced</th>                <td> 9.647e+14</td> <td> 1.55e+07</td> <td> 6.22e+07</td> <td> 0.000</td> <td> 9.65e+14</td> <td> 9.65e+14</td>\n",
       "</tr>\n",
       "<tr>\n",
       "  <th>LastNotableActivity_Email Link Clicked</th>           <td> 7.592e+14</td> <td> 1.46e+07</td> <td> 5.19e+07</td> <td> 0.000</td> <td> 7.59e+14</td> <td> 7.59e+14</td>\n",
       "</tr>\n",
       "<tr>\n",
       "  <th>LastNotableActivity_Email Marked Spam</th>            <td> 3.097e+15</td> <td> 2.33e+07</td> <td> 1.33e+08</td> <td> 0.000</td> <td>  3.1e+15</td> <td>  3.1e+15</td>\n",
       "</tr>\n",
       "<tr>\n",
       "  <th>LastNotableActivity_Email Opened</th>                 <td>-1.507e+14</td> <td> 1.17e+07</td> <td>-1.29e+07</td> <td> 0.000</td> <td>-1.51e+14</td> <td>-1.51e+14</td>\n",
       "</tr>\n",
       "<tr>\n",
       "  <th>LastNotableActivity_Email Received</th>               <td>    0.5738</td> <td> 7.46e-09</td> <td> 7.69e+07</td> <td> 0.000</td> <td>    0.574</td> <td>    0.574</td>\n",
       "</tr>\n",
       "<tr>\n",
       "  <th>LastNotableActivity_Form Submitted on Website</th>    <td>-3.378e+15</td> <td> 6.33e+07</td> <td>-5.33e+07</td> <td> 0.000</td> <td>-3.38e+15</td> <td>-3.38e+15</td>\n",
       "</tr>\n",
       "<tr>\n",
       "  <th>LastNotableActivity_Had a Phone Conversation</th>     <td> 1.633e+15</td> <td> 3.12e+07</td> <td> 5.24e+07</td> <td> 0.000</td> <td> 1.63e+15</td> <td> 1.63e+15</td>\n",
       "</tr>\n",
       "<tr>\n",
       "  <th>LastNotableActivity_Modified</th>                     <td> 5.416e+14</td> <td> 1.12e+07</td> <td> 4.84e+07</td> <td> 0.000</td> <td> 5.42e+14</td> <td> 5.42e+14</td>\n",
       "</tr>\n",
       "<tr>\n",
       "  <th>LastNotableActivity_Olark Chat Conversation</th>      <td> 6.798e+14</td> <td> 1.27e+07</td> <td> 5.35e+07</td> <td> 0.000</td> <td>  6.8e+14</td> <td>  6.8e+14</td>\n",
       "</tr>\n",
       "<tr>\n",
       "  <th>LastNotableActivity_Page Visited on Website</th>      <td> 3.778e+14</td> <td> 1.27e+07</td> <td> 2.97e+07</td> <td> 0.000</td> <td> 3.78e+14</td> <td> 3.78e+14</td>\n",
       "</tr>\n",
       "<tr>\n",
       "  <th>LastNotableActivity_SMS Sent</th>                     <td> 1.134e+15</td> <td> 1.17e+07</td> <td> 9.65e+07</td> <td> 0.000</td> <td> 1.13e+15</td> <td> 1.13e+15</td>\n",
       "</tr>\n",
       "<tr>\n",
       "  <th>LastNotableActivity_Unreachable</th>                  <td> 2.066e+15</td> <td> 1.98e+07</td> <td> 1.05e+08</td> <td> 0.000</td> <td> 2.07e+15</td> <td> 2.07e+15</td>\n",
       "</tr>\n",
       "<tr>\n",
       "  <th>LastNotableActivity_Unsubscribed</th>                 <td> 6.444e+14</td> <td> 2.72e+07</td> <td> 2.37e+07</td> <td> 0.000</td> <td> 6.44e+14</td> <td> 6.44e+14</td>\n",
       "</tr>\n",
       "<tr>\n",
       "  <th>LastNotableActivity_View in browser link Clicked</th> <td> 2.765e+15</td> <td> 8.79e+07</td> <td> 3.14e+07</td> <td> 0.000</td> <td> 2.76e+15</td> <td> 2.76e+15</td>\n",
       "</tr>\n",
       "</table>"
      ],
      "text/plain": [
       "<class 'statsmodels.iolib.summary.Summary'>\n",
       "\"\"\"\n",
       "                 Generalized Linear Model Regression Results                  \n",
       "==============================================================================\n",
       "Dep. Variable:              Converted   No. Observations:                 6320\n",
       "Model:                            GLM   Df Residuals:                     6258\n",
       "Model Family:                Binomial   Df Model:                           61\n",
       "Link Function:                  Logit   Scale:                          1.0000\n",
       "Method:                          IRLS   Log-Likelihood:                    nan\n",
       "Date:                Wed, 17 May 2023   Deviance:                   1.3898e+05\n",
       "Time:                        18:50:27   Pearson chi2:                 6.80e+18\n",
       "No. Iterations:                   100   Pseudo R-squ. (CS):                nan\n",
       "Covariance Type:            nonrobust                                         \n",
       "====================================================================================================================\n",
       "                                                       coef    std err          z      P>|z|      [0.025      0.975]\n",
       "--------------------------------------------------------------------------------------------------------------------\n",
       "const                                             1.113e+16   6.69e+07   1.66e+08      0.000    1.11e+16    1.11e+16\n",
       "Do Not Email                                     -4.652e+14   4.48e+06  -1.04e+08      0.000   -4.65e+14   -4.65e+14\n",
       "Do Not Call                                       6.473e+15   4.76e+07   1.36e+08      0.000    6.47e+15    6.47e+15\n",
       "TotalVisits                                       1.067e+15   7.66e+06   1.39e+08      0.000    1.07e+15    1.07e+15\n",
       "Total Time Spent on Website                       6.067e+14   4.02e+06   1.51e+08      0.000    6.07e+14    6.07e+14\n",
       "Page Views Per Visit                             -9.878e+14   6.53e+06  -1.51e+08      0.000   -9.88e+14   -9.88e+14\n",
       "Search                                           -1.142e+15   2.44e+07  -4.68e+07      0.000   -1.14e+15   -1.14e+15\n",
       "Digital Advertisement                             1.394e+15   4.76e+07   2.93e+07      0.000    1.39e+15    1.39e+15\n",
       "Through Recommendations                           2.238e+15    4.2e+07   5.32e+07      0.000    2.24e+15    2.24e+15\n",
       "A free copy of Mastering The Interview           -1.781e+13   2.69e+06  -6.61e+06      0.000   -1.78e+13   -1.78e+13\n",
       "LeadOrigin_API                                   -1.363e+16   7.51e+07  -1.82e+08      0.000   -1.36e+16   -1.36e+16\n",
       "LeadOrigin_Landing Page Submission                -1.36e+16   7.51e+07  -1.81e+08      0.000   -1.36e+16   -1.36e+16\n",
       "LeadOrigin_Lead Add Form                         -1.235e+16   6.87e+07   -1.8e+08      0.000   -1.24e+16   -1.24e+16\n",
       "LeadOrigin_Lead Import                           -1.381e+16   8.43e+07  -1.64e+08      0.000   -1.38e+16   -1.38e+16\n",
       "LeadSource_Click2call                             3.458e+15   5.01e+07    6.9e+07      0.000    3.46e+15    3.46e+15\n",
       "LeadSource_Direct Traffic                         1.538e+15    1.6e+07   9.62e+07      0.000    1.54e+15    1.54e+15\n",
       "LeadSource_Facebook                               1.135e+15   4.65e+07   2.44e+07      0.000    1.14e+15    1.14e+15\n",
       "LeadSource_Google                                 1.756e+15   1.59e+07    1.1e+08      0.000    1.76e+15    1.76e+15\n",
       "LeadSource_Live Chat                              1.732e+15   5.01e+07   3.46e+07      0.000    1.73e+15    1.73e+15\n",
       "LeadSource_Olark Chat                                 7e+14    1.6e+07   4.38e+07      0.000       7e+14       7e+14\n",
       "LeadSource_Organic Search                         1.665e+15   1.61e+07   1.04e+08      0.000    1.66e+15    1.66e+15\n",
       "LeadSource_Others                                  9.94e+14    2.4e+07   4.15e+07      0.000    9.94e+14    9.94e+14\n",
       "LeadSource_Pay per Click Ads                        16.6573   2.09e-07   7.99e+07      0.000      16.657      16.657\n",
       "LeadSource_Press_Release                           -90.5442   4.88e-07  -1.85e+08      0.000     -90.544     -90.544\n",
       "LeadSource_Reference                              9.388e+14    2.3e+07   4.08e+07      0.000    9.39e+14    9.39e+14\n",
       "LeadSource_Referral Sites                         1.464e+15   1.74e+07    8.4e+07      0.000    1.46e+15    1.46e+15\n",
       "LeadSource_Social Media                          -2.222e+15   6.52e+07  -3.41e+07      0.000   -2.22e+15   -2.22e+15\n",
       "LeadSource_WeLearn                                  -9.7655    1.6e-07  -6.09e+07      0.000      -9.766      -9.766\n",
       "LeadSource_Welingak Website                       1.598e+15   2.35e+07   6.79e+07      0.000     1.6e+15     1.6e+15\n",
       "LeadSource_bing                                   4.362e+13   3.24e+07   1.35e+06      0.000    4.36e+13    4.36e+13\n",
       "LeadSource_blog                                  -2.377e+15    6.5e+07  -3.66e+07      0.000   -2.38e+15   -2.38e+15\n",
       "LeadSource_testone                                -3.23e+15   6.51e+07  -4.96e+07      0.000   -3.23e+15   -3.23e+15\n",
       "LeadSource_welearnblog_Home                       1.941e+15    6.5e+07   2.99e+07      0.000    1.94e+15    1.94e+15\n",
       "LeadSource_youtubechannel                            5.3142   1.56e-07    3.4e+07      0.000       5.314       5.314\n",
       "LastActivity_Approached upfront                   5.404e+15   2.72e+07   1.98e+08      0.000     5.4e+15     5.4e+15\n",
       "LastActivity_Converted to Lead                    5.936e+13   9.45e+06   6.28e+06      0.000    5.94e+13    5.94e+13\n",
       "LastActivity_Email Bounced                        4.934e+14   1.03e+07   4.79e+07      0.000    4.93e+14    4.93e+14\n",
       "LastActivity_Email Link Clicked                   5.969e+14   1.15e+07    5.2e+07      0.000    5.97e+14    5.97e+14\n",
       "LastActivity_Email Marked Spam                    3.097e+15   2.33e+07   1.33e+08      0.000     3.1e+15     3.1e+15\n",
       "LastActivity_Email Opened                         1.208e+15   9.17e+06   1.32e+08      0.000    1.21e+15    1.21e+15\n",
       "LastActivity_Email Received                       4.038e+15   6.38e+07   6.33e+07      0.000    4.04e+15    4.04e+15\n",
       "LastActivity_Form Submitted on Website            3.131e+14   1.14e+07   2.76e+07      0.000    3.13e+14    3.13e+14\n",
       "LastActivity_Had a Phone Conversation            -2.347e+14   2.27e+07  -1.04e+07      0.000   -2.35e+14   -2.35e+14\n",
       "LastActivity_Olark Chat Conversation              9.028e+14   9.17e+06   9.85e+07      0.000    9.03e+14    9.03e+14\n",
       "LastActivity_Others                               1.278e+15    1.2e+07   1.07e+08      0.000    1.28e+15    1.28e+15\n",
       "LastActivity_Page Visited on Website              4.164e+14   9.59e+06   4.34e+07      0.000    4.16e+14    4.16e+14\n",
       "LastActivity_SMS Sent                             8.148e+14   9.18e+06   8.87e+07      0.000    8.15e+14    8.15e+14\n",
       "LastActivity_Unreachable                         -3.203e+13    1.3e+07  -2.47e+06      0.000    -3.2e+13    -3.2e+13\n",
       "LastActivity_Unsubscribed                         1.077e+15   2.39e+07   4.51e+07      0.000    1.08e+15    1.08e+15\n",
       "LastActivity_View in browser link Clicked        -4.759e+15   6.33e+07  -7.52e+07      0.000   -4.76e+15   -4.76e+15\n",
       "LastActivity_Visited Booth in Tradeshow          -3.539e+15   6.37e+07  -5.55e+07      0.000   -3.54e+15   -3.54e+15\n",
       "CurrentOccupation_Housewife                       1.922e+15   4.12e+07   4.66e+07      0.000    1.92e+15    1.92e+15\n",
       "CurrentOccupation_No Information                 -1.247e+15   3.37e+07   -3.7e+07      0.000   -1.25e+15   -1.25e+15\n",
       "CurrentOccupation_Other                           1.936e+14   3.89e+07   4.98e+06      0.000    1.94e+14    1.94e+14\n",
       "CurrentOccupation_Student                        -7.117e+14   3.41e+07  -2.09e+07      0.000   -7.12e+14   -7.12e+14\n",
       "CurrentOccupation_Unemployed                     -6.254e+14   3.37e+07  -1.86e+07      0.000   -6.25e+14   -6.25e+14\n",
       "CurrentOccupation_Working Professional            6.584e+14   3.38e+07   1.95e+07      0.000    6.58e+14    6.58e+14\n",
       "LastNotableActivity_Approached upfront               0.2937   7.79e-09   3.77e+07      0.000       0.294       0.294\n",
       "LastNotableActivity_Email Bounced                 9.647e+14   1.55e+07   6.22e+07      0.000    9.65e+14    9.65e+14\n",
       "LastNotableActivity_Email Link Clicked            7.592e+14   1.46e+07   5.19e+07      0.000    7.59e+14    7.59e+14\n",
       "LastNotableActivity_Email Marked Spam             3.097e+15   2.33e+07   1.33e+08      0.000     3.1e+15     3.1e+15\n",
       "LastNotableActivity_Email Opened                 -1.507e+14   1.17e+07  -1.29e+07      0.000   -1.51e+14   -1.51e+14\n",
       "LastNotableActivity_Email Received                   0.5738   7.46e-09   7.69e+07      0.000       0.574       0.574\n",
       "LastNotableActivity_Form Submitted on Website    -3.378e+15   6.33e+07  -5.33e+07      0.000   -3.38e+15   -3.38e+15\n",
       "LastNotableActivity_Had a Phone Conversation      1.633e+15   3.12e+07   5.24e+07      0.000    1.63e+15    1.63e+15\n",
       "LastNotableActivity_Modified                      5.416e+14   1.12e+07   4.84e+07      0.000    5.42e+14    5.42e+14\n",
       "LastNotableActivity_Olark Chat Conversation       6.798e+14   1.27e+07   5.35e+07      0.000     6.8e+14     6.8e+14\n",
       "LastNotableActivity_Page Visited on Website       3.778e+14   1.27e+07   2.97e+07      0.000    3.78e+14    3.78e+14\n",
       "LastNotableActivity_SMS Sent                      1.134e+15   1.17e+07   9.65e+07      0.000    1.13e+15    1.13e+15\n",
       "LastNotableActivity_Unreachable                   2.066e+15   1.98e+07   1.05e+08      0.000    2.07e+15    2.07e+15\n",
       "LastNotableActivity_Unsubscribed                  6.444e+14   2.72e+07   2.37e+07      0.000    6.44e+14    6.44e+14\n",
       "LastNotableActivity_View in browser link Clicked  2.765e+15   8.79e+07   3.14e+07      0.000    2.76e+15    2.76e+15\n",
       "====================================================================================================================\n",
       "\"\"\""
      ]
     },
     "execution_count": 82,
     "metadata": {},
     "output_type": "execute_result"
    }
   ],
   "source": [
    "# Logistic regression model\n",
    "logm1 = sm.GLM(y_train,(sm.add_constant(X_train)), family = sm.families.Binomial())\n",
    "logm1.fit().summary()"
   ]
  },
  {
   "cell_type": "markdown",
   "id": "3e5bbe99",
   "metadata": {},
   "source": [
    "### 8.Feature Selection Using RFE"
   ]
  },
  {
   "cell_type": "code",
   "execution_count": 83,
   "id": "b7c2e912",
   "metadata": {},
   "outputs": [],
   "source": [
    "logreg = LogisticRegression()"
   ]
  },
  {
   "cell_type": "code",
   "execution_count": 84,
   "id": "487b87f0",
   "metadata": {},
   "outputs": [],
   "source": [
    "rfe = RFE(logreg, n_features_to_select=20)\n",
    "rfe = rfe.fit(X_train, y_train)"
   ]
  },
  {
   "cell_type": "code",
   "execution_count": 85,
   "id": "8a9d80e9",
   "metadata": {},
   "outputs": [
    {
     "data": {
      "text/plain": [
       "[('Do Not Email', True, 1),\n",
       " ('Do Not Call', False, 13),\n",
       " ('TotalVisits', True, 1),\n",
       " ('Total Time Spent on Website', True, 1),\n",
       " ('Page Views Per Visit', True, 1),\n",
       " ('Search', True, 1),\n",
       " ('Digital Advertisement', False, 46),\n",
       " ('Through Recommendations', False, 31),\n",
       " ('A free copy of Mastering The Interview', False, 37),\n",
       " ('LeadOrigin_API', False, 9),\n",
       " ('LeadOrigin_Landing Page Submission', False, 8),\n",
       " ('LeadOrigin_Lead Add Form', True, 1),\n",
       " ('LeadOrigin_Lead Import', False, 19),\n",
       " ('LeadSource_Click2call', False, 28),\n",
       " ('LeadSource_Direct Traffic', False, 16),\n",
       " ('LeadSource_Facebook', False, 10),\n",
       " ('LeadSource_Google', False, 22),\n",
       " ('LeadSource_Live Chat', False, 38),\n",
       " ('LeadSource_Olark Chat', True, 1),\n",
       " ('LeadSource_Organic Search', False, 21),\n",
       " ('LeadSource_Others', False, 42),\n",
       " ('LeadSource_Pay per Click Ads', False, 50),\n",
       " ('LeadSource_Press_Release', False, 51),\n",
       " ('LeadSource_Reference', True, 1),\n",
       " ('LeadSource_Referral Sites', False, 20),\n",
       " ('LeadSource_Social Media', False, 40),\n",
       " ('LeadSource_WeLearn', False, 47),\n",
       " ('LeadSource_Welingak Website', True, 1),\n",
       " ('LeadSource_bing', False, 18),\n",
       " ('LeadSource_blog', False, 35),\n",
       " ('LeadSource_testone', False, 30),\n",
       " ('LeadSource_welearnblog_Home', False, 39),\n",
       " ('LeadSource_youtubechannel', False, 48),\n",
       " ('LastActivity_Approached upfront', True, 1),\n",
       " ('LastActivity_Converted to Lead', False, 26),\n",
       " ('LastActivity_Email Bounced', False, 6),\n",
       " ('LastActivity_Email Link Clicked', False, 14),\n",
       " ('LastActivity_Email Marked Spam', False, 17),\n",
       " ('LastActivity_Email Opened', True, 1),\n",
       " ('LastActivity_Email Received', False, 44),\n",
       " ('LastActivity_Form Submitted on Website', False, 34),\n",
       " ('LastActivity_Had a Phone Conversation', True, 1),\n",
       " ('LastActivity_Olark Chat Conversation', True, 1),\n",
       " ('LastActivity_Others', False, 7),\n",
       " ('LastActivity_Page Visited on Website', False, 33),\n",
       " ('LastActivity_SMS Sent', True, 1),\n",
       " ('LastActivity_Unreachable', False, 29),\n",
       " ('LastActivity_Unsubscribed', False, 23),\n",
       " ('LastActivity_View in browser link Clicked', False, 27),\n",
       " ('LastActivity_Visited Booth in Tradeshow', False, 41),\n",
       " ('CurrentOccupation_Housewife', True, 1),\n",
       " ('CurrentOccupation_No Information', True, 1),\n",
       " ('CurrentOccupation_Other', False, 36),\n",
       " ('CurrentOccupation_Student', False, 11),\n",
       " ('CurrentOccupation_Unemployed', False, 12),\n",
       " ('CurrentOccupation_Working Professional', True, 1),\n",
       " ('LastNotableActivity_Approached upfront', False, 52),\n",
       " ('LastNotableActivity_Email Bounced', False, 24),\n",
       " ('LastNotableActivity_Email Link Clicked', False, 4),\n",
       " ('LastNotableActivity_Email Marked Spam', False, 15),\n",
       " ('LastNotableActivity_Email Opened', False, 2),\n",
       " ('LastNotableActivity_Email Received', False, 49),\n",
       " ('LastNotableActivity_Form Submitted on Website', False, 45),\n",
       " ('LastNotableActivity_Had a Phone Conversation', True, 1),\n",
       " ('LastNotableActivity_Modified', True, 1),\n",
       " ('LastNotableActivity_Olark Chat Conversation', False, 3),\n",
       " ('LastNotableActivity_Page Visited on Website', False, 5),\n",
       " ('LastNotableActivity_SMS Sent', False, 25),\n",
       " ('LastNotableActivity_Unreachable', True, 1),\n",
       " ('LastNotableActivity_Unsubscribed', False, 43),\n",
       " ('LastNotableActivity_View in browser link Clicked', False, 32)]"
      ]
     },
     "execution_count": 85,
     "metadata": {},
     "output_type": "execute_result"
    }
   ],
   "source": [
    "list(zip(X_train.columns, rfe.support_, rfe.ranking_))"
   ]
  },
  {
   "cell_type": "code",
   "execution_count": 86,
   "id": "6f03fb8e",
   "metadata": {},
   "outputs": [
    {
     "data": {
      "text/plain": [
       "Index(['Do Not Email', 'TotalVisits', 'Total Time Spent on Website',\n",
       "       'Page Views Per Visit', 'Search', 'LeadOrigin_Lead Add Form',\n",
       "       'LeadSource_Olark Chat', 'LeadSource_Reference',\n",
       "       'LeadSource_Welingak Website', 'LastActivity_Approached upfront',\n",
       "       'LastActivity_Email Opened', 'LastActivity_Had a Phone Conversation',\n",
       "       'LastActivity_Olark Chat Conversation', 'LastActivity_SMS Sent',\n",
       "       'CurrentOccupation_Housewife', 'CurrentOccupation_No Information',\n",
       "       'CurrentOccupation_Working Professional',\n",
       "       'LastNotableActivity_Had a Phone Conversation',\n",
       "       'LastNotableActivity_Modified', 'LastNotableActivity_Unreachable'],\n",
       "      dtype='object')"
      ]
     },
     "execution_count": 86,
     "metadata": {},
     "output_type": "execute_result"
    }
   ],
   "source": [
    "# variables shortlisted by RFE\n",
    "\n",
    "col = X_train.columns[rfe.support_]\n",
    "col"
   ]
  },
  {
   "cell_type": "markdown",
   "id": "862cd7ba",
   "metadata": {},
   "source": [
    "#### Rebuilding Model : 2"
   ]
  },
  {
   "cell_type": "code",
   "execution_count": 87,
   "id": "3ef48d1e",
   "metadata": {},
   "outputs": [
    {
     "data": {
      "text/html": [
       "<table class=\"simpletable\">\n",
       "<caption>Generalized Linear Model Regression Results</caption>\n",
       "<tr>\n",
       "  <th>Dep. Variable:</th>       <td>Converted</td>    <th>  No. Observations:  </th>  <td>  6320</td> \n",
       "</tr>\n",
       "<tr>\n",
       "  <th>Model:</th>                  <td>GLM</td>       <th>  Df Residuals:      </th>  <td>  6299</td> \n",
       "</tr>\n",
       "<tr>\n",
       "  <th>Model Family:</th>        <td>Binomial</td>     <th>  Df Model:          </th>  <td>    20</td> \n",
       "</tr>\n",
       "<tr>\n",
       "  <th>Link Function:</th>         <td>Logit</td>      <th>  Scale:             </th> <td>  1.0000</td>\n",
       "</tr>\n",
       "<tr>\n",
       "  <th>Method:</th>                <td>IRLS</td>       <th>  Log-Likelihood:    </th> <td> -2501.1</td>\n",
       "</tr>\n",
       "<tr>\n",
       "  <th>Date:</th>            <td>Wed, 17 May 2023</td> <th>  Deviance:          </th> <td>  5002.3</td>\n",
       "</tr>\n",
       "<tr>\n",
       "  <th>Time:</th>                <td>19:37:48</td>     <th>  Pearson chi2:      </th> <td>6.53e+03</td>\n",
       "</tr>\n",
       "<tr>\n",
       "  <th>No. Iterations:</th>         <td>22</td>        <th>  Pseudo R-squ. (CS):</th>  <td>0.4205</td> \n",
       "</tr>\n",
       "<tr>\n",
       "  <th>Covariance Type:</th>     <td>nonrobust</td>    <th>                     </th>     <td> </td>   \n",
       "</tr>\n",
       "</table>\n",
       "<table class=\"simpletable\">\n",
       "<tr>\n",
       "                        <td></td>                          <th>coef</th>     <th>std err</th>      <th>z</th>      <th>P>|z|</th>  <th>[0.025</th>    <th>0.975]</th>  \n",
       "</tr>\n",
       "<tr>\n",
       "  <th>const</th>                                        <td>   -2.5570</td> <td>    0.153</td> <td>  -16.659</td> <td> 0.000</td> <td>   -2.858</td> <td>   -2.256</td>\n",
       "</tr>\n",
       "<tr>\n",
       "  <th>Do Not Email</th>                                 <td>   -1.1023</td> <td>    0.176</td> <td>   -6.276</td> <td> 0.000</td> <td>   -1.447</td> <td>   -0.758</td>\n",
       "</tr>\n",
       "<tr>\n",
       "  <th>TotalVisits</th>                                  <td>    1.7989</td> <td>    0.290</td> <td>    6.206</td> <td> 0.000</td> <td>    1.231</td> <td>    2.367</td>\n",
       "</tr>\n",
       "<tr>\n",
       "  <th>Total Time Spent on Website</th>                  <td>    4.5119</td> <td>    0.169</td> <td>   26.717</td> <td> 0.000</td> <td>    4.181</td> <td>    4.843</td>\n",
       "</tr>\n",
       "<tr>\n",
       "  <th>Page Views Per Visit</th>                         <td>   -0.8642</td> <td>    0.250</td> <td>   -3.453</td> <td> 0.001</td> <td>   -1.355</td> <td>   -0.374</td>\n",
       "</tr>\n",
       "<tr>\n",
       "  <th>Search</th>                                       <td>   -1.6356</td> <td>    1.011</td> <td>   -1.618</td> <td> 0.106</td> <td>   -3.617</td> <td>    0.346</td>\n",
       "</tr>\n",
       "<tr>\n",
       "  <th>LeadOrigin_Lead Add Form</th>                     <td>    3.0358</td> <td>    0.512</td> <td>    5.932</td> <td> 0.000</td> <td>    2.033</td> <td>    4.039</td>\n",
       "</tr>\n",
       "<tr>\n",
       "  <th>LeadSource_Olark Chat</th>                        <td>    1.4699</td> <td>    0.134</td> <td>   10.947</td> <td> 0.000</td> <td>    1.207</td> <td>    1.733</td>\n",
       "</tr>\n",
       "<tr>\n",
       "  <th>LeadSource_Reference</th>                         <td>    0.6403</td> <td>    0.540</td> <td>    1.185</td> <td> 0.236</td> <td>   -0.418</td> <td>    1.699</td>\n",
       "</tr>\n",
       "<tr>\n",
       "  <th>LeadSource_Welingak Website</th>                  <td>    2.6586</td> <td>    0.876</td> <td>    3.036</td> <td> 0.002</td> <td>    0.942</td> <td>    4.375</td>\n",
       "</tr>\n",
       "<tr>\n",
       "  <th>LastActivity_Approached upfront</th>              <td>   23.9469</td> <td> 2.63e+04</td> <td>    0.001</td> <td> 0.999</td> <td>-5.16e+04</td> <td> 5.17e+04</td>\n",
       "</tr>\n",
       "<tr>\n",
       "  <th>LastActivity_Email Opened</th>                    <td>    0.5394</td> <td>    0.117</td> <td>    4.599</td> <td> 0.000</td> <td>    0.310</td> <td>    0.769</td>\n",
       "</tr>\n",
       "<tr>\n",
       "  <th>LastActivity_Had a Phone Conversation</th>        <td>    1.1718</td> <td>    0.939</td> <td>    1.248</td> <td> 0.212</td> <td>   -0.668</td> <td>    3.011</td>\n",
       "</tr>\n",
       "<tr>\n",
       "  <th>LastActivity_Olark Chat Conversation</th>         <td>   -0.5893</td> <td>    0.190</td> <td>   -3.101</td> <td> 0.002</td> <td>   -0.962</td> <td>   -0.217</td>\n",
       "</tr>\n",
       "<tr>\n",
       "  <th>LastActivity_SMS Sent</th>                        <td>    1.7403</td> <td>    0.118</td> <td>   14.697</td> <td> 0.000</td> <td>    1.508</td> <td>    1.972</td>\n",
       "</tr>\n",
       "<tr>\n",
       "  <th>CurrentOccupation_Housewife</th>                  <td>   23.9667</td> <td> 2.43e+04</td> <td>    0.001</td> <td> 0.999</td> <td>-4.76e+04</td> <td> 4.76e+04</td>\n",
       "</tr>\n",
       "<tr>\n",
       "  <th>CurrentOccupation_No Information</th>             <td>   -1.2346</td> <td>    0.090</td> <td>  -13.681</td> <td> 0.000</td> <td>   -1.411</td> <td>   -1.058</td>\n",
       "</tr>\n",
       "<tr>\n",
       "  <th>CurrentOccupation_Working Professional</th>       <td>    2.6225</td> <td>    0.203</td> <td>   12.889</td> <td> 0.000</td> <td>    2.224</td> <td>    3.021</td>\n",
       "</tr>\n",
       "<tr>\n",
       "  <th>LastNotableActivity_Had a Phone Conversation</th> <td>    2.3799</td> <td>    1.501</td> <td>    1.585</td> <td> 0.113</td> <td>   -0.562</td> <td>    5.322</td>\n",
       "</tr>\n",
       "<tr>\n",
       "  <th>LastNotableActivity_Modified</th>                 <td>   -0.5521</td> <td>    0.090</td> <td>   -6.131</td> <td> 0.000</td> <td>   -0.729</td> <td>   -0.376</td>\n",
       "</tr>\n",
       "<tr>\n",
       "  <th>LastNotableActivity_Unreachable</th>              <td>    2.0387</td> <td>    0.556</td> <td>    3.665</td> <td> 0.000</td> <td>    0.948</td> <td>    3.129</td>\n",
       "</tr>\n",
       "</table>"
      ],
      "text/plain": [
       "<class 'statsmodels.iolib.summary.Summary'>\n",
       "\"\"\"\n",
       "                 Generalized Linear Model Regression Results                  \n",
       "==============================================================================\n",
       "Dep. Variable:              Converted   No. Observations:                 6320\n",
       "Model:                            GLM   Df Residuals:                     6299\n",
       "Model Family:                Binomial   Df Model:                           20\n",
       "Link Function:                  Logit   Scale:                          1.0000\n",
       "Method:                          IRLS   Log-Likelihood:                -2501.1\n",
       "Date:                Wed, 17 May 2023   Deviance:                       5002.3\n",
       "Time:                        19:37:48   Pearson chi2:                 6.53e+03\n",
       "No. Iterations:                    22   Pseudo R-squ. (CS):             0.4205\n",
       "Covariance Type:            nonrobust                                         \n",
       "================================================================================================================\n",
       "                                                   coef    std err          z      P>|z|      [0.025      0.975]\n",
       "----------------------------------------------------------------------------------------------------------------\n",
       "const                                           -2.5570      0.153    -16.659      0.000      -2.858      -2.256\n",
       "Do Not Email                                    -1.1023      0.176     -6.276      0.000      -1.447      -0.758\n",
       "TotalVisits                                      1.7989      0.290      6.206      0.000       1.231       2.367\n",
       "Total Time Spent on Website                      4.5119      0.169     26.717      0.000       4.181       4.843\n",
       "Page Views Per Visit                            -0.8642      0.250     -3.453      0.001      -1.355      -0.374\n",
       "Search                                          -1.6356      1.011     -1.618      0.106      -3.617       0.346\n",
       "LeadOrigin_Lead Add Form                         3.0358      0.512      5.932      0.000       2.033       4.039\n",
       "LeadSource_Olark Chat                            1.4699      0.134     10.947      0.000       1.207       1.733\n",
       "LeadSource_Reference                             0.6403      0.540      1.185      0.236      -0.418       1.699\n",
       "LeadSource_Welingak Website                      2.6586      0.876      3.036      0.002       0.942       4.375\n",
       "LastActivity_Approached upfront                 23.9469   2.63e+04      0.001      0.999   -5.16e+04    5.17e+04\n",
       "LastActivity_Email Opened                        0.5394      0.117      4.599      0.000       0.310       0.769\n",
       "LastActivity_Had a Phone Conversation            1.1718      0.939      1.248      0.212      -0.668       3.011\n",
       "LastActivity_Olark Chat Conversation            -0.5893      0.190     -3.101      0.002      -0.962      -0.217\n",
       "LastActivity_SMS Sent                            1.7403      0.118     14.697      0.000       1.508       1.972\n",
       "CurrentOccupation_Housewife                     23.9667   2.43e+04      0.001      0.999   -4.76e+04    4.76e+04\n",
       "CurrentOccupation_No Information                -1.2346      0.090    -13.681      0.000      -1.411      -1.058\n",
       "CurrentOccupation_Working Professional           2.6225      0.203     12.889      0.000       2.224       3.021\n",
       "LastNotableActivity_Had a Phone Conversation     2.3799      1.501      1.585      0.113      -0.562       5.322\n",
       "LastNotableActivity_Modified                    -0.5521      0.090     -6.131      0.000      -0.729      -0.376\n",
       "LastNotableActivity_Unreachable                  2.0387      0.556      3.665      0.000       0.948       3.129\n",
       "================================================================================================================\n",
       "\"\"\""
      ]
     },
     "execution_count": 87,
     "metadata": {},
     "output_type": "execute_result"
    }
   ],
   "source": [
    "X_train_sm = sm.add_constant(X_train[col])\n",
    "logm2 = sm.GLM(y_train,X_train_sm, family = sm.families.Binomial())\n",
    "res = logm2.fit()\n",
    "res.summary()"
   ]
  },
  {
   "cell_type": "markdown",
   "id": "27e5c4f1",
   "metadata": {},
   "source": [
    "Removing column LastActivity_Approached_Upfront as it has a high pvalue and hence is insignificant."
   ]
  },
  {
   "cell_type": "code",
   "execution_count": 88,
   "id": "98e537cd",
   "metadata": {},
   "outputs": [],
   "source": [
    "#removing the column\n",
    "col = col.drop('LastActivity_Approached upfront',1)"
   ]
  },
  {
   "cell_type": "markdown",
   "id": "c0a27991",
   "metadata": {},
   "source": [
    "#### Rebuilding Model : 3"
   ]
  },
  {
   "cell_type": "code",
   "execution_count": 89,
   "id": "638f3990",
   "metadata": {},
   "outputs": [
    {
     "data": {
      "text/html": [
       "<table class=\"simpletable\">\n",
       "<caption>Generalized Linear Model Regression Results</caption>\n",
       "<tr>\n",
       "  <th>Dep. Variable:</th>       <td>Converted</td>    <th>  No. Observations:  </th>  <td>  6320</td> \n",
       "</tr>\n",
       "<tr>\n",
       "  <th>Model:</th>                  <td>GLM</td>       <th>  Df Residuals:      </th>  <td>  6300</td> \n",
       "</tr>\n",
       "<tr>\n",
       "  <th>Model Family:</th>        <td>Binomial</td>     <th>  Df Model:          </th>  <td>    19</td> \n",
       "</tr>\n",
       "<tr>\n",
       "  <th>Link Function:</th>         <td>Logit</td>      <th>  Scale:             </th> <td>  1.0000</td>\n",
       "</tr>\n",
       "<tr>\n",
       "  <th>Method:</th>                <td>IRLS</td>       <th>  Log-Likelihood:    </th> <td> -2506.6</td>\n",
       "</tr>\n",
       "<tr>\n",
       "  <th>Date:</th>            <td>Wed, 17 May 2023</td> <th>  Deviance:          </th> <td>  5013.2</td>\n",
       "</tr>\n",
       "<tr>\n",
       "  <th>Time:</th>                <td>19:41:41</td>     <th>  Pearson chi2:      </th> <td>6.53e+03</td>\n",
       "</tr>\n",
       "<tr>\n",
       "  <th>No. Iterations:</th>         <td>21</td>        <th>  Pseudo R-squ. (CS):</th>  <td>0.4195</td> \n",
       "</tr>\n",
       "<tr>\n",
       "  <th>Covariance Type:</th>     <td>nonrobust</td>    <th>                     </th>     <td> </td>   \n",
       "</tr>\n",
       "</table>\n",
       "<table class=\"simpletable\">\n",
       "<tr>\n",
       "                        <td></td>                          <th>coef</th>     <th>std err</th>      <th>z</th>      <th>P>|z|</th>  <th>[0.025</th>    <th>0.975]</th>  \n",
       "</tr>\n",
       "<tr>\n",
       "  <th>const</th>                                        <td>   -2.5414</td> <td>    0.153</td> <td>  -16.608</td> <td> 0.000</td> <td>   -2.841</td> <td>   -2.241</td>\n",
       "</tr>\n",
       "<tr>\n",
       "  <th>Do Not Email</th>                                 <td>   -1.1140</td> <td>    0.175</td> <td>   -6.350</td> <td> 0.000</td> <td>   -1.458</td> <td>   -0.770</td>\n",
       "</tr>\n",
       "<tr>\n",
       "  <th>TotalVisits</th>                                  <td>    1.7878</td> <td>    0.290</td> <td>    6.171</td> <td> 0.000</td> <td>    1.220</td> <td>    2.356</td>\n",
       "</tr>\n",
       "<tr>\n",
       "  <th>Total Time Spent on Website</th>                  <td>    4.5173</td> <td>    0.169</td> <td>   26.768</td> <td> 0.000</td> <td>    4.187</td> <td>    4.848</td>\n",
       "</tr>\n",
       "<tr>\n",
       "  <th>Page Views Per Visit</th>                         <td>   -0.8483</td> <td>    0.250</td> <td>   -3.393</td> <td> 0.001</td> <td>   -1.338</td> <td>   -0.358</td>\n",
       "</tr>\n",
       "<tr>\n",
       "  <th>Search</th>                                       <td>   -1.6363</td> <td>    1.012</td> <td>   -1.617</td> <td> 0.106</td> <td>   -3.620</td> <td>    0.347</td>\n",
       "</tr>\n",
       "<tr>\n",
       "  <th>LeadOrigin_Lead Add Form</th>                     <td>    3.0402</td> <td>    0.511</td> <td>    5.946</td> <td> 0.000</td> <td>    2.038</td> <td>    4.042</td>\n",
       "</tr>\n",
       "<tr>\n",
       "  <th>LeadSource_Olark Chat</th>                        <td>    1.4873</td> <td>    0.134</td> <td>   11.087</td> <td> 0.000</td> <td>    1.224</td> <td>    1.750</td>\n",
       "</tr>\n",
       "<tr>\n",
       "  <th>LeadSource_Reference</th>                         <td>    0.6399</td> <td>    0.540</td> <td>    1.186</td> <td> 0.236</td> <td>   -0.418</td> <td>    1.698</td>\n",
       "</tr>\n",
       "<tr>\n",
       "  <th>LeadSource_Welingak Website</th>                  <td>    2.6555</td> <td>    0.875</td> <td>    3.034</td> <td> 0.002</td> <td>    0.940</td> <td>    4.371</td>\n",
       "</tr>\n",
       "<tr>\n",
       "  <th>LastActivity_Email Opened</th>                    <td>    0.5164</td> <td>    0.117</td> <td>    4.424</td> <td> 0.000</td> <td>    0.288</td> <td>    0.745</td>\n",
       "</tr>\n",
       "<tr>\n",
       "  <th>LastActivity_Had a Phone Conversation</th>        <td>    1.1429</td> <td>    0.939</td> <td>    1.218</td> <td> 0.223</td> <td>   -0.697</td> <td>    2.982</td>\n",
       "</tr>\n",
       "<tr>\n",
       "  <th>LastActivity_Olark Chat Conversation</th>         <td>   -0.6220</td> <td>    0.190</td> <td>   -3.282</td> <td> 0.001</td> <td>   -0.994</td> <td>   -0.250</td>\n",
       "</tr>\n",
       "<tr>\n",
       "  <th>LastActivity_SMS Sent</th>                        <td>    1.7182</td> <td>    0.118</td> <td>   14.579</td> <td> 0.000</td> <td>    1.487</td> <td>    1.949</td>\n",
       "</tr>\n",
       "<tr>\n",
       "  <th>CurrentOccupation_Housewife</th>                  <td>   22.9568</td> <td> 1.47e+04</td> <td>    0.002</td> <td> 0.999</td> <td>-2.88e+04</td> <td> 2.89e+04</td>\n",
       "</tr>\n",
       "<tr>\n",
       "  <th>CurrentOccupation_No Information</th>             <td>   -1.2409</td> <td>    0.090</td> <td>  -13.758</td> <td> 0.000</td> <td>   -1.418</td> <td>   -1.064</td>\n",
       "</tr>\n",
       "<tr>\n",
       "  <th>CurrentOccupation_Working Professional</th>       <td>    2.6161</td> <td>    0.203</td> <td>   12.868</td> <td> 0.000</td> <td>    2.218</td> <td>    3.015</td>\n",
       "</tr>\n",
       "<tr>\n",
       "  <th>LastNotableActivity_Had a Phone Conversation</th> <td>    2.3908</td> <td>    1.501</td> <td>    1.592</td> <td> 0.111</td> <td>   -0.552</td> <td>    5.333</td>\n",
       "</tr>\n",
       "<tr>\n",
       "  <th>LastNotableActivity_Modified</th>                 <td>   -0.5431</td> <td>    0.090</td> <td>   -6.041</td> <td> 0.000</td> <td>   -0.719</td> <td>   -0.367</td>\n",
       "</tr>\n",
       "<tr>\n",
       "  <th>LastNotableActivity_Unreachable</th>              <td>    2.0197</td> <td>    0.556</td> <td>    3.630</td> <td> 0.000</td> <td>    0.929</td> <td>    3.110</td>\n",
       "</tr>\n",
       "</table>"
      ],
      "text/plain": [
       "<class 'statsmodels.iolib.summary.Summary'>\n",
       "\"\"\"\n",
       "                 Generalized Linear Model Regression Results                  \n",
       "==============================================================================\n",
       "Dep. Variable:              Converted   No. Observations:                 6320\n",
       "Model:                            GLM   Df Residuals:                     6300\n",
       "Model Family:                Binomial   Df Model:                           19\n",
       "Link Function:                  Logit   Scale:                          1.0000\n",
       "Method:                          IRLS   Log-Likelihood:                -2506.6\n",
       "Date:                Wed, 17 May 2023   Deviance:                       5013.2\n",
       "Time:                        19:41:41   Pearson chi2:                 6.53e+03\n",
       "No. Iterations:                    21   Pseudo R-squ. (CS):             0.4195\n",
       "Covariance Type:            nonrobust                                         \n",
       "================================================================================================================\n",
       "                                                   coef    std err          z      P>|z|      [0.025      0.975]\n",
       "----------------------------------------------------------------------------------------------------------------\n",
       "const                                           -2.5414      0.153    -16.608      0.000      -2.841      -2.241\n",
       "Do Not Email                                    -1.1140      0.175     -6.350      0.000      -1.458      -0.770\n",
       "TotalVisits                                      1.7878      0.290      6.171      0.000       1.220       2.356\n",
       "Total Time Spent on Website                      4.5173      0.169     26.768      0.000       4.187       4.848\n",
       "Page Views Per Visit                            -0.8483      0.250     -3.393      0.001      -1.338      -0.358\n",
       "Search                                          -1.6363      1.012     -1.617      0.106      -3.620       0.347\n",
       "LeadOrigin_Lead Add Form                         3.0402      0.511      5.946      0.000       2.038       4.042\n",
       "LeadSource_Olark Chat                            1.4873      0.134     11.087      0.000       1.224       1.750\n",
       "LeadSource_Reference                             0.6399      0.540      1.186      0.236      -0.418       1.698\n",
       "LeadSource_Welingak Website                      2.6555      0.875      3.034      0.002       0.940       4.371\n",
       "LastActivity_Email Opened                        0.5164      0.117      4.424      0.000       0.288       0.745\n",
       "LastActivity_Had a Phone Conversation            1.1429      0.939      1.218      0.223      -0.697       2.982\n",
       "LastActivity_Olark Chat Conversation            -0.6220      0.190     -3.282      0.001      -0.994      -0.250\n",
       "LastActivity_SMS Sent                            1.7182      0.118     14.579      0.000       1.487       1.949\n",
       "CurrentOccupation_Housewife                     22.9568   1.47e+04      0.002      0.999   -2.88e+04    2.89e+04\n",
       "CurrentOccupation_No Information                -1.2409      0.090    -13.758      0.000      -1.418      -1.064\n",
       "CurrentOccupation_Working Professional           2.6161      0.203     12.868      0.000       2.218       3.015\n",
       "LastNotableActivity_Had a Phone Conversation     2.3908      1.501      1.592      0.111      -0.552       5.333\n",
       "LastNotableActivity_Modified                    -0.5431      0.090     -6.041      0.000      -0.719      -0.367\n",
       "LastNotableActivity_Unreachable                  2.0197      0.556      3.630      0.000       0.929       3.110\n",
       "================================================================================================================\n",
       "\"\"\""
      ]
     },
     "execution_count": 89,
     "metadata": {},
     "output_type": "execute_result"
    }
   ],
   "source": [
    "X_train_sm = sm.add_constant(X_train[col])\n",
    "logm3 = sm.GLM(y_train,X_train_sm, family = sm.families.Binomial())\n",
    "res = logm3.fit()\n",
    "res.summary()"
   ]
  },
  {
   "cell_type": "markdown",
   "id": "6f0d2cdf",
   "metadata": {},
   "source": [
    "Removing column CurrentOccupation_Housewife as it has a high pvalue and hence is insignificant."
   ]
  },
  {
   "cell_type": "code",
   "execution_count": 91,
   "id": "33be0f23",
   "metadata": {},
   "outputs": [],
   "source": [
    "#removing the column\n",
    "col = col.drop('CurrentOccupation_Housewife',1)"
   ]
  },
  {
   "cell_type": "markdown",
   "id": "5282a021",
   "metadata": {},
   "source": [
    "#### Rebuilding Model : 4"
   ]
  },
  {
   "cell_type": "code",
   "execution_count": 93,
   "id": "40cc2cf7",
   "metadata": {},
   "outputs": [
    {
     "data": {
      "text/html": [
       "<table class=\"simpletable\">\n",
       "<caption>Generalized Linear Model Regression Results</caption>\n",
       "<tr>\n",
       "  <th>Dep. Variable:</th>       <td>Converted</td>    <th>  No. Observations:  </th>  <td>  6320</td> \n",
       "</tr>\n",
       "<tr>\n",
       "  <th>Model:</th>                  <td>GLM</td>       <th>  Df Residuals:      </th>  <td>  6301</td> \n",
       "</tr>\n",
       "<tr>\n",
       "  <th>Model Family:</th>        <td>Binomial</td>     <th>  Df Model:          </th>  <td>    18</td> \n",
       "</tr>\n",
       "<tr>\n",
       "  <th>Link Function:</th>         <td>Logit</td>      <th>  Scale:             </th> <td>  1.0000</td>\n",
       "</tr>\n",
       "<tr>\n",
       "  <th>Method:</th>                <td>IRLS</td>       <th>  Log-Likelihood:    </th> <td> -2513.3</td>\n",
       "</tr>\n",
       "<tr>\n",
       "  <th>Date:</th>            <td>Wed, 17 May 2023</td> <th>  Deviance:          </th> <td>  5026.7</td>\n",
       "</tr>\n",
       "<tr>\n",
       "  <th>Time:</th>                <td>19:45:32</td>     <th>  Pearson chi2:      </th> <td>6.54e+03</td>\n",
       "</tr>\n",
       "<tr>\n",
       "  <th>No. Iterations:</th>          <td>7</td>        <th>  Pseudo R-squ. (CS):</th>  <td>0.4183</td> \n",
       "</tr>\n",
       "<tr>\n",
       "  <th>Covariance Type:</th>     <td>nonrobust</td>    <th>                     </th>     <td> </td>   \n",
       "</tr>\n",
       "</table>\n",
       "<table class=\"simpletable\">\n",
       "<tr>\n",
       "                        <td></td>                          <th>coef</th>     <th>std err</th>      <th>z</th>      <th>P>|z|</th>  <th>[0.025</th>    <th>0.975]</th>  \n",
       "</tr>\n",
       "<tr>\n",
       "  <th>const</th>                                        <td>   -2.5270</td> <td>    0.153</td> <td>  -16.565</td> <td> 0.000</td> <td>   -2.826</td> <td>   -2.228</td>\n",
       "</tr>\n",
       "<tr>\n",
       "  <th>Do Not Email</th>                                 <td>   -1.1188</td> <td>    0.175</td> <td>   -6.380</td> <td> 0.000</td> <td>   -1.463</td> <td>   -0.775</td>\n",
       "</tr>\n",
       "<tr>\n",
       "  <th>TotalVisits</th>                                  <td>    1.7768</td> <td>    0.289</td> <td>    6.139</td> <td> 0.000</td> <td>    1.210</td> <td>    2.344</td>\n",
       "</tr>\n",
       "<tr>\n",
       "  <th>Total Time Spent on Website</th>                  <td>    4.5123</td> <td>    0.169</td> <td>   26.772</td> <td> 0.000</td> <td>    4.182</td> <td>    4.843</td>\n",
       "</tr>\n",
       "<tr>\n",
       "  <th>Page Views Per Visit</th>                         <td>   -0.8528</td> <td>    0.250</td> <td>   -3.414</td> <td> 0.001</td> <td>   -1.342</td> <td>   -0.363</td>\n",
       "</tr>\n",
       "<tr>\n",
       "  <th>Search</th>                                       <td>   -1.6358</td> <td>    1.011</td> <td>   -1.619</td> <td> 0.106</td> <td>   -3.617</td> <td>    0.345</td>\n",
       "</tr>\n",
       "<tr>\n",
       "  <th>LeadOrigin_Lead Add Form</th>                     <td>    3.0313</td> <td>    0.511</td> <td>    5.930</td> <td> 0.000</td> <td>    2.029</td> <td>    4.033</td>\n",
       "</tr>\n",
       "<tr>\n",
       "  <th>LeadSource_Olark Chat</th>                        <td>    1.4768</td> <td>    0.134</td> <td>   11.028</td> <td> 0.000</td> <td>    1.214</td> <td>    1.739</td>\n",
       "</tr>\n",
       "<tr>\n",
       "  <th>LeadSource_Reference</th>                         <td>    0.6579</td> <td>    0.539</td> <td>    1.220</td> <td> 0.223</td> <td>   -0.399</td> <td>    1.715</td>\n",
       "</tr>\n",
       "<tr>\n",
       "  <th>LeadSource_Welingak Website</th>                  <td>    2.6524</td> <td>    0.875</td> <td>    3.030</td> <td> 0.002</td> <td>    0.937</td> <td>    4.368</td>\n",
       "</tr>\n",
       "<tr>\n",
       "  <th>LastActivity_Email Opened</th>                    <td>    0.5166</td> <td>    0.116</td> <td>    4.440</td> <td> 0.000</td> <td>    0.289</td> <td>    0.745</td>\n",
       "</tr>\n",
       "<tr>\n",
       "  <th>LastActivity_Had a Phone Conversation</th>        <td>    1.1276</td> <td>    0.939</td> <td>    1.201</td> <td> 0.230</td> <td>   -0.712</td> <td>    2.967</td>\n",
       "</tr>\n",
       "<tr>\n",
       "  <th>LastActivity_Olark Chat Conversation</th>         <td>   -0.6290</td> <td>    0.189</td> <td>   -3.322</td> <td> 0.001</td> <td>   -1.000</td> <td>   -0.258</td>\n",
       "</tr>\n",
       "<tr>\n",
       "  <th>LastActivity_SMS Sent</th>                        <td>    1.7107</td> <td>    0.118</td> <td>   14.551</td> <td> 0.000</td> <td>    1.480</td> <td>    1.941</td>\n",
       "</tr>\n",
       "<tr>\n",
       "  <th>CurrentOccupation_No Information</th>             <td>   -1.2457</td> <td>    0.090</td> <td>  -13.822</td> <td> 0.000</td> <td>   -1.422</td> <td>   -1.069</td>\n",
       "</tr>\n",
       "<tr>\n",
       "  <th>CurrentOccupation_Working Professional</th>       <td>    2.6078</td> <td>    0.203</td> <td>   12.834</td> <td> 0.000</td> <td>    2.210</td> <td>    3.006</td>\n",
       "</tr>\n",
       "<tr>\n",
       "  <th>LastNotableActivity_Had a Phone Conversation</th> <td>    2.3999</td> <td>    1.501</td> <td>    1.598</td> <td> 0.110</td> <td>   -0.543</td> <td>    5.343</td>\n",
       "</tr>\n",
       "<tr>\n",
       "  <th>LastNotableActivity_Modified</th>                 <td>   -0.5378</td> <td>    0.090</td> <td>   -5.995</td> <td> 0.000</td> <td>   -0.714</td> <td>   -0.362</td>\n",
       "</tr>\n",
       "<tr>\n",
       "  <th>LastNotableActivity_Unreachable</th>              <td>    2.0149</td> <td>    0.556</td> <td>    3.621</td> <td> 0.000</td> <td>    0.924</td> <td>    3.105</td>\n",
       "</tr>\n",
       "</table>"
      ],
      "text/plain": [
       "<class 'statsmodels.iolib.summary.Summary'>\n",
       "\"\"\"\n",
       "                 Generalized Linear Model Regression Results                  \n",
       "==============================================================================\n",
       "Dep. Variable:              Converted   No. Observations:                 6320\n",
       "Model:                            GLM   Df Residuals:                     6301\n",
       "Model Family:                Binomial   Df Model:                           18\n",
       "Link Function:                  Logit   Scale:                          1.0000\n",
       "Method:                          IRLS   Log-Likelihood:                -2513.3\n",
       "Date:                Wed, 17 May 2023   Deviance:                       5026.7\n",
       "Time:                        19:45:32   Pearson chi2:                 6.54e+03\n",
       "No. Iterations:                     7   Pseudo R-squ. (CS):             0.4183\n",
       "Covariance Type:            nonrobust                                         \n",
       "================================================================================================================\n",
       "                                                   coef    std err          z      P>|z|      [0.025      0.975]\n",
       "----------------------------------------------------------------------------------------------------------------\n",
       "const                                           -2.5270      0.153    -16.565      0.000      -2.826      -2.228\n",
       "Do Not Email                                    -1.1188      0.175     -6.380      0.000      -1.463      -0.775\n",
       "TotalVisits                                      1.7768      0.289      6.139      0.000       1.210       2.344\n",
       "Total Time Spent on Website                      4.5123      0.169     26.772      0.000       4.182       4.843\n",
       "Page Views Per Visit                            -0.8528      0.250     -3.414      0.001      -1.342      -0.363\n",
       "Search                                          -1.6358      1.011     -1.619      0.106      -3.617       0.345\n",
       "LeadOrigin_Lead Add Form                         3.0313      0.511      5.930      0.000       2.029       4.033\n",
       "LeadSource_Olark Chat                            1.4768      0.134     11.028      0.000       1.214       1.739\n",
       "LeadSource_Reference                             0.6579      0.539      1.220      0.223      -0.399       1.715\n",
       "LeadSource_Welingak Website                      2.6524      0.875      3.030      0.002       0.937       4.368\n",
       "LastActivity_Email Opened                        0.5166      0.116      4.440      0.000       0.289       0.745\n",
       "LastActivity_Had a Phone Conversation            1.1276      0.939      1.201      0.230      -0.712       2.967\n",
       "LastActivity_Olark Chat Conversation            -0.6290      0.189     -3.322      0.001      -1.000      -0.258\n",
       "LastActivity_SMS Sent                            1.7107      0.118     14.551      0.000       1.480       1.941\n",
       "CurrentOccupation_No Information                -1.2457      0.090    -13.822      0.000      -1.422      -1.069\n",
       "CurrentOccupation_Working Professional           2.6078      0.203     12.834      0.000       2.210       3.006\n",
       "LastNotableActivity_Had a Phone Conversation     2.3999      1.501      1.598      0.110      -0.543       5.343\n",
       "LastNotableActivity_Modified                    -0.5378      0.090     -5.995      0.000      -0.714      -0.362\n",
       "LastNotableActivity_Unreachable                  2.0149      0.556      3.621      0.000       0.924       3.105\n",
       "================================================================================================================\n",
       "\"\"\""
      ]
     },
     "execution_count": 93,
     "metadata": {},
     "output_type": "execute_result"
    }
   ],
   "source": [
    "X_train_sm = sm.add_constant(X_train[col])\n",
    "logm4 = sm.GLM(y_train,X_train_sm, family = sm.families.Binomial())\n",
    "res = logm4.fit()\n",
    "res.summary()"
   ]
  },
  {
   "cell_type": "markdown",
   "id": "7ef6161e",
   "metadata": {},
   "source": [
    "Removing the column LastActivity_Had a Phone Conversation as the p-value is high."
   ]
  },
  {
   "cell_type": "code",
   "execution_count": 94,
   "id": "63c2d82d",
   "metadata": {},
   "outputs": [],
   "source": [
    "#removing the column\n",
    "col = col.drop('LastActivity_Had a Phone Conversation',1)"
   ]
  },
  {
   "cell_type": "markdown",
   "id": "3b6dc626",
   "metadata": {},
   "source": [
    "#### Rebuilding Model : 5"
   ]
  },
  {
   "cell_type": "code",
   "execution_count": 95,
   "id": "4c62cd13",
   "metadata": {},
   "outputs": [
    {
     "data": {
      "text/html": [
       "<table class=\"simpletable\">\n",
       "<caption>Generalized Linear Model Regression Results</caption>\n",
       "<tr>\n",
       "  <th>Dep. Variable:</th>       <td>Converted</td>    <th>  No. Observations:  </th>  <td>  6320</td> \n",
       "</tr>\n",
       "<tr>\n",
       "  <th>Model:</th>                  <td>GLM</td>       <th>  Df Residuals:      </th>  <td>  6302</td> \n",
       "</tr>\n",
       "<tr>\n",
       "  <th>Model Family:</th>        <td>Binomial</td>     <th>  Df Model:          </th>  <td>    17</td> \n",
       "</tr>\n",
       "<tr>\n",
       "  <th>Link Function:</th>         <td>Logit</td>      <th>  Scale:             </th> <td>  1.0000</td>\n",
       "</tr>\n",
       "<tr>\n",
       "  <th>Method:</th>                <td>IRLS</td>       <th>  Log-Likelihood:    </th> <td> -2514.1</td>\n",
       "</tr>\n",
       "<tr>\n",
       "  <th>Date:</th>            <td>Wed, 17 May 2023</td> <th>  Deviance:          </th> <td>  5028.2</td>\n",
       "</tr>\n",
       "<tr>\n",
       "  <th>Time:</th>                <td>19:50:42</td>     <th>  Pearson chi2:      </th> <td>6.30e+03</td>\n",
       "</tr>\n",
       "<tr>\n",
       "  <th>No. Iterations:</th>          <td>7</td>        <th>  Pseudo R-squ. (CS):</th>  <td>0.4181</td> \n",
       "</tr>\n",
       "<tr>\n",
       "  <th>Covariance Type:</th>     <td>nonrobust</td>    <th>                     </th>     <td> </td>   \n",
       "</tr>\n",
       "</table>\n",
       "<table class=\"simpletable\">\n",
       "<tr>\n",
       "                        <td></td>                          <th>coef</th>     <th>std err</th>      <th>z</th>      <th>P>|z|</th>  <th>[0.025</th>    <th>0.975]</th>  \n",
       "</tr>\n",
       "<tr>\n",
       "  <th>const</th>                                        <td>   -2.5174</td> <td>    0.152</td> <td>  -16.541</td> <td> 0.000</td> <td>   -2.816</td> <td>   -2.219</td>\n",
       "</tr>\n",
       "<tr>\n",
       "  <th>Do Not Email</th>                                 <td>   -1.1242</td> <td>    0.175</td> <td>   -6.414</td> <td> 0.000</td> <td>   -1.468</td> <td>   -0.781</td>\n",
       "</tr>\n",
       "<tr>\n",
       "  <th>TotalVisits</th>                                  <td>    1.7711</td> <td>    0.289</td> <td>    6.122</td> <td> 0.000</td> <td>    1.204</td> <td>    2.338</td>\n",
       "</tr>\n",
       "<tr>\n",
       "  <th>Total Time Spent on Website</th>                  <td>    4.5135</td> <td>    0.169</td> <td>   26.784</td> <td> 0.000</td> <td>    4.183</td> <td>    4.844</td>\n",
       "</tr>\n",
       "<tr>\n",
       "  <th>Page Views Per Visit</th>                         <td>   -0.8513</td> <td>    0.250</td> <td>   -3.409</td> <td> 0.001</td> <td>   -1.341</td> <td>   -0.362</td>\n",
       "</tr>\n",
       "<tr>\n",
       "  <th>Search</th>                                       <td>   -1.6344</td> <td>    1.011</td> <td>   -1.617</td> <td> 0.106</td> <td>   -3.615</td> <td>    0.346</td>\n",
       "</tr>\n",
       "<tr>\n",
       "  <th>LeadOrigin_Lead Add Form</th>                     <td>    3.0307</td> <td>    0.511</td> <td>    5.931</td> <td> 0.000</td> <td>    2.029</td> <td>    4.032</td>\n",
       "</tr>\n",
       "<tr>\n",
       "  <th>LeadSource_Olark Chat</th>                        <td>    1.4756</td> <td>    0.134</td> <td>   11.022</td> <td> 0.000</td> <td>    1.213</td> <td>    1.738</td>\n",
       "</tr>\n",
       "<tr>\n",
       "  <th>LeadSource_Reference</th>                         <td>    0.6636</td> <td>    0.539</td> <td>    1.231</td> <td> 0.219</td> <td>   -0.393</td> <td>    1.721</td>\n",
       "</tr>\n",
       "<tr>\n",
       "  <th>LeadSource_Welingak Website</th>                  <td>    2.6507</td> <td>    0.875</td> <td>    3.029</td> <td> 0.002</td> <td>    0.935</td> <td>    4.366</td>\n",
       "</tr>\n",
       "<tr>\n",
       "  <th>LastActivity_Email Opened</th>                    <td>    0.5072</td> <td>    0.116</td> <td>    4.373</td> <td> 0.000</td> <td>    0.280</td> <td>    0.735</td>\n",
       "</tr>\n",
       "<tr>\n",
       "  <th>LastActivity_Olark Chat Conversation</th>         <td>   -0.6397</td> <td>    0.189</td> <td>   -3.383</td> <td> 0.001</td> <td>   -1.010</td> <td>   -0.269</td>\n",
       "</tr>\n",
       "<tr>\n",
       "  <th>LastActivity_SMS Sent</th>                        <td>    1.7015</td> <td>    0.117</td> <td>   14.517</td> <td> 0.000</td> <td>    1.472</td> <td>    1.931</td>\n",
       "</tr>\n",
       "<tr>\n",
       "  <th>CurrentOccupation_No Information</th>             <td>   -1.2474</td> <td>    0.090</td> <td>  -13.845</td> <td> 0.000</td> <td>   -1.424</td> <td>   -1.071</td>\n",
       "</tr>\n",
       "<tr>\n",
       "  <th>CurrentOccupation_Working Professional</th>       <td>    2.6117</td> <td>    0.203</td> <td>   12.860</td> <td> 0.000</td> <td>    2.214</td> <td>    3.010</td>\n",
       "</tr>\n",
       "<tr>\n",
       "  <th>LastNotableActivity_Had a Phone Conversation</th> <td>    3.5194</td> <td>    1.177</td> <td>    2.989</td> <td> 0.003</td> <td>    1.212</td> <td>    5.827</td>\n",
       "</tr>\n",
       "<tr>\n",
       "  <th>LastNotableActivity_Modified</th>                 <td>   -0.5343</td> <td>    0.090</td> <td>   -5.961</td> <td> 0.000</td> <td>   -0.710</td> <td>   -0.359</td>\n",
       "</tr>\n",
       "<tr>\n",
       "  <th>LastNotableActivity_Unreachable</th>              <td>    2.0066</td> <td>    0.556</td> <td>    3.606</td> <td> 0.000</td> <td>    0.916</td> <td>    3.097</td>\n",
       "</tr>\n",
       "</table>"
      ],
      "text/plain": [
       "<class 'statsmodels.iolib.summary.Summary'>\n",
       "\"\"\"\n",
       "                 Generalized Linear Model Regression Results                  \n",
       "==============================================================================\n",
       "Dep. Variable:              Converted   No. Observations:                 6320\n",
       "Model:                            GLM   Df Residuals:                     6302\n",
       "Model Family:                Binomial   Df Model:                           17\n",
       "Link Function:                  Logit   Scale:                          1.0000\n",
       "Method:                          IRLS   Log-Likelihood:                -2514.1\n",
       "Date:                Wed, 17 May 2023   Deviance:                       5028.2\n",
       "Time:                        19:50:42   Pearson chi2:                 6.30e+03\n",
       "No. Iterations:                     7   Pseudo R-squ. (CS):             0.4181\n",
       "Covariance Type:            nonrobust                                         \n",
       "================================================================================================================\n",
       "                                                   coef    std err          z      P>|z|      [0.025      0.975]\n",
       "----------------------------------------------------------------------------------------------------------------\n",
       "const                                           -2.5174      0.152    -16.541      0.000      -2.816      -2.219\n",
       "Do Not Email                                    -1.1242      0.175     -6.414      0.000      -1.468      -0.781\n",
       "TotalVisits                                      1.7711      0.289      6.122      0.000       1.204       2.338\n",
       "Total Time Spent on Website                      4.5135      0.169     26.784      0.000       4.183       4.844\n",
       "Page Views Per Visit                            -0.8513      0.250     -3.409      0.001      -1.341      -0.362\n",
       "Search                                          -1.6344      1.011     -1.617      0.106      -3.615       0.346\n",
       "LeadOrigin_Lead Add Form                         3.0307      0.511      5.931      0.000       2.029       4.032\n",
       "LeadSource_Olark Chat                            1.4756      0.134     11.022      0.000       1.213       1.738\n",
       "LeadSource_Reference                             0.6636      0.539      1.231      0.219      -0.393       1.721\n",
       "LeadSource_Welingak Website                      2.6507      0.875      3.029      0.002       0.935       4.366\n",
       "LastActivity_Email Opened                        0.5072      0.116      4.373      0.000       0.280       0.735\n",
       "LastActivity_Olark Chat Conversation            -0.6397      0.189     -3.383      0.001      -1.010      -0.269\n",
       "LastActivity_SMS Sent                            1.7015      0.117     14.517      0.000       1.472       1.931\n",
       "CurrentOccupation_No Information                -1.2474      0.090    -13.845      0.000      -1.424      -1.071\n",
       "CurrentOccupation_Working Professional           2.6117      0.203     12.860      0.000       2.214       3.010\n",
       "LastNotableActivity_Had a Phone Conversation     3.5194      1.177      2.989      0.003       1.212       5.827\n",
       "LastNotableActivity_Modified                    -0.5343      0.090     -5.961      0.000      -0.710      -0.359\n",
       "LastNotableActivity_Unreachable                  2.0066      0.556      3.606      0.000       0.916       3.097\n",
       "================================================================================================================\n",
       "\"\"\""
      ]
     },
     "execution_count": 95,
     "metadata": {},
     "output_type": "execute_result"
    }
   ],
   "source": [
    "X_train_sm = sm.add_constant(X_train[col])\n",
    "logm5 = sm.GLM(y_train,X_train_sm, family = sm.families.Binomial())\n",
    "res = logm5.fit()\n",
    "res.summary()"
   ]
  },
  {
   "cell_type": "markdown",
   "id": "08cb9577",
   "metadata": {},
   "source": [
    "Removing the column LeadSource_Reference as the p-value is high."
   ]
  },
  {
   "cell_type": "code",
   "execution_count": 96,
   "id": "a01000d3",
   "metadata": {},
   "outputs": [],
   "source": [
    "#removing the column\n",
    "col = col.drop('LeadSource_Reference',1)"
   ]
  },
  {
   "cell_type": "markdown",
   "id": "552cd6bc",
   "metadata": {},
   "source": [
    "#### Rebuilding Model : 6"
   ]
  },
  {
   "cell_type": "code",
   "execution_count": 97,
   "id": "5e5d0750",
   "metadata": {},
   "outputs": [
    {
     "data": {
      "text/html": [
       "<table class=\"simpletable\">\n",
       "<caption>Generalized Linear Model Regression Results</caption>\n",
       "<tr>\n",
       "  <th>Dep. Variable:</th>       <td>Converted</td>    <th>  No. Observations:  </th>  <td>  6320</td> \n",
       "</tr>\n",
       "<tr>\n",
       "  <th>Model:</th>                  <td>GLM</td>       <th>  Df Residuals:      </th>  <td>  6303</td> \n",
       "</tr>\n",
       "<tr>\n",
       "  <th>Model Family:</th>        <td>Binomial</td>     <th>  Df Model:          </th>  <td>    16</td> \n",
       "</tr>\n",
       "<tr>\n",
       "  <th>Link Function:</th>         <td>Logit</td>      <th>  Scale:             </th> <td>  1.0000</td>\n",
       "</tr>\n",
       "<tr>\n",
       "  <th>Method:</th>                <td>IRLS</td>       <th>  Log-Likelihood:    </th> <td> -2514.8</td>\n",
       "</tr>\n",
       "<tr>\n",
       "  <th>Date:</th>            <td>Wed, 17 May 2023</td> <th>  Deviance:          </th> <td>  5029.6</td>\n",
       "</tr>\n",
       "<tr>\n",
       "  <th>Time:</th>                <td>19:54:14</td>     <th>  Pearson chi2:      </th> <td>6.28e+03</td>\n",
       "</tr>\n",
       "<tr>\n",
       "  <th>No. Iterations:</th>          <td>7</td>        <th>  Pseudo R-squ. (CS):</th>  <td>0.4180</td> \n",
       "</tr>\n",
       "<tr>\n",
       "  <th>Covariance Type:</th>     <td>nonrobust</td>    <th>                     </th>     <td> </td>   \n",
       "</tr>\n",
       "</table>\n",
       "<table class=\"simpletable\">\n",
       "<tr>\n",
       "                        <td></td>                          <th>coef</th>     <th>std err</th>      <th>z</th>      <th>P>|z|</th>  <th>[0.025</th>    <th>0.975]</th>  \n",
       "</tr>\n",
       "<tr>\n",
       "  <th>const</th>                                        <td>   -2.5134</td> <td>    0.152</td> <td>  -16.526</td> <td> 0.000</td> <td>   -2.811</td> <td>   -2.215</td>\n",
       "</tr>\n",
       "<tr>\n",
       "  <th>Do Not Email</th>                                 <td>   -1.1458</td> <td>    0.175</td> <td>   -6.537</td> <td> 0.000</td> <td>   -1.489</td> <td>   -0.802</td>\n",
       "</tr>\n",
       "<tr>\n",
       "  <th>TotalVisits</th>                                  <td>    1.7681</td> <td>    0.289</td> <td>    6.111</td> <td> 0.000</td> <td>    1.201</td> <td>    2.335</td>\n",
       "</tr>\n",
       "<tr>\n",
       "  <th>Total Time Spent on Website</th>                  <td>    4.5139</td> <td>    0.168</td> <td>   26.791</td> <td> 0.000</td> <td>    4.184</td> <td>    4.844</td>\n",
       "</tr>\n",
       "<tr>\n",
       "  <th>Page Views Per Visit</th>                         <td>   -0.8508</td> <td>    0.250</td> <td>   -3.407</td> <td> 0.001</td> <td>   -1.340</td> <td>   -0.361</td>\n",
       "</tr>\n",
       "<tr>\n",
       "  <th>Search</th>                                       <td>   -1.6345</td> <td>    1.011</td> <td>   -1.617</td> <td> 0.106</td> <td>   -3.615</td> <td>    0.346</td>\n",
       "</tr>\n",
       "<tr>\n",
       "  <th>LeadOrigin_Lead Add Form</th>                     <td>    3.6170</td> <td>    0.208</td> <td>   17.383</td> <td> 0.000</td> <td>    3.209</td> <td>    4.025</td>\n",
       "</tr>\n",
       "<tr>\n",
       "  <th>LeadSource_Olark Chat</th>                        <td>    1.4744</td> <td>    0.134</td> <td>   11.013</td> <td> 0.000</td> <td>    1.212</td> <td>    1.737</td>\n",
       "</tr>\n",
       "<tr>\n",
       "  <th>LeadSource_Welingak Website</th>                  <td>    2.0666</td> <td>    0.742</td> <td>    2.786</td> <td> 0.005</td> <td>    0.613</td> <td>    3.520</td>\n",
       "</tr>\n",
       "<tr>\n",
       "  <th>LastActivity_Email Opened</th>                    <td>    0.5049</td> <td>    0.116</td> <td>    4.358</td> <td> 0.000</td> <td>    0.278</td> <td>    0.732</td>\n",
       "</tr>\n",
       "<tr>\n",
       "  <th>LastActivity_Olark Chat Conversation</th>         <td>   -0.6424</td> <td>    0.189</td> <td>   -3.399</td> <td> 0.001</td> <td>   -1.013</td> <td>   -0.272</td>\n",
       "</tr>\n",
       "<tr>\n",
       "  <th>LastActivity_SMS Sent</th>                        <td>    1.6972</td> <td>    0.117</td> <td>   14.497</td> <td> 0.000</td> <td>    1.468</td> <td>    1.927</td>\n",
       "</tr>\n",
       "<tr>\n",
       "  <th>CurrentOccupation_No Information</th>             <td>   -1.2473</td> <td>    0.090</td> <td>  -13.844</td> <td> 0.000</td> <td>   -1.424</td> <td>   -1.071</td>\n",
       "</tr>\n",
       "<tr>\n",
       "  <th>CurrentOccupation_Working Professional</th>       <td>    2.6144</td> <td>    0.203</td> <td>   12.880</td> <td> 0.000</td> <td>    2.217</td> <td>    3.012</td>\n",
       "</tr>\n",
       "<tr>\n",
       "  <th>LastNotableActivity_Had a Phone Conversation</th> <td>    3.5160</td> <td>    1.177</td> <td>    2.986</td> <td> 0.003</td> <td>    1.208</td> <td>    5.824</td>\n",
       "</tr>\n",
       "<tr>\n",
       "  <th>LastNotableActivity_Modified</th>                 <td>   -0.5339</td> <td>    0.090</td> <td>   -5.958</td> <td> 0.000</td> <td>   -0.710</td> <td>   -0.358</td>\n",
       "</tr>\n",
       "<tr>\n",
       "  <th>LastNotableActivity_Unreachable</th>              <td>    2.0050</td> <td>    0.556</td> <td>    3.606</td> <td> 0.000</td> <td>    0.915</td> <td>    3.095</td>\n",
       "</tr>\n",
       "</table>"
      ],
      "text/plain": [
       "<class 'statsmodels.iolib.summary.Summary'>\n",
       "\"\"\"\n",
       "                 Generalized Linear Model Regression Results                  \n",
       "==============================================================================\n",
       "Dep. Variable:              Converted   No. Observations:                 6320\n",
       "Model:                            GLM   Df Residuals:                     6303\n",
       "Model Family:                Binomial   Df Model:                           16\n",
       "Link Function:                  Logit   Scale:                          1.0000\n",
       "Method:                          IRLS   Log-Likelihood:                -2514.8\n",
       "Date:                Wed, 17 May 2023   Deviance:                       5029.6\n",
       "Time:                        19:54:14   Pearson chi2:                 6.28e+03\n",
       "No. Iterations:                     7   Pseudo R-squ. (CS):             0.4180\n",
       "Covariance Type:            nonrobust                                         \n",
       "================================================================================================================\n",
       "                                                   coef    std err          z      P>|z|      [0.025      0.975]\n",
       "----------------------------------------------------------------------------------------------------------------\n",
       "const                                           -2.5134      0.152    -16.526      0.000      -2.811      -2.215\n",
       "Do Not Email                                    -1.1458      0.175     -6.537      0.000      -1.489      -0.802\n",
       "TotalVisits                                      1.7681      0.289      6.111      0.000       1.201       2.335\n",
       "Total Time Spent on Website                      4.5139      0.168     26.791      0.000       4.184       4.844\n",
       "Page Views Per Visit                            -0.8508      0.250     -3.407      0.001      -1.340      -0.361\n",
       "Search                                          -1.6345      1.011     -1.617      0.106      -3.615       0.346\n",
       "LeadOrigin_Lead Add Form                         3.6170      0.208     17.383      0.000       3.209       4.025\n",
       "LeadSource_Olark Chat                            1.4744      0.134     11.013      0.000       1.212       1.737\n",
       "LeadSource_Welingak Website                      2.0666      0.742      2.786      0.005       0.613       3.520\n",
       "LastActivity_Email Opened                        0.5049      0.116      4.358      0.000       0.278       0.732\n",
       "LastActivity_Olark Chat Conversation            -0.6424      0.189     -3.399      0.001      -1.013      -0.272\n",
       "LastActivity_SMS Sent                            1.6972      0.117     14.497      0.000       1.468       1.927\n",
       "CurrentOccupation_No Information                -1.2473      0.090    -13.844      0.000      -1.424      -1.071\n",
       "CurrentOccupation_Working Professional           2.6144      0.203     12.880      0.000       2.217       3.012\n",
       "LastNotableActivity_Had a Phone Conversation     3.5160      1.177      2.986      0.003       1.208       5.824\n",
       "LastNotableActivity_Modified                    -0.5339      0.090     -5.958      0.000      -0.710      -0.358\n",
       "LastNotableActivity_Unreachable                  2.0050      0.556      3.606      0.000       0.915       3.095\n",
       "================================================================================================================\n",
       "\"\"\""
      ]
     },
     "execution_count": 97,
     "metadata": {},
     "output_type": "execute_result"
    }
   ],
   "source": [
    "X_train_sm = sm.add_constant(X_train[col])\n",
    "logm6 = sm.GLM(y_train,X_train_sm, family = sm.families.Binomial())\n",
    "res = logm6.fit()\n",
    "res.summary()"
   ]
  },
  {
   "cell_type": "markdown",
   "id": "bfeb350b",
   "metadata": {},
   "source": [
    "Removing the column Search as the p-value is high."
   ]
  },
  {
   "cell_type": "code",
   "execution_count": 98,
   "id": "aa1593ee",
   "metadata": {},
   "outputs": [],
   "source": [
    "#removing the column\n",
    "col = col.drop('Search',1)"
   ]
  },
  {
   "cell_type": "markdown",
   "id": "87b52c4b",
   "metadata": {},
   "source": [
    "#### Rebuilding Model : 7"
   ]
  },
  {
   "cell_type": "code",
   "execution_count": 99,
   "id": "7af0567c",
   "metadata": {},
   "outputs": [
    {
     "data": {
      "text/html": [
       "<table class=\"simpletable\">\n",
       "<caption>Generalized Linear Model Regression Results</caption>\n",
       "<tr>\n",
       "  <th>Dep. Variable:</th>       <td>Converted</td>    <th>  No. Observations:  </th>  <td>  6320</td> \n",
       "</tr>\n",
       "<tr>\n",
       "  <th>Model:</th>                  <td>GLM</td>       <th>  Df Residuals:      </th>  <td>  6304</td> \n",
       "</tr>\n",
       "<tr>\n",
       "  <th>Model Family:</th>        <td>Binomial</td>     <th>  Df Model:          </th>  <td>    15</td> \n",
       "</tr>\n",
       "<tr>\n",
       "  <th>Link Function:</th>         <td>Logit</td>      <th>  Scale:             </th> <td>  1.0000</td>\n",
       "</tr>\n",
       "<tr>\n",
       "  <th>Method:</th>                <td>IRLS</td>       <th>  Log-Likelihood:    </th> <td> -2516.2</td>\n",
       "</tr>\n",
       "<tr>\n",
       "  <th>Date:</th>            <td>Wed, 17 May 2023</td> <th>  Deviance:          </th> <td>  5032.5</td>\n",
       "</tr>\n",
       "<tr>\n",
       "  <th>Time:</th>                <td>20:24:38</td>     <th>  Pearson chi2:      </th> <td>6.28e+03</td>\n",
       "</tr>\n",
       "<tr>\n",
       "  <th>No. Iterations:</th>          <td>7</td>        <th>  Pseudo R-squ. (CS):</th>  <td>0.4177</td> \n",
       "</tr>\n",
       "<tr>\n",
       "  <th>Covariance Type:</th>     <td>nonrobust</td>    <th>                     </th>     <td> </td>   \n",
       "</tr>\n",
       "</table>\n",
       "<table class=\"simpletable\">\n",
       "<tr>\n",
       "                        <td></td>                          <th>coef</th>     <th>std err</th>      <th>z</th>      <th>P>|z|</th>  <th>[0.025</th>    <th>0.975]</th>  \n",
       "</tr>\n",
       "<tr>\n",
       "  <th>const</th>                                        <td>   -2.5028</td> <td>    0.152</td> <td>  -16.475</td> <td> 0.000</td> <td>   -2.801</td> <td>   -2.205</td>\n",
       "</tr>\n",
       "<tr>\n",
       "  <th>Do Not Email</th>                                 <td>   -1.1452</td> <td>    0.175</td> <td>   -6.536</td> <td> 0.000</td> <td>   -1.489</td> <td>   -0.802</td>\n",
       "</tr>\n",
       "<tr>\n",
       "  <th>TotalVisits</th>                                  <td>    1.7397</td> <td>    0.289</td> <td>    6.023</td> <td> 0.000</td> <td>    1.174</td> <td>    2.306</td>\n",
       "</tr>\n",
       "<tr>\n",
       "  <th>Total Time Spent on Website</th>                  <td>    4.5109</td> <td>    0.168</td> <td>   26.784</td> <td> 0.000</td> <td>    4.181</td> <td>    4.841</td>\n",
       "</tr>\n",
       "<tr>\n",
       "  <th>Page Views Per Visit</th>                         <td>   -0.8591</td> <td>    0.250</td> <td>   -3.442</td> <td> 0.001</td> <td>   -1.348</td> <td>   -0.370</td>\n",
       "</tr>\n",
       "<tr>\n",
       "  <th>LeadOrigin_Lead Add Form</th>                     <td>    3.6099</td> <td>    0.208</td> <td>   17.356</td> <td> 0.000</td> <td>    3.202</td> <td>    4.018</td>\n",
       "</tr>\n",
       "<tr>\n",
       "  <th>LeadSource_Olark Chat</th>                        <td>    1.4653</td> <td>    0.134</td> <td>   10.951</td> <td> 0.000</td> <td>    1.203</td> <td>    1.728</td>\n",
       "</tr>\n",
       "<tr>\n",
       "  <th>LeadSource_Welingak Website</th>                  <td>    2.0660</td> <td>    0.742</td> <td>    2.786</td> <td> 0.005</td> <td>    0.612</td> <td>    3.520</td>\n",
       "</tr>\n",
       "<tr>\n",
       "  <th>LastActivity_Email Opened</th>                    <td>    0.5006</td> <td>    0.116</td> <td>    4.323</td> <td> 0.000</td> <td>    0.274</td> <td>    0.728</td>\n",
       "</tr>\n",
       "<tr>\n",
       "  <th>LastActivity_Olark Chat Conversation</th>         <td>   -0.6438</td> <td>    0.189</td> <td>   -3.408</td> <td> 0.001</td> <td>   -1.014</td> <td>   -0.273</td>\n",
       "</tr>\n",
       "<tr>\n",
       "  <th>LastActivity_SMS Sent</th>                        <td>    1.6955</td> <td>    0.117</td> <td>   14.489</td> <td> 0.000</td> <td>    1.466</td> <td>    1.925</td>\n",
       "</tr>\n",
       "<tr>\n",
       "  <th>CurrentOccupation_No Information</th>             <td>   -1.2447</td> <td>    0.090</td> <td>  -13.822</td> <td> 0.000</td> <td>   -1.421</td> <td>   -1.068</td>\n",
       "</tr>\n",
       "<tr>\n",
       "  <th>CurrentOccupation_Working Professional</th>       <td>    2.6123</td> <td>    0.203</td> <td>   12.869</td> <td> 0.000</td> <td>    2.214</td> <td>    3.010</td>\n",
       "</tr>\n",
       "<tr>\n",
       "  <th>LastNotableActivity_Had a Phone Conversation</th> <td>    3.5184</td> <td>    1.176</td> <td>    2.991</td> <td> 0.003</td> <td>    1.213</td> <td>    5.824</td>\n",
       "</tr>\n",
       "<tr>\n",
       "  <th>LastNotableActivity_Modified</th>                 <td>   -0.5330</td> <td>    0.090</td> <td>   -5.949</td> <td> 0.000</td> <td>   -0.709</td> <td>   -0.357</td>\n",
       "</tr>\n",
       "<tr>\n",
       "  <th>LastNotableActivity_Unreachable</th>              <td>    2.0055</td> <td>    0.556</td> <td>    3.607</td> <td> 0.000</td> <td>    0.916</td> <td>    3.095</td>\n",
       "</tr>\n",
       "</table>"
      ],
      "text/plain": [
       "<class 'statsmodels.iolib.summary.Summary'>\n",
       "\"\"\"\n",
       "                 Generalized Linear Model Regression Results                  \n",
       "==============================================================================\n",
       "Dep. Variable:              Converted   No. Observations:                 6320\n",
       "Model:                            GLM   Df Residuals:                     6304\n",
       "Model Family:                Binomial   Df Model:                           15\n",
       "Link Function:                  Logit   Scale:                          1.0000\n",
       "Method:                          IRLS   Log-Likelihood:                -2516.2\n",
       "Date:                Wed, 17 May 2023   Deviance:                       5032.5\n",
       "Time:                        20:24:38   Pearson chi2:                 6.28e+03\n",
       "No. Iterations:                     7   Pseudo R-squ. (CS):             0.4177\n",
       "Covariance Type:            nonrobust                                         \n",
       "================================================================================================================\n",
       "                                                   coef    std err          z      P>|z|      [0.025      0.975]\n",
       "----------------------------------------------------------------------------------------------------------------\n",
       "const                                           -2.5028      0.152    -16.475      0.000      -2.801      -2.205\n",
       "Do Not Email                                    -1.1452      0.175     -6.536      0.000      -1.489      -0.802\n",
       "TotalVisits                                      1.7397      0.289      6.023      0.000       1.174       2.306\n",
       "Total Time Spent on Website                      4.5109      0.168     26.784      0.000       4.181       4.841\n",
       "Page Views Per Visit                            -0.8591      0.250     -3.442      0.001      -1.348      -0.370\n",
       "LeadOrigin_Lead Add Form                         3.6099      0.208     17.356      0.000       3.202       4.018\n",
       "LeadSource_Olark Chat                            1.4653      0.134     10.951      0.000       1.203       1.728\n",
       "LeadSource_Welingak Website                      2.0660      0.742      2.786      0.005       0.612       3.520\n",
       "LastActivity_Email Opened                        0.5006      0.116      4.323      0.000       0.274       0.728\n",
       "LastActivity_Olark Chat Conversation            -0.6438      0.189     -3.408      0.001      -1.014      -0.273\n",
       "LastActivity_SMS Sent                            1.6955      0.117     14.489      0.000       1.466       1.925\n",
       "CurrentOccupation_No Information                -1.2447      0.090    -13.822      0.000      -1.421      -1.068\n",
       "CurrentOccupation_Working Professional           2.6123      0.203     12.869      0.000       2.214       3.010\n",
       "LastNotableActivity_Had a Phone Conversation     3.5184      1.176      2.991      0.003       1.213       5.824\n",
       "LastNotableActivity_Modified                    -0.5330      0.090     -5.949      0.000      -0.709      -0.357\n",
       "LastNotableActivity_Unreachable                  2.0055      0.556      3.607      0.000       0.916       3.095\n",
       "================================================================================================================\n",
       "\"\"\""
      ]
     },
     "execution_count": 99,
     "metadata": {},
     "output_type": "execute_result"
    }
   ],
   "source": [
    "X_train_sm = sm.add_constant(X_train[col])\n",
    "logm7 = sm.GLM(y_train,X_train_sm, family = sm.families.Binomial())\n",
    "res = logm7.fit()\n",
    "res.summary()"
   ]
  },
  {
   "cell_type": "markdown",
   "id": "f7f222e4",
   "metadata": {},
   "source": [
    "Based on the Model 7 seems to be stable with significant pvalues, we shall go ahead with this model for further analysis."
   ]
  },
  {
   "cell_type": "markdown",
   "id": "ff9b57dc",
   "metadata": {},
   "source": [
    "### Checking VIF"
   ]
  },
  {
   "cell_type": "code",
   "execution_count": 100,
   "id": "a487566e",
   "metadata": {},
   "outputs": [
    {
     "data": {
      "text/html": [
       "<div>\n",
       "<style scoped>\n",
       "    .dataframe tbody tr th:only-of-type {\n",
       "        vertical-align: middle;\n",
       "    }\n",
       "\n",
       "    .dataframe tbody tr th {\n",
       "        vertical-align: top;\n",
       "    }\n",
       "\n",
       "    .dataframe thead th {\n",
       "        text-align: right;\n",
       "    }\n",
       "</style>\n",
       "<table border=\"1\" class=\"dataframe\">\n",
       "  <thead>\n",
       "    <tr style=\"text-align: right;\">\n",
       "      <th></th>\n",
       "      <th>Features</th>\n",
       "      <th>VIF</th>\n",
       "    </tr>\n",
       "  </thead>\n",
       "  <tbody>\n",
       "    <tr>\n",
       "      <th>3</th>\n",
       "      <td>Page Views Per Visit</td>\n",
       "      <td>6.11</td>\n",
       "    </tr>\n",
       "    <tr>\n",
       "      <th>1</th>\n",
       "      <td>TotalVisits</td>\n",
       "      <td>4.70</td>\n",
       "    </tr>\n",
       "    <tr>\n",
       "      <th>7</th>\n",
       "      <td>LastActivity_Email Opened</td>\n",
       "      <td>2.37</td>\n",
       "    </tr>\n",
       "    <tr>\n",
       "      <th>2</th>\n",
       "      <td>Total Time Spent on Website</td>\n",
       "      <td>2.14</td>\n",
       "    </tr>\n",
       "    <tr>\n",
       "      <th>9</th>\n",
       "      <td>LastActivity_SMS Sent</td>\n",
       "      <td>2.12</td>\n",
       "    </tr>\n",
       "    <tr>\n",
       "      <th>5</th>\n",
       "      <td>LeadSource_Olark Chat</td>\n",
       "      <td>2.10</td>\n",
       "    </tr>\n",
       "    <tr>\n",
       "      <th>13</th>\n",
       "      <td>LastNotableActivity_Modified</td>\n",
       "      <td>1.78</td>\n",
       "    </tr>\n",
       "    <tr>\n",
       "      <th>8</th>\n",
       "      <td>LastActivity_Olark Chat Conversation</td>\n",
       "      <td>1.76</td>\n",
       "    </tr>\n",
       "    <tr>\n",
       "      <th>4</th>\n",
       "      <td>LeadOrigin_Lead Add Form</td>\n",
       "      <td>1.62</td>\n",
       "    </tr>\n",
       "    <tr>\n",
       "      <th>10</th>\n",
       "      <td>CurrentOccupation_No Information</td>\n",
       "      <td>1.57</td>\n",
       "    </tr>\n",
       "    <tr>\n",
       "      <th>6</th>\n",
       "      <td>LeadSource_Welingak Website</td>\n",
       "      <td>1.30</td>\n",
       "    </tr>\n",
       "    <tr>\n",
       "      <th>11</th>\n",
       "      <td>CurrentOccupation_Working Professional</td>\n",
       "      <td>1.18</td>\n",
       "    </tr>\n",
       "    <tr>\n",
       "      <th>0</th>\n",
       "      <td>Do Not Email</td>\n",
       "      <td>1.14</td>\n",
       "    </tr>\n",
       "    <tr>\n",
       "      <th>14</th>\n",
       "      <td>LastNotableActivity_Unreachable</td>\n",
       "      <td>1.02</td>\n",
       "    </tr>\n",
       "    <tr>\n",
       "      <th>12</th>\n",
       "      <td>LastNotableActivity_Had a Phone Conversation</td>\n",
       "      <td>1.01</td>\n",
       "    </tr>\n",
       "  </tbody>\n",
       "</table>\n",
       "</div>"
      ],
      "text/plain": [
       "                                        Features   VIF\n",
       "3                           Page Views Per Visit  6.11\n",
       "1                                    TotalVisits  4.70\n",
       "7                      LastActivity_Email Opened  2.37\n",
       "2                    Total Time Spent on Website  2.14\n",
       "9                          LastActivity_SMS Sent  2.12\n",
       "5                          LeadSource_Olark Chat  2.10\n",
       "13                  LastNotableActivity_Modified  1.78\n",
       "8           LastActivity_Olark Chat Conversation  1.76\n",
       "4                       LeadOrigin_Lead Add Form  1.62\n",
       "10              CurrentOccupation_No Information  1.57\n",
       "6                    LeadSource_Welingak Website  1.30\n",
       "11        CurrentOccupation_Working Professional  1.18\n",
       "0                                   Do Not Email  1.14\n",
       "14               LastNotableActivity_Unreachable  1.02\n",
       "12  LastNotableActivity_Had a Phone Conversation  1.01"
      ]
     },
     "execution_count": 100,
     "metadata": {},
     "output_type": "execute_result"
    }
   ],
   "source": [
    "# Create a dataframe that will contain the names of all the feature variables and their respective VIFs\n",
    "\n",
    "vif = pd.DataFrame()\n",
    "vif['Features'] = X_train[col].columns\n",
    "vif['VIF'] = [variance_inflation_factor(X_train[col].values, i) for i in range(X_train[col].shape[1])]\n",
    "vif['VIF'] = round(vif['VIF'], 2)\n",
    "vif = vif.sort_values(by = \"VIF\", ascending = False)\n",
    "vif\n"
   ]
  },
  {
   "cell_type": "markdown",
   "id": "c36a8e6c",
   "metadata": {},
   "source": [
    "Based on the VIF we can see the column Page Views per Visit has VIF >5 thus we will remove this column and recheck the model and the VIF."
   ]
  },
  {
   "cell_type": "code",
   "execution_count": 101,
   "id": "e423f0db",
   "metadata": {},
   "outputs": [],
   "source": [
    "#removing the column\n",
    "col = col.drop('Page Views Per Visit',1)"
   ]
  },
  {
   "cell_type": "markdown",
   "id": "8466a5cb",
   "metadata": {},
   "source": [
    "### Rebuilding Model : 8"
   ]
  },
  {
   "cell_type": "code",
   "execution_count": 102,
   "id": "5f5dabd4",
   "metadata": {},
   "outputs": [
    {
     "data": {
      "text/html": [
       "<table class=\"simpletable\">\n",
       "<caption>Generalized Linear Model Regression Results</caption>\n",
       "<tr>\n",
       "  <th>Dep. Variable:</th>       <td>Converted</td>    <th>  No. Observations:  </th>  <td>  6320</td> \n",
       "</tr>\n",
       "<tr>\n",
       "  <th>Model:</th>                  <td>GLM</td>       <th>  Df Residuals:      </th>  <td>  6305</td> \n",
       "</tr>\n",
       "<tr>\n",
       "  <th>Model Family:</th>        <td>Binomial</td>     <th>  Df Model:          </th>  <td>    14</td> \n",
       "</tr>\n",
       "<tr>\n",
       "  <th>Link Function:</th>         <td>Logit</td>      <th>  Scale:             </th> <td>  1.0000</td>\n",
       "</tr>\n",
       "<tr>\n",
       "  <th>Method:</th>                <td>IRLS</td>       <th>  Log-Likelihood:    </th> <td> -2522.2</td>\n",
       "</tr>\n",
       "<tr>\n",
       "  <th>Date:</th>            <td>Wed, 17 May 2023</td> <th>  Deviance:          </th> <td>  5044.4</td>\n",
       "</tr>\n",
       "<tr>\n",
       "  <th>Time:</th>                <td>20:35:15</td>     <th>  Pearson chi2:      </th> <td>6.30e+03</td>\n",
       "</tr>\n",
       "<tr>\n",
       "  <th>No. Iterations:</th>          <td>7</td>        <th>  Pseudo R-squ. (CS):</th>  <td>0.4166</td> \n",
       "</tr>\n",
       "<tr>\n",
       "  <th>Covariance Type:</th>     <td>nonrobust</td>    <th>                     </th>     <td> </td>   \n",
       "</tr>\n",
       "</table>\n",
       "<table class=\"simpletable\">\n",
       "<tr>\n",
       "                        <td></td>                          <th>coef</th>     <th>std err</th>      <th>z</th>      <th>P>|z|</th>  <th>[0.025</th>    <th>0.975]</th>  \n",
       "</tr>\n",
       "<tr>\n",
       "  <th>const</th>                                        <td>   -2.6532</td> <td>    0.146</td> <td>  -18.185</td> <td> 0.000</td> <td>   -2.939</td> <td>   -2.367</td>\n",
       "</tr>\n",
       "<tr>\n",
       "  <th>Do Not Email</th>                                 <td>   -1.1622</td> <td>    0.175</td> <td>   -6.649</td> <td> 0.000</td> <td>   -1.505</td> <td>   -0.820</td>\n",
       "</tr>\n",
       "<tr>\n",
       "  <th>TotalVisits</th>                                  <td>    1.2254</td> <td>    0.247</td> <td>    4.954</td> <td> 0.000</td> <td>    0.741</td> <td>    1.710</td>\n",
       "</tr>\n",
       "<tr>\n",
       "  <th>Total Time Spent on Website</th>                  <td>    4.5066</td> <td>    0.168</td> <td>   26.758</td> <td> 0.000</td> <td>    4.176</td> <td>    4.837</td>\n",
       "</tr>\n",
       "<tr>\n",
       "  <th>LeadOrigin_Lead Add Form</th>                     <td>    3.7825</td> <td>    0.202</td> <td>   18.683</td> <td> 0.000</td> <td>    3.386</td> <td>    4.179</td>\n",
       "</tr>\n",
       "<tr>\n",
       "  <th>LeadSource_Olark Chat</th>                        <td>    1.6450</td> <td>    0.124</td> <td>   13.263</td> <td> 0.000</td> <td>    1.402</td> <td>    1.888</td>\n",
       "</tr>\n",
       "<tr>\n",
       "  <th>LeadSource_Welingak Website</th>                  <td>    2.0756</td> <td>    0.742</td> <td>    2.799</td> <td> 0.005</td> <td>    0.622</td> <td>    3.529</td>\n",
       "</tr>\n",
       "<tr>\n",
       "  <th>LastActivity_Email Opened</th>                    <td>    0.4606</td> <td>    0.115</td> <td>    4.008</td> <td> 0.000</td> <td>    0.235</td> <td>    0.686</td>\n",
       "</tr>\n",
       "<tr>\n",
       "  <th>LastActivity_Olark Chat Conversation</th>         <td>   -0.6504</td> <td>    0.188</td> <td>   -3.453</td> <td> 0.001</td> <td>   -1.020</td> <td>   -0.281</td>\n",
       "</tr>\n",
       "<tr>\n",
       "  <th>LastActivity_SMS Sent</th>                        <td>    1.6433</td> <td>    0.116</td> <td>   14.213</td> <td> 0.000</td> <td>    1.417</td> <td>    1.870</td>\n",
       "</tr>\n",
       "<tr>\n",
       "  <th>CurrentOccupation_No Information</th>             <td>   -1.2327</td> <td>    0.090</td> <td>  -13.734</td> <td> 0.000</td> <td>   -1.409</td> <td>   -1.057</td>\n",
       "</tr>\n",
       "<tr>\n",
       "  <th>CurrentOccupation_Working Professional</th>       <td>    2.6138</td> <td>    0.203</td> <td>   12.876</td> <td> 0.000</td> <td>    2.216</td> <td>    3.012</td>\n",
       "</tr>\n",
       "<tr>\n",
       "  <th>LastNotableActivity_Had a Phone Conversation</th> <td>    3.4487</td> <td>    1.174</td> <td>    2.937</td> <td> 0.003</td> <td>    1.147</td> <td>    5.750</td>\n",
       "</tr>\n",
       "<tr>\n",
       "  <th>LastNotableActivity_Modified</th>                 <td>   -0.5446</td> <td>    0.089</td> <td>   -6.095</td> <td> 0.000</td> <td>   -0.720</td> <td>   -0.369</td>\n",
       "</tr>\n",
       "<tr>\n",
       "  <th>LastNotableActivity_Unreachable</th>              <td>    1.9285</td> <td>    0.560</td> <td>    3.442</td> <td> 0.001</td> <td>    0.830</td> <td>    3.027</td>\n",
       "</tr>\n",
       "</table>"
      ],
      "text/plain": [
       "<class 'statsmodels.iolib.summary.Summary'>\n",
       "\"\"\"\n",
       "                 Generalized Linear Model Regression Results                  \n",
       "==============================================================================\n",
       "Dep. Variable:              Converted   No. Observations:                 6320\n",
       "Model:                            GLM   Df Residuals:                     6305\n",
       "Model Family:                Binomial   Df Model:                           14\n",
       "Link Function:                  Logit   Scale:                          1.0000\n",
       "Method:                          IRLS   Log-Likelihood:                -2522.2\n",
       "Date:                Wed, 17 May 2023   Deviance:                       5044.4\n",
       "Time:                        20:35:15   Pearson chi2:                 6.30e+03\n",
       "No. Iterations:                     7   Pseudo R-squ. (CS):             0.4166\n",
       "Covariance Type:            nonrobust                                         \n",
       "================================================================================================================\n",
       "                                                   coef    std err          z      P>|z|      [0.025      0.975]\n",
       "----------------------------------------------------------------------------------------------------------------\n",
       "const                                           -2.6532      0.146    -18.185      0.000      -2.939      -2.367\n",
       "Do Not Email                                    -1.1622      0.175     -6.649      0.000      -1.505      -0.820\n",
       "TotalVisits                                      1.2254      0.247      4.954      0.000       0.741       1.710\n",
       "Total Time Spent on Website                      4.5066      0.168     26.758      0.000       4.176       4.837\n",
       "LeadOrigin_Lead Add Form                         3.7825      0.202     18.683      0.000       3.386       4.179\n",
       "LeadSource_Olark Chat                            1.6450      0.124     13.263      0.000       1.402       1.888\n",
       "LeadSource_Welingak Website                      2.0756      0.742      2.799      0.005       0.622       3.529\n",
       "LastActivity_Email Opened                        0.4606      0.115      4.008      0.000       0.235       0.686\n",
       "LastActivity_Olark Chat Conversation            -0.6504      0.188     -3.453      0.001      -1.020      -0.281\n",
       "LastActivity_SMS Sent                            1.6433      0.116     14.213      0.000       1.417       1.870\n",
       "CurrentOccupation_No Information                -1.2327      0.090    -13.734      0.000      -1.409      -1.057\n",
       "CurrentOccupation_Working Professional           2.6138      0.203     12.876      0.000       2.216       3.012\n",
       "LastNotableActivity_Had a Phone Conversation     3.4487      1.174      2.937      0.003       1.147       5.750\n",
       "LastNotableActivity_Modified                    -0.5446      0.089     -6.095      0.000      -0.720      -0.369\n",
       "LastNotableActivity_Unreachable                  1.9285      0.560      3.442      0.001       0.830       3.027\n",
       "================================================================================================================\n",
       "\"\"\""
      ]
     },
     "execution_count": 102,
     "metadata": {},
     "output_type": "execute_result"
    }
   ],
   "source": [
    "X_train_sm = sm.add_constant(X_train[col])\n",
    "logm8 = sm.GLM(y_train,X_train_sm, family = sm.families.Binomial())\n",
    "res = logm8.fit()\n",
    "res.summary()"
   ]
  },
  {
   "cell_type": "code",
   "execution_count": 103,
   "id": "8bbb6b05",
   "metadata": {},
   "outputs": [
    {
     "data": {
      "text/html": [
       "<div>\n",
       "<style scoped>\n",
       "    .dataframe tbody tr th:only-of-type {\n",
       "        vertical-align: middle;\n",
       "    }\n",
       "\n",
       "    .dataframe tbody tr th {\n",
       "        vertical-align: top;\n",
       "    }\n",
       "\n",
       "    .dataframe thead th {\n",
       "        text-align: right;\n",
       "    }\n",
       "</style>\n",
       "<table border=\"1\" class=\"dataframe\">\n",
       "  <thead>\n",
       "    <tr style=\"text-align: right;\">\n",
       "      <th></th>\n",
       "      <th>Features</th>\n",
       "      <th>VIF</th>\n",
       "    </tr>\n",
       "  </thead>\n",
       "  <tbody>\n",
       "    <tr>\n",
       "      <th>1</th>\n",
       "      <td>TotalVisits</td>\n",
       "      <td>2.63</td>\n",
       "    </tr>\n",
       "    <tr>\n",
       "      <th>2</th>\n",
       "      <td>Total Time Spent on Website</td>\n",
       "      <td>2.11</td>\n",
       "    </tr>\n",
       "    <tr>\n",
       "      <th>6</th>\n",
       "      <td>LastActivity_Email Opened</td>\n",
       "      <td>2.06</td>\n",
       "    </tr>\n",
       "    <tr>\n",
       "      <th>4</th>\n",
       "      <td>LeadSource_Olark Chat</td>\n",
       "      <td>1.94</td>\n",
       "    </tr>\n",
       "    <tr>\n",
       "      <th>8</th>\n",
       "      <td>LastActivity_SMS Sent</td>\n",
       "      <td>1.86</td>\n",
       "    </tr>\n",
       "    <tr>\n",
       "      <th>7</th>\n",
       "      <td>LastActivity_Olark Chat Conversation</td>\n",
       "      <td>1.75</td>\n",
       "    </tr>\n",
       "    <tr>\n",
       "      <th>12</th>\n",
       "      <td>LastNotableActivity_Modified</td>\n",
       "      <td>1.68</td>\n",
       "    </tr>\n",
       "    <tr>\n",
       "      <th>3</th>\n",
       "      <td>LeadOrigin_Lead Add Form</td>\n",
       "      <td>1.57</td>\n",
       "    </tr>\n",
       "    <tr>\n",
       "      <th>9</th>\n",
       "      <td>CurrentOccupation_No Information</td>\n",
       "      <td>1.57</td>\n",
       "    </tr>\n",
       "    <tr>\n",
       "      <th>5</th>\n",
       "      <td>LeadSource_Welingak Website</td>\n",
       "      <td>1.30</td>\n",
       "    </tr>\n",
       "    <tr>\n",
       "      <th>10</th>\n",
       "      <td>CurrentOccupation_Working Professional</td>\n",
       "      <td>1.18</td>\n",
       "    </tr>\n",
       "    <tr>\n",
       "      <th>0</th>\n",
       "      <td>Do Not Email</td>\n",
       "      <td>1.13</td>\n",
       "    </tr>\n",
       "    <tr>\n",
       "      <th>13</th>\n",
       "      <td>LastNotableActivity_Unreachable</td>\n",
       "      <td>1.02</td>\n",
       "    </tr>\n",
       "    <tr>\n",
       "      <th>11</th>\n",
       "      <td>LastNotableActivity_Had a Phone Conversation</td>\n",
       "      <td>1.01</td>\n",
       "    </tr>\n",
       "  </tbody>\n",
       "</table>\n",
       "</div>"
      ],
      "text/plain": [
       "                                        Features   VIF\n",
       "1                                    TotalVisits  2.63\n",
       "2                    Total Time Spent on Website  2.11\n",
       "6                      LastActivity_Email Opened  2.06\n",
       "4                          LeadSource_Olark Chat  1.94\n",
       "8                          LastActivity_SMS Sent  1.86\n",
       "7           LastActivity_Olark Chat Conversation  1.75\n",
       "12                  LastNotableActivity_Modified  1.68\n",
       "3                       LeadOrigin_Lead Add Form  1.57\n",
       "9               CurrentOccupation_No Information  1.57\n",
       "5                    LeadSource_Welingak Website  1.30\n",
       "10        CurrentOccupation_Working Professional  1.18\n",
       "0                                   Do Not Email  1.13\n",
       "13               LastNotableActivity_Unreachable  1.02\n",
       "11  LastNotableActivity_Had a Phone Conversation  1.01"
      ]
     },
     "execution_count": 103,
     "metadata": {},
     "output_type": "execute_result"
    }
   ],
   "source": [
    "#Rechecking the VIF \n",
    "\n",
    "vif = pd.DataFrame()\n",
    "vif['Features'] = X_train[col].columns\n",
    "vif['VIF'] = [variance_inflation_factor(X_train[col].values, i) for i in range(X_train[col].shape[1])]\n",
    "vif['VIF'] = round(vif['VIF'], 2)\n",
    "vif = vif.sort_values(by = \"VIF\", ascending = False)\n",
    "vif"
   ]
  },
  {
   "cell_type": "markdown",
   "id": "68567cd0",
   "metadata": {},
   "source": [
    "Finally we have Model 8 seems to be stable with significant p-values and the VIF are less than 5. "
   ]
  },
  {
   "cell_type": "markdown",
   "id": "440d76a6",
   "metadata": {},
   "source": [
    "### Model Predictions :"
   ]
  },
  {
   "cell_type": "code",
   "execution_count": 104,
   "id": "91ca1ab1",
   "metadata": {},
   "outputs": [
    {
     "data": {
      "text/plain": [
       "2240    0.701779\n",
       "113     0.591069\n",
       "4132    0.765682\n",
       "5573    0.129061\n",
       "1109    0.013213\n",
       "2282    0.030126\n",
       "2976    0.869418\n",
       "8431    0.460064\n",
       "2770    0.739865\n",
       "5790    0.995442\n",
       "dtype: float64"
      ]
     },
     "execution_count": 104,
     "metadata": {},
     "output_type": "execute_result"
    }
   ],
   "source": [
    "# Getting the predicted values on the train set\n",
    "y_train_pred = res.predict(X_train_sm)\n",
    "y_train_pred[:10]"
   ]
  },
  {
   "cell_type": "code",
   "execution_count": 105,
   "id": "3810d217",
   "metadata": {},
   "outputs": [
    {
     "data": {
      "text/plain": [
       "array([0.70177929, 0.59106932, 0.76568166, 0.12906116, 0.01321321,\n",
       "       0.03012638, 0.86941758, 0.4600642 , 0.7398654 , 0.99544236])"
      ]
     },
     "execution_count": 105,
     "metadata": {},
     "output_type": "execute_result"
    }
   ],
   "source": [
    "# Reshape\n",
    "y_train_pred = y_train_pred.values.reshape(-1)\n",
    "y_train_pred[:10]"
   ]
  },
  {
   "cell_type": "markdown",
   "id": "9a5ce412",
   "metadata": {},
   "source": [
    "#### Creating a dataframe with the actual converted flag and the predicted probabilities"
   ]
  },
  {
   "cell_type": "code",
   "execution_count": 106,
   "id": "ed13f70f",
   "metadata": {},
   "outputs": [
    {
     "data": {
      "text/html": [
       "<div>\n",
       "<style scoped>\n",
       "    .dataframe tbody tr th:only-of-type {\n",
       "        vertical-align: middle;\n",
       "    }\n",
       "\n",
       "    .dataframe tbody tr th {\n",
       "        vertical-align: top;\n",
       "    }\n",
       "\n",
       "    .dataframe thead th {\n",
       "        text-align: right;\n",
       "    }\n",
       "</style>\n",
       "<table border=\"1\" class=\"dataframe\">\n",
       "  <thead>\n",
       "    <tr style=\"text-align: right;\">\n",
       "      <th></th>\n",
       "      <th>Converted</th>\n",
       "      <th>Converted_Prob</th>\n",
       "      <th>LeadId</th>\n",
       "    </tr>\n",
       "  </thead>\n",
       "  <tbody>\n",
       "    <tr>\n",
       "      <th>0</th>\n",
       "      <td>0</td>\n",
       "      <td>0.701779</td>\n",
       "      <td>2240</td>\n",
       "    </tr>\n",
       "    <tr>\n",
       "      <th>1</th>\n",
       "      <td>0</td>\n",
       "      <td>0.591069</td>\n",
       "      <td>113</td>\n",
       "    </tr>\n",
       "    <tr>\n",
       "      <th>2</th>\n",
       "      <td>1</td>\n",
       "      <td>0.765682</td>\n",
       "      <td>4132</td>\n",
       "    </tr>\n",
       "    <tr>\n",
       "      <th>3</th>\n",
       "      <td>0</td>\n",
       "      <td>0.129061</td>\n",
       "      <td>5573</td>\n",
       "    </tr>\n",
       "    <tr>\n",
       "      <th>4</th>\n",
       "      <td>0</td>\n",
       "      <td>0.013213</td>\n",
       "      <td>1109</td>\n",
       "    </tr>\n",
       "  </tbody>\n",
       "</table>\n",
       "</div>"
      ],
      "text/plain": [
       "   Converted  Converted_Prob  LeadId\n",
       "0          0        0.701779    2240\n",
       "1          0        0.591069     113\n",
       "2          1        0.765682    4132\n",
       "3          0        0.129061    5573\n",
       "4          0        0.013213    1109"
      ]
     },
     "execution_count": 106,
     "metadata": {},
     "output_type": "execute_result"
    }
   ],
   "source": [
    "y_train_pred_final = pd.DataFrame({'Converted':y_train.values, 'Converted_Prob':y_train_pred})\n",
    "y_train_pred_final['LeadId'] = y_train.index\n",
    "y_train_pred_final.head()"
   ]
  },
  {
   "cell_type": "markdown",
   "id": "3c709855",
   "metadata": {},
   "source": [
    "#### Creating new column 'predicted' with 1 if Converted_Prob > 0.5 else 0"
   ]
  },
  {
   "cell_type": "code",
   "execution_count": 107,
   "id": "3e4e3d08",
   "metadata": {},
   "outputs": [
    {
     "data": {
      "text/html": [
       "<div>\n",
       "<style scoped>\n",
       "    .dataframe tbody tr th:only-of-type {\n",
       "        vertical-align: middle;\n",
       "    }\n",
       "\n",
       "    .dataframe tbody tr th {\n",
       "        vertical-align: top;\n",
       "    }\n",
       "\n",
       "    .dataframe thead th {\n",
       "        text-align: right;\n",
       "    }\n",
       "</style>\n",
       "<table border=\"1\" class=\"dataframe\">\n",
       "  <thead>\n",
       "    <tr style=\"text-align: right;\">\n",
       "      <th></th>\n",
       "      <th>Converted</th>\n",
       "      <th>Converted_Prob</th>\n",
       "      <th>LeadId</th>\n",
       "      <th>predicted</th>\n",
       "    </tr>\n",
       "  </thead>\n",
       "  <tbody>\n",
       "    <tr>\n",
       "      <th>0</th>\n",
       "      <td>0</td>\n",
       "      <td>0.701779</td>\n",
       "      <td>2240</td>\n",
       "      <td>1</td>\n",
       "    </tr>\n",
       "    <tr>\n",
       "      <th>1</th>\n",
       "      <td>0</td>\n",
       "      <td>0.591069</td>\n",
       "      <td>113</td>\n",
       "      <td>1</td>\n",
       "    </tr>\n",
       "    <tr>\n",
       "      <th>2</th>\n",
       "      <td>1</td>\n",
       "      <td>0.765682</td>\n",
       "      <td>4132</td>\n",
       "      <td>1</td>\n",
       "    </tr>\n",
       "    <tr>\n",
       "      <th>3</th>\n",
       "      <td>0</td>\n",
       "      <td>0.129061</td>\n",
       "      <td>5573</td>\n",
       "      <td>0</td>\n",
       "    </tr>\n",
       "    <tr>\n",
       "      <th>4</th>\n",
       "      <td>0</td>\n",
       "      <td>0.013213</td>\n",
       "      <td>1109</td>\n",
       "      <td>0</td>\n",
       "    </tr>\n",
       "  </tbody>\n",
       "</table>\n",
       "</div>"
      ],
      "text/plain": [
       "   Converted  Converted_Prob  LeadId  predicted\n",
       "0          0        0.701779    2240          1\n",
       "1          0        0.591069     113          1\n",
       "2          1        0.765682    4132          1\n",
       "3          0        0.129061    5573          0\n",
       "4          0        0.013213    1109          0"
      ]
     },
     "execution_count": 107,
     "metadata": {},
     "output_type": "execute_result"
    }
   ],
   "source": [
    "y_train_pred_final['predicted'] = y_train_pred_final.Converted_Prob.map(lambda x: 1 if x > 0.5 else 0)\n",
    "y_train_pred_final.head()"
   ]
  },
  {
   "cell_type": "markdown",
   "id": "be6fc8df",
   "metadata": {},
   "source": [
    "### Confusion Matrix and Accuracy"
   ]
  },
  {
   "cell_type": "code",
   "execution_count": 108,
   "id": "fce59a7e",
   "metadata": {},
   "outputs": [
    {
     "name": "stdout",
     "output_type": "stream",
     "text": [
      "[[3413  445]\n",
      " [ 708 1754]]\n"
     ]
    }
   ],
   "source": [
    "confusion_mat = metrics.confusion_matrix(y_train_pred_final.Converted, y_train_pred_final.predicted )\n",
    "print(confusion_mat)"
   ]
  },
  {
   "cell_type": "code",
   "execution_count": 109,
   "id": "f2beccd3",
   "metadata": {},
   "outputs": [
    {
     "name": "stdout",
     "output_type": "stream",
     "text": [
      "0.8175632911392405\n"
     ]
    }
   ],
   "source": [
    "# Let's check the overall accuracy.\n",
    "\n",
    "print(metrics.accuracy_score(y_train_pred_final.Converted, y_train_pred_final.predicted))"
   ]
  },
  {
   "cell_type": "markdown",
   "id": "cdeb013a",
   "metadata": {},
   "source": [
    "Accuracy rate is around 81% which is good. However we will also need to calculate the other metrics as we cannot depend only on the accuracy metrics."
   ]
  },
  {
   "cell_type": "markdown",
   "id": "b0a0655d",
   "metadata": {},
   "source": [
    "### Metrics beyond simply accuracy"
   ]
  },
  {
   "cell_type": "code",
   "execution_count": 110,
   "id": "4491d496",
   "metadata": {},
   "outputs": [],
   "source": [
    "TP = confusion_mat[1,1] # true positive \n",
    "TN = confusion_mat[0,0] # true negatives\n",
    "FP = confusion_mat[0,1] # false positives\n",
    "FN = confusion_mat[1,0] # false negatives"
   ]
  },
  {
   "cell_type": "code",
   "execution_count": 111,
   "id": "5fa1c26d",
   "metadata": {},
   "outputs": [
    {
     "data": {
      "text/plain": [
       "0.7124289195775793"
      ]
     },
     "execution_count": 111,
     "metadata": {},
     "output_type": "execute_result"
    }
   ],
   "source": [
    "# Let's see the sensitivity of our logistic regression model\n",
    "TP / float(TP+FN)"
   ]
  },
  {
   "cell_type": "code",
   "execution_count": 112,
   "id": "9aa3f2f2",
   "metadata": {},
   "outputs": [
    {
     "data": {
      "text/plain": [
       "0.8846552617936755"
      ]
     },
     "execution_count": 112,
     "metadata": {},
     "output_type": "execute_result"
    }
   ],
   "source": [
    "# Let us calculate specificity\n",
    "TN / float(TN+FP)"
   ]
  },
  {
   "cell_type": "code",
   "execution_count": 113,
   "id": "c3dbb1e1",
   "metadata": {},
   "outputs": [
    {
     "name": "stdout",
     "output_type": "stream",
     "text": [
      "0.11534473820632452\n"
     ]
    }
   ],
   "source": [
    "# Calculate false postive rate - predicting non conversion when leads have converted\n",
    "\n",
    "print(FP/ float(TN+FP))"
   ]
  },
  {
   "cell_type": "code",
   "execution_count": 114,
   "id": "cc9ffcae",
   "metadata": {},
   "outputs": [
    {
     "name": "stdout",
     "output_type": "stream",
     "text": [
      "0.7976352887676217\n"
     ]
    }
   ],
   "source": [
    "# positive predictive value \n",
    "print (TP / float(TP+FP))"
   ]
  },
  {
   "cell_type": "code",
   "execution_count": 115,
   "id": "9e4d2c9d",
   "metadata": {},
   "outputs": [
    {
     "name": "stdout",
     "output_type": "stream",
     "text": [
      "0.8281970395535064\n"
     ]
    }
   ],
   "source": [
    "# Negative predictive value\n",
    "print (TN / float(TN+ FN))"
   ]
  },
  {
   "cell_type": "markdown",
   "id": "08d91e68",
   "metadata": {},
   "source": [
    "### 9.Plotting the ROC Curve"
   ]
  },
  {
   "cell_type": "markdown",
   "id": "a703b888",
   "metadata": {},
   "source": [
    "An ROC curve demonstrates several things:\n",
    "\n",
    "- It shows the tradeoff between sensitivity and specificity (any increase in sensitivity will be accompanied by a decrease in specificity).\n",
    "- The closer the curve follows the left-hand border and then the top border of the ROC space, the more accurate the test.\n",
    "- The closer the curve comes to the 45-degree diagonal of the ROC space, the less accurate the test."
   ]
  },
  {
   "cell_type": "code",
   "execution_count": 116,
   "id": "368871e7",
   "metadata": {},
   "outputs": [],
   "source": [
    "def draw_roc( actual, probs ):\n",
    "    fpr, tpr, thresholds = metrics.roc_curve( actual, probs,\n",
    "                                              drop_intermediate = False )\n",
    "    auc_score = metrics.roc_auc_score( actual, probs )\n",
    "    plt.figure(figsize=(5, 5))\n",
    "    plt.plot( fpr, tpr, label='ROC curve (area = %0.2f)' % auc_score )\n",
    "    plt.plot([0, 1], [0, 1], 'k--')\n",
    "    plt.xlim([0.0, 1.0])\n",
    "    plt.ylim([0.0, 1.05])\n",
    "    plt.xlabel('False Positive Rate or [1 - True Negative Rate]')\n",
    "    plt.ylabel('True Positive Rate')\n",
    "    plt.title('Receiver operating characteristic example')\n",
    "    plt.legend(loc=\"lower right\")\n",
    "    plt.show()\n",
    "\n",
    "    return None"
   ]
  },
  {
   "cell_type": "code",
   "execution_count": 117,
   "id": "04f4e8e7",
   "metadata": {},
   "outputs": [],
   "source": [
    "fpr, tpr, thresholds = metrics.roc_curve( y_train_pred_final.Converted, y_train_pred_final.Converted_Prob, \n",
    "                                         drop_intermediate = False )"
   ]
  },
  {
   "cell_type": "code",
   "execution_count": 118,
   "id": "478d3084",
   "metadata": {},
   "outputs": [
    {
     "data": {
      "image/png": "[encoded data removed]",
      "text/plain": [
       "<Figure size 500x500 with 1 Axes>"
      ]
     },
     "metadata": {},
     "output_type": "display_data"
    }
   ],
   "source": [
    "draw_roc(y_train_pred_final.Converted, y_train_pred_final.Converted_Prob)"
   ]
  },
  {
   "cell_type": "markdown",
   "id": "18944e1c",
   "metadata": {},
   "source": [
    "### 10.Finding Optimal Cutoff Point"
   ]
  },
  {
   "cell_type": "markdown",
   "id": "1c0aa9da",
   "metadata": {},
   "source": [
    "Optimal cut off probability is that prob where we get balanced sensitivity and specificity"
   ]
  },
  {
   "cell_type": "code",
   "execution_count": 119,
   "id": "fd5a44de",
   "metadata": {},
   "outputs": [
    {
     "data": {
      "text/html": [
       "<div>\n",
       "<style scoped>\n",
       "    .dataframe tbody tr th:only-of-type {\n",
       "        vertical-align: middle;\n",
       "    }\n",
       "\n",
       "    .dataframe tbody tr th {\n",
       "        vertical-align: top;\n",
       "    }\n",
       "\n",
       "    .dataframe thead th {\n",
       "        text-align: right;\n",
       "    }\n",
       "</style>\n",
       "<table border=\"1\" class=\"dataframe\">\n",
       "  <thead>\n",
       "    <tr style=\"text-align: right;\">\n",
       "      <th></th>\n",
       "      <th>Converted</th>\n",
       "      <th>Converted_Prob</th>\n",
       "      <th>LeadId</th>\n",
       "      <th>predicted</th>\n",
       "      <th>0.0</th>\n",
       "      <th>0.1</th>\n",
       "      <th>0.2</th>\n",
       "      <th>0.3</th>\n",
       "      <th>0.4</th>\n",
       "      <th>0.5</th>\n",
       "      <th>0.6</th>\n",
       "      <th>0.7</th>\n",
       "      <th>0.8</th>\n",
       "      <th>0.9</th>\n",
       "    </tr>\n",
       "  </thead>\n",
       "  <tbody>\n",
       "    <tr>\n",
       "      <th>0</th>\n",
       "      <td>0</td>\n",
       "      <td>0.701779</td>\n",
       "      <td>2240</td>\n",
       "      <td>1</td>\n",
       "      <td>1</td>\n",
       "      <td>1</td>\n",
       "      <td>1</td>\n",
       "      <td>1</td>\n",
       "      <td>1</td>\n",
       "      <td>1</td>\n",
       "      <td>1</td>\n",
       "      <td>1</td>\n",
       "      <td>0</td>\n",
       "      <td>0</td>\n",
       "    </tr>\n",
       "    <tr>\n",
       "      <th>1</th>\n",
       "      <td>0</td>\n",
       "      <td>0.591069</td>\n",
       "      <td>113</td>\n",
       "      <td>1</td>\n",
       "      <td>1</td>\n",
       "      <td>1</td>\n",
       "      <td>1</td>\n",
       "      <td>1</td>\n",
       "      <td>1</td>\n",
       "      <td>1</td>\n",
       "      <td>0</td>\n",
       "      <td>0</td>\n",
       "      <td>0</td>\n",
       "      <td>0</td>\n",
       "    </tr>\n",
       "    <tr>\n",
       "      <th>2</th>\n",
       "      <td>1</td>\n",
       "      <td>0.765682</td>\n",
       "      <td>4132</td>\n",
       "      <td>1</td>\n",
       "      <td>1</td>\n",
       "      <td>1</td>\n",
       "      <td>1</td>\n",
       "      <td>1</td>\n",
       "      <td>1</td>\n",
       "      <td>1</td>\n",
       "      <td>1</td>\n",
       "      <td>1</td>\n",
       "      <td>0</td>\n",
       "      <td>0</td>\n",
       "    </tr>\n",
       "    <tr>\n",
       "      <th>3</th>\n",
       "      <td>0</td>\n",
       "      <td>0.129061</td>\n",
       "      <td>5573</td>\n",
       "      <td>0</td>\n",
       "      <td>1</td>\n",
       "      <td>1</td>\n",
       "      <td>0</td>\n",
       "      <td>0</td>\n",
       "      <td>0</td>\n",
       "      <td>0</td>\n",
       "      <td>0</td>\n",
       "      <td>0</td>\n",
       "      <td>0</td>\n",
       "      <td>0</td>\n",
       "    </tr>\n",
       "    <tr>\n",
       "      <th>4</th>\n",
       "      <td>0</td>\n",
       "      <td>0.013213</td>\n",
       "      <td>1109</td>\n",
       "      <td>0</td>\n",
       "      <td>1</td>\n",
       "      <td>0</td>\n",
       "      <td>0</td>\n",
       "      <td>0</td>\n",
       "      <td>0</td>\n",
       "      <td>0</td>\n",
       "      <td>0</td>\n",
       "      <td>0</td>\n",
       "      <td>0</td>\n",
       "      <td>0</td>\n",
       "    </tr>\n",
       "  </tbody>\n",
       "</table>\n",
       "</div>"
      ],
      "text/plain": [
       "   Converted  Converted_Prob  LeadId  predicted  0.0  0.1  0.2  0.3  0.4  0.5  \\\n",
       "0          0        0.701779    2240          1    1    1    1    1    1    1   \n",
       "1          0        0.591069     113          1    1    1    1    1    1    1   \n",
       "2          1        0.765682    4132          1    1    1    1    1    1    1   \n",
       "3          0        0.129061    5573          0    1    1    0    0    0    0   \n",
       "4          0        0.013213    1109          0    1    0    0    0    0    0   \n",
       "\n",
       "   0.6  0.7  0.8  0.9  \n",
       "0    1    1    0    0  \n",
       "1    0    0    0    0  \n",
       "2    1    1    0    0  \n",
       "3    0    0    0    0  \n",
       "4    0    0    0    0  "
      ]
     },
     "execution_count": 119,
     "metadata": {},
     "output_type": "execute_result"
    }
   ],
   "source": [
    "# Let's create columns with different probability cutoffs \n",
    "numbers = [float(x)/10 for x in range(10)]\n",
    "for i in numbers:\n",
    "    y_train_pred_final[i]= y_train_pred_final.Converted_Prob.map(lambda x: 1 if x > i else 0)\n",
    "y_train_pred_final.head()"
   ]
  },
  {
   "cell_type": "code",
   "execution_count": 120,
   "id": "ea344a58",
   "metadata": {},
   "outputs": [
    {
     "name": "stdout",
     "output_type": "stream",
     "text": [
      "     prob  accuracy     sensi     speci\n",
      "0.0   0.0  0.389557  1.000000  0.000000\n",
      "0.1   0.1  0.657278  0.972380  0.456195\n",
      "0.2   0.2  0.760759  0.923233  0.657076\n",
      "0.3   0.3  0.803165  0.878554  0.755054\n",
      "0.4   0.4  0.815348  0.780260  0.837740\n",
      "0.5   0.5  0.817563  0.712429  0.884655\n",
      "0.6   0.6  0.808703  0.638911  0.917055\n",
      "0.7   0.7  0.784810  0.530869  0.946864\n",
      "0.8   0.8  0.763291  0.444354  0.966822\n",
      "0.9   0.9  0.718987  0.299350  0.986781\n"
     ]
    }
   ],
   "source": [
    "# Now let's calculate accuracy sensitivity and specificity for various probability cutoffs.\n",
    "cutoff_df = pd.DataFrame( columns = ['prob','accuracy','sensi','speci'])\n",
    "\n",
    "# TP = confusion[1,1] # true positive \n",
    "# TN = confusion[0,0] # true negatives\n",
    "# FP = confusion[0,1] # false positives\n",
    "# FN = confusion[1,0] # false negatives\n",
    "\n",
    "num = [0.0,0.1,0.2,0.3,0.4,0.5,0.6,0.7,0.8,0.9]\n",
    "for i in num:\n",
    "    cm1 = metrics.confusion_matrix(y_train_pred_final.Converted, y_train_pred_final[i] )\n",
    "    total1=sum(sum(cm1))\n",
    "    accuracy = (cm1[0,0]+cm1[1,1])/total1\n",
    "    \n",
    "    speci = cm1[0,0]/(cm1[0,0]+cm1[0,1])\n",
    "    sensi = cm1[1,1]/(cm1[1,0]+cm1[1,1])\n",
    "    cutoff_df.loc[i] =[ i ,accuracy,sensi,speci]\n",
    "print(cutoff_df)"
   ]
  },
  {
   "cell_type": "code",
   "execution_count": 121,
   "id": "06e1dbed",
   "metadata": {},
   "outputs": [
    {
     "data": {
      "image/png": "[encoded data removed]",
      "text/plain": [
       "<Figure size 640x480 with 1 Axes>"
      ]
     },
     "metadata": {},
     "output_type": "display_data"
    }
   ],
   "source": [
    "# Let's plot accuracy sensitivity and specificity for various probabilities.\n",
    "cutoff_df.plot.line(x='prob', y=['accuracy','sensi','speci'])\n",
    "plt.show()"
   ]
  },
  {
   "cell_type": "markdown",
   "id": "05903def",
   "metadata": {},
   "source": [
    "From the curve above, 0.37 is the optimum point to take it as a cutoff probability."
   ]
  },
  {
   "cell_type": "code",
   "execution_count": 122,
   "id": "750e4b73",
   "metadata": {},
   "outputs": [
    {
     "data": {
      "text/html": [
       "<div>\n",
       "<style scoped>\n",
       "    .dataframe tbody tr th:only-of-type {\n",
       "        vertical-align: middle;\n",
       "    }\n",
       "\n",
       "    .dataframe tbody tr th {\n",
       "        vertical-align: top;\n",
       "    }\n",
       "\n",
       "    .dataframe thead th {\n",
       "        text-align: right;\n",
       "    }\n",
       "</style>\n",
       "<table border=\"1\" class=\"dataframe\">\n",
       "  <thead>\n",
       "    <tr style=\"text-align: right;\">\n",
       "      <th></th>\n",
       "      <th>Converted</th>\n",
       "      <th>Converted_Prob</th>\n",
       "      <th>LeadId</th>\n",
       "      <th>predicted</th>\n",
       "      <th>0.0</th>\n",
       "      <th>0.1</th>\n",
       "      <th>0.2</th>\n",
       "      <th>0.3</th>\n",
       "      <th>0.4</th>\n",
       "      <th>0.5</th>\n",
       "      <th>0.6</th>\n",
       "      <th>0.7</th>\n",
       "      <th>0.8</th>\n",
       "      <th>0.9</th>\n",
       "      <th>final_predicted</th>\n",
       "    </tr>\n",
       "  </thead>\n",
       "  <tbody>\n",
       "    <tr>\n",
       "      <th>0</th>\n",
       "      <td>0</td>\n",
       "      <td>0.701779</td>\n",
       "      <td>2240</td>\n",
       "      <td>1</td>\n",
       "      <td>1</td>\n",
       "      <td>1</td>\n",
       "      <td>1</td>\n",
       "      <td>1</td>\n",
       "      <td>1</td>\n",
       "      <td>1</td>\n",
       "      <td>1</td>\n",
       "      <td>1</td>\n",
       "      <td>0</td>\n",
       "      <td>0</td>\n",
       "      <td>1</td>\n",
       "    </tr>\n",
       "    <tr>\n",
       "      <th>1</th>\n",
       "      <td>0</td>\n",
       "      <td>0.591069</td>\n",
       "      <td>113</td>\n",
       "      <td>1</td>\n",
       "      <td>1</td>\n",
       "      <td>1</td>\n",
       "      <td>1</td>\n",
       "      <td>1</td>\n",
       "      <td>1</td>\n",
       "      <td>1</td>\n",
       "      <td>0</td>\n",
       "      <td>0</td>\n",
       "      <td>0</td>\n",
       "      <td>0</td>\n",
       "      <td>1</td>\n",
       "    </tr>\n",
       "    <tr>\n",
       "      <th>2</th>\n",
       "      <td>1</td>\n",
       "      <td>0.765682</td>\n",
       "      <td>4132</td>\n",
       "      <td>1</td>\n",
       "      <td>1</td>\n",
       "      <td>1</td>\n",
       "      <td>1</td>\n",
       "      <td>1</td>\n",
       "      <td>1</td>\n",
       "      <td>1</td>\n",
       "      <td>1</td>\n",
       "      <td>1</td>\n",
       "      <td>0</td>\n",
       "      <td>0</td>\n",
       "      <td>1</td>\n",
       "    </tr>\n",
       "    <tr>\n",
       "      <th>3</th>\n",
       "      <td>0</td>\n",
       "      <td>0.129061</td>\n",
       "      <td>5573</td>\n",
       "      <td>0</td>\n",
       "      <td>1</td>\n",
       "      <td>1</td>\n",
       "      <td>0</td>\n",
       "      <td>0</td>\n",
       "      <td>0</td>\n",
       "      <td>0</td>\n",
       "      <td>0</td>\n",
       "      <td>0</td>\n",
       "      <td>0</td>\n",
       "      <td>0</td>\n",
       "      <td>0</td>\n",
       "    </tr>\n",
       "    <tr>\n",
       "      <th>4</th>\n",
       "      <td>0</td>\n",
       "      <td>0.013213</td>\n",
       "      <td>1109</td>\n",
       "      <td>0</td>\n",
       "      <td>1</td>\n",
       "      <td>0</td>\n",
       "      <td>0</td>\n",
       "      <td>0</td>\n",
       "      <td>0</td>\n",
       "      <td>0</td>\n",
       "      <td>0</td>\n",
       "      <td>0</td>\n",
       "      <td>0</td>\n",
       "      <td>0</td>\n",
       "      <td>0</td>\n",
       "    </tr>\n",
       "  </tbody>\n",
       "</table>\n",
       "</div>"
      ],
      "text/plain": [
       "   Converted  Converted_Prob  LeadId  predicted  0.0  0.1  0.2  0.3  0.4  0.5  \\\n",
       "0          0        0.701779    2240          1    1    1    1    1    1    1   \n",
       "1          0        0.591069     113          1    1    1    1    1    1    1   \n",
       "2          1        0.765682    4132          1    1    1    1    1    1    1   \n",
       "3          0        0.129061    5573          0    1    1    0    0    0    0   \n",
       "4          0        0.013213    1109          0    1    0    0    0    0    0   \n",
       "\n",
       "   0.6  0.7  0.8  0.9  final_predicted  \n",
       "0    1    1    0    0                1  \n",
       "1    0    0    0    0                1  \n",
       "2    1    1    0    0                1  \n",
       "3    0    0    0    0                0  \n",
       "4    0    0    0    0                0  "
      ]
     },
     "execution_count": 122,
     "metadata": {},
     "output_type": "execute_result"
    }
   ],
   "source": [
    "# Let us make the final prediction using 0.37 as the cut off\n",
    "\n",
    "y_train_pred_final['final_predicted'] = y_train_pred_final.Converted_Prob.map( lambda x: 1 if x > 0.37 else 0)\n",
    "y_train_pred_final.head()"
   ]
  },
  {
   "cell_type": "code",
   "execution_count": 123,
   "id": "b806f133",
   "metadata": {},
   "outputs": [
    {
     "data": {
      "text/html": [
       "<div>\n",
       "<style scoped>\n",
       "    .dataframe tbody tr th:only-of-type {\n",
       "        vertical-align: middle;\n",
       "    }\n",
       "\n",
       "    .dataframe tbody tr th {\n",
       "        vertical-align: top;\n",
       "    }\n",
       "\n",
       "    .dataframe thead th {\n",
       "        text-align: right;\n",
       "    }\n",
       "</style>\n",
       "<table border=\"1\" class=\"dataframe\">\n",
       "  <thead>\n",
       "    <tr style=\"text-align: right;\">\n",
       "      <th></th>\n",
       "      <th>Converted</th>\n",
       "      <th>Converted_Prob</th>\n",
       "      <th>LeadId</th>\n",
       "      <th>predicted</th>\n",
       "      <th>0.0</th>\n",
       "      <th>0.1</th>\n",
       "      <th>0.2</th>\n",
       "      <th>0.3</th>\n",
       "      <th>0.4</th>\n",
       "      <th>0.5</th>\n",
       "      <th>0.6</th>\n",
       "      <th>0.7</th>\n",
       "      <th>0.8</th>\n",
       "      <th>0.9</th>\n",
       "      <th>final_predicted</th>\n",
       "      <th>lead_score</th>\n",
       "    </tr>\n",
       "  </thead>\n",
       "  <tbody>\n",
       "    <tr>\n",
       "      <th>0</th>\n",
       "      <td>0</td>\n",
       "      <td>0.701779</td>\n",
       "      <td>2240</td>\n",
       "      <td>1</td>\n",
       "      <td>1</td>\n",
       "      <td>1</td>\n",
       "      <td>1</td>\n",
       "      <td>1</td>\n",
       "      <td>1</td>\n",
       "      <td>1</td>\n",
       "      <td>1</td>\n",
       "      <td>1</td>\n",
       "      <td>0</td>\n",
       "      <td>0</td>\n",
       "      <td>1</td>\n",
       "      <td>70</td>\n",
       "    </tr>\n",
       "    <tr>\n",
       "      <th>1</th>\n",
       "      <td>0</td>\n",
       "      <td>0.591069</td>\n",
       "      <td>113</td>\n",
       "      <td>1</td>\n",
       "      <td>1</td>\n",
       "      <td>1</td>\n",
       "      <td>1</td>\n",
       "      <td>1</td>\n",
       "      <td>1</td>\n",
       "      <td>1</td>\n",
       "      <td>0</td>\n",
       "      <td>0</td>\n",
       "      <td>0</td>\n",
       "      <td>0</td>\n",
       "      <td>1</td>\n",
       "      <td>59</td>\n",
       "    </tr>\n",
       "    <tr>\n",
       "      <th>2</th>\n",
       "      <td>1</td>\n",
       "      <td>0.765682</td>\n",
       "      <td>4132</td>\n",
       "      <td>1</td>\n",
       "      <td>1</td>\n",
       "      <td>1</td>\n",
       "      <td>1</td>\n",
       "      <td>1</td>\n",
       "      <td>1</td>\n",
       "      <td>1</td>\n",
       "      <td>1</td>\n",
       "      <td>1</td>\n",
       "      <td>0</td>\n",
       "      <td>0</td>\n",
       "      <td>1</td>\n",
       "      <td>77</td>\n",
       "    </tr>\n",
       "    <tr>\n",
       "      <th>3</th>\n",
       "      <td>0</td>\n",
       "      <td>0.129061</td>\n",
       "      <td>5573</td>\n",
       "      <td>0</td>\n",
       "      <td>1</td>\n",
       "      <td>1</td>\n",
       "      <td>0</td>\n",
       "      <td>0</td>\n",
       "      <td>0</td>\n",
       "      <td>0</td>\n",
       "      <td>0</td>\n",
       "      <td>0</td>\n",
       "      <td>0</td>\n",
       "      <td>0</td>\n",
       "      <td>0</td>\n",
       "      <td>13</td>\n",
       "    </tr>\n",
       "    <tr>\n",
       "      <th>4</th>\n",
       "      <td>0</td>\n",
       "      <td>0.013213</td>\n",
       "      <td>1109</td>\n",
       "      <td>0</td>\n",
       "      <td>1</td>\n",
       "      <td>0</td>\n",
       "      <td>0</td>\n",
       "      <td>0</td>\n",
       "      <td>0</td>\n",
       "      <td>0</td>\n",
       "      <td>0</td>\n",
       "      <td>0</td>\n",
       "      <td>0</td>\n",
       "      <td>0</td>\n",
       "      <td>0</td>\n",
       "      <td>1</td>\n",
       "    </tr>\n",
       "    <tr>\n",
       "      <th>5</th>\n",
       "      <td>0</td>\n",
       "      <td>0.030126</td>\n",
       "      <td>2282</td>\n",
       "      <td>0</td>\n",
       "      <td>1</td>\n",
       "      <td>0</td>\n",
       "      <td>0</td>\n",
       "      <td>0</td>\n",
       "      <td>0</td>\n",
       "      <td>0</td>\n",
       "      <td>0</td>\n",
       "      <td>0</td>\n",
       "      <td>0</td>\n",
       "      <td>0</td>\n",
       "      <td>0</td>\n",
       "      <td>3</td>\n",
       "    </tr>\n",
       "    <tr>\n",
       "      <th>6</th>\n",
       "      <td>1</td>\n",
       "      <td>0.869418</td>\n",
       "      <td>2976</td>\n",
       "      <td>1</td>\n",
       "      <td>1</td>\n",
       "      <td>1</td>\n",
       "      <td>1</td>\n",
       "      <td>1</td>\n",
       "      <td>1</td>\n",
       "      <td>1</td>\n",
       "      <td>1</td>\n",
       "      <td>1</td>\n",
       "      <td>1</td>\n",
       "      <td>0</td>\n",
       "      <td>1</td>\n",
       "      <td>87</td>\n",
       "    </tr>\n",
       "    <tr>\n",
       "      <th>7</th>\n",
       "      <td>0</td>\n",
       "      <td>0.460064</td>\n",
       "      <td>8431</td>\n",
       "      <td>0</td>\n",
       "      <td>1</td>\n",
       "      <td>1</td>\n",
       "      <td>1</td>\n",
       "      <td>1</td>\n",
       "      <td>1</td>\n",
       "      <td>0</td>\n",
       "      <td>0</td>\n",
       "      <td>0</td>\n",
       "      <td>0</td>\n",
       "      <td>0</td>\n",
       "      <td>1</td>\n",
       "      <td>46</td>\n",
       "    </tr>\n",
       "    <tr>\n",
       "      <th>8</th>\n",
       "      <td>1</td>\n",
       "      <td>0.739865</td>\n",
       "      <td>2770</td>\n",
       "      <td>1</td>\n",
       "      <td>1</td>\n",
       "      <td>1</td>\n",
       "      <td>1</td>\n",
       "      <td>1</td>\n",
       "      <td>1</td>\n",
       "      <td>1</td>\n",
       "      <td>1</td>\n",
       "      <td>1</td>\n",
       "      <td>0</td>\n",
       "      <td>0</td>\n",
       "      <td>1</td>\n",
       "      <td>74</td>\n",
       "    </tr>\n",
       "    <tr>\n",
       "      <th>9</th>\n",
       "      <td>1</td>\n",
       "      <td>0.995442</td>\n",
       "      <td>5790</td>\n",
       "      <td>1</td>\n",
       "      <td>1</td>\n",
       "      <td>1</td>\n",
       "      <td>1</td>\n",
       "      <td>1</td>\n",
       "      <td>1</td>\n",
       "      <td>1</td>\n",
       "      <td>1</td>\n",
       "      <td>1</td>\n",
       "      <td>1</td>\n",
       "      <td>1</td>\n",
       "      <td>1</td>\n",
       "      <td>100</td>\n",
       "    </tr>\n",
       "    <tr>\n",
       "      <th>10</th>\n",
       "      <td>1</td>\n",
       "      <td>0.958623</td>\n",
       "      <td>2943</td>\n",
       "      <td>1</td>\n",
       "      <td>1</td>\n",
       "      <td>1</td>\n",
       "      <td>1</td>\n",
       "      <td>1</td>\n",
       "      <td>1</td>\n",
       "      <td>1</td>\n",
       "      <td>1</td>\n",
       "      <td>1</td>\n",
       "      <td>1</td>\n",
       "      <td>1</td>\n",
       "      <td>1</td>\n",
       "      <td>96</td>\n",
       "    </tr>\n",
       "    <tr>\n",
       "      <th>11</th>\n",
       "      <td>0</td>\n",
       "      <td>0.263791</td>\n",
       "      <td>1196</td>\n",
       "      <td>0</td>\n",
       "      <td>1</td>\n",
       "      <td>1</td>\n",
       "      <td>1</td>\n",
       "      <td>0</td>\n",
       "      <td>0</td>\n",
       "      <td>0</td>\n",
       "      <td>0</td>\n",
       "      <td>0</td>\n",
       "      <td>0</td>\n",
       "      <td>0</td>\n",
       "      <td>0</td>\n",
       "      <td>26</td>\n",
       "    </tr>\n",
       "    <tr>\n",
       "      <th>12</th>\n",
       "      <td>1</td>\n",
       "      <td>0.522613</td>\n",
       "      <td>8874</td>\n",
       "      <td>1</td>\n",
       "      <td>1</td>\n",
       "      <td>1</td>\n",
       "      <td>1</td>\n",
       "      <td>1</td>\n",
       "      <td>1</td>\n",
       "      <td>1</td>\n",
       "      <td>0</td>\n",
       "      <td>0</td>\n",
       "      <td>0</td>\n",
       "      <td>0</td>\n",
       "      <td>1</td>\n",
       "      <td>52</td>\n",
       "    </tr>\n",
       "    <tr>\n",
       "      <th>13</th>\n",
       "      <td>0</td>\n",
       "      <td>0.139784</td>\n",
       "      <td>1491</td>\n",
       "      <td>0</td>\n",
       "      <td>1</td>\n",
       "      <td>1</td>\n",
       "      <td>0</td>\n",
       "      <td>0</td>\n",
       "      <td>0</td>\n",
       "      <td>0</td>\n",
       "      <td>0</td>\n",
       "      <td>0</td>\n",
       "      <td>0</td>\n",
       "      <td>0</td>\n",
       "      <td>0</td>\n",
       "      <td>14</td>\n",
       "    </tr>\n",
       "    <tr>\n",
       "      <th>14</th>\n",
       "      <td>0</td>\n",
       "      <td>0.099465</td>\n",
       "      <td>7676</td>\n",
       "      <td>0</td>\n",
       "      <td>1</td>\n",
       "      <td>0</td>\n",
       "      <td>0</td>\n",
       "      <td>0</td>\n",
       "      <td>0</td>\n",
       "      <td>0</td>\n",
       "      <td>0</td>\n",
       "      <td>0</td>\n",
       "      <td>0</td>\n",
       "      <td>0</td>\n",
       "      <td>0</td>\n",
       "      <td>10</td>\n",
       "    </tr>\n",
       "    <tr>\n",
       "      <th>15</th>\n",
       "      <td>1</td>\n",
       "      <td>0.425788</td>\n",
       "      <td>8750</td>\n",
       "      <td>0</td>\n",
       "      <td>1</td>\n",
       "      <td>1</td>\n",
       "      <td>1</td>\n",
       "      <td>1</td>\n",
       "      <td>1</td>\n",
       "      <td>0</td>\n",
       "      <td>0</td>\n",
       "      <td>0</td>\n",
       "      <td>0</td>\n",
       "      <td>0</td>\n",
       "      <td>1</td>\n",
       "      <td>43</td>\n",
       "    </tr>\n",
       "    <tr>\n",
       "      <th>16</th>\n",
       "      <td>1</td>\n",
       "      <td>0.830602</td>\n",
       "      <td>5049</td>\n",
       "      <td>1</td>\n",
       "      <td>1</td>\n",
       "      <td>1</td>\n",
       "      <td>1</td>\n",
       "      <td>1</td>\n",
       "      <td>1</td>\n",
       "      <td>1</td>\n",
       "      <td>1</td>\n",
       "      <td>1</td>\n",
       "      <td>1</td>\n",
       "      <td>0</td>\n",
       "      <td>1</td>\n",
       "      <td>83</td>\n",
       "    </tr>\n",
       "    <tr>\n",
       "      <th>17</th>\n",
       "      <td>0</td>\n",
       "      <td>0.653656</td>\n",
       "      <td>5691</td>\n",
       "      <td>1</td>\n",
       "      <td>1</td>\n",
       "      <td>1</td>\n",
       "      <td>1</td>\n",
       "      <td>1</td>\n",
       "      <td>1</td>\n",
       "      <td>1</td>\n",
       "      <td>1</td>\n",
       "      <td>0</td>\n",
       "      <td>0</td>\n",
       "      <td>0</td>\n",
       "      <td>1</td>\n",
       "      <td>65</td>\n",
       "    </tr>\n",
       "    <tr>\n",
       "      <th>18</th>\n",
       "      <td>1</td>\n",
       "      <td>0.348662</td>\n",
       "      <td>5773</td>\n",
       "      <td>0</td>\n",
       "      <td>1</td>\n",
       "      <td>1</td>\n",
       "      <td>1</td>\n",
       "      <td>1</td>\n",
       "      <td>0</td>\n",
       "      <td>0</td>\n",
       "      <td>0</td>\n",
       "      <td>0</td>\n",
       "      <td>0</td>\n",
       "      <td>0</td>\n",
       "      <td>0</td>\n",
       "      <td>35</td>\n",
       "    </tr>\n",
       "    <tr>\n",
       "      <th>19</th>\n",
       "      <td>0</td>\n",
       "      <td>0.031194</td>\n",
       "      <td>3906</td>\n",
       "      <td>0</td>\n",
       "      <td>1</td>\n",
       "      <td>0</td>\n",
       "      <td>0</td>\n",
       "      <td>0</td>\n",
       "      <td>0</td>\n",
       "      <td>0</td>\n",
       "      <td>0</td>\n",
       "      <td>0</td>\n",
       "      <td>0</td>\n",
       "      <td>0</td>\n",
       "      <td>0</td>\n",
       "      <td>3</td>\n",
       "    </tr>\n",
       "  </tbody>\n",
       "</table>\n",
       "</div>"
      ],
      "text/plain": [
       "    Converted  Converted_Prob  LeadId  predicted  0.0  0.1  0.2  0.3  0.4  \\\n",
       "0           0        0.701779    2240          1    1    1    1    1    1   \n",
       "1           0        0.591069     113          1    1    1    1    1    1   \n",
       "2           1        0.765682    4132          1    1    1    1    1    1   \n",
       "3           0        0.129061    5573          0    1    1    0    0    0   \n",
       "4           0        0.013213    1109          0    1    0    0    0    0   \n",
       "5           0        0.030126    2282          0    1    0    0    0    0   \n",
       "6           1        0.869418    2976          1    1    1    1    1    1   \n",
       "7           0        0.460064    8431          0    1    1    1    1    1   \n",
       "8           1        0.739865    2770          1    1    1    1    1    1   \n",
       "9           1        0.995442    5790          1    1    1    1    1    1   \n",
       "10          1        0.958623    2943          1    1    1    1    1    1   \n",
       "11          0        0.263791    1196          0    1    1    1    0    0   \n",
       "12          1        0.522613    8874          1    1    1    1    1    1   \n",
       "13          0        0.139784    1491          0    1    1    0    0    0   \n",
       "14          0        0.099465    7676          0    1    0    0    0    0   \n",
       "15          1        0.425788    8750          0    1    1    1    1    1   \n",
       "16          1        0.830602    5049          1    1    1    1    1    1   \n",
       "17          0        0.653656    5691          1    1    1    1    1    1   \n",
       "18          1        0.348662    5773          0    1    1    1    1    0   \n",
       "19          0        0.031194    3906          0    1    0    0    0    0   \n",
       "\n",
       "    0.5  0.6  0.7  0.8  0.9  final_predicted  lead_score  \n",
       "0     1    1    1    0    0                1          70  \n",
       "1     1    0    0    0    0                1          59  \n",
       "2     1    1    1    0    0                1          77  \n",
       "3     0    0    0    0    0                0          13  \n",
       "4     0    0    0    0    0                0           1  \n",
       "5     0    0    0    0    0                0           3  \n",
       "6     1    1    1    1    0                1          87  \n",
       "7     0    0    0    0    0                1          46  \n",
       "8     1    1    1    0    0                1          74  \n",
       "9     1    1    1    1    1                1         100  \n",
       "10    1    1    1    1    1                1          96  \n",
       "11    0    0    0    0    0                0          26  \n",
       "12    1    0    0    0    0                1          52  \n",
       "13    0    0    0    0    0                0          14  \n",
       "14    0    0    0    0    0                0          10  \n",
       "15    0    0    0    0    0                1          43  \n",
       "16    1    1    1    1    0                1          83  \n",
       "17    1    1    0    0    0                1          65  \n",
       "18    0    0    0    0    0                0          35  \n",
       "19    0    0    0    0    0                0           3  "
      ]
     },
     "execution_count": 123,
     "metadata": {},
     "output_type": "execute_result"
    }
   ],
   "source": [
    "# Now let us calculate the lead score\n",
    "\n",
    "y_train_pred_final['lead_score'] = y_train_pred_final.Converted_Prob.map(lambda x: round(x*100))\n",
    "y_train_pred_final.head(20)"
   ]
  },
  {
   "cell_type": "code",
   "execution_count": 124,
   "id": "b9601608",
   "metadata": {},
   "outputs": [
    {
     "data": {
      "text/plain": [
       "1    1975\n",
       "0     487\n",
       "Name: final_predicted, dtype: int64"
      ]
     },
     "execution_count": 124,
     "metadata": {},
     "output_type": "execute_result"
    }
   ],
   "source": [
    "# checking if 80% cases are correctly predicted based on the converted column.\n",
    "\n",
    "# get the total of final predicted conversion / non conversion counts from the actual converted rates\n",
    "\n",
    "checking_df = y_train_pred_final.loc[y_train_pred_final['Converted']==1,['Converted','final_predicted']]\n",
    "checking_df['final_predicted'].value_counts()"
   ]
  },
  {
   "cell_type": "code",
   "execution_count": 125,
   "id": "0102fbd4",
   "metadata": {},
   "outputs": [
    {
     "data": {
      "text/plain": [
       "0.8021933387489846"
      ]
     },
     "execution_count": 125,
     "metadata": {},
     "output_type": "execute_result"
    }
   ],
   "source": [
    "# check the precentage of final_predicted conversions\n",
    "\n",
    "1975/float(1975+487)"
   ]
  },
  {
   "cell_type": "markdown",
   "id": "91353f17",
   "metadata": {},
   "source": [
    "Finally, we can see that the final prediction of conversions have a target of 80% (0.8021%) conversion as per the X Educations CEO's requirement . Thus, this is a good model.\n",
    "\n",
    "We will recalculate the Overall Metrics - Accuracy, Confusion Metrics, Sensitivity, Specificity, False Postive Rate, Positive Predictive Value, Negative Predicitive Value on final prediction on train set"
   ]
  },
  {
   "cell_type": "code",
   "execution_count": 126,
   "id": "daf0021c",
   "metadata": {},
   "outputs": [
    {
     "data": {
      "text/plain": [
       "0.8136075949367089"
      ]
     },
     "execution_count": 126,
     "metadata": {},
     "output_type": "execute_result"
    }
   ],
   "source": [
    "# Let's check the overall accuracy.\n",
    "metrics.accuracy_score(y_train_pred_final.Converted, y_train_pred_final.final_predicted)"
   ]
  },
  {
   "cell_type": "code",
   "execution_count": 127,
   "id": "4924f3a7",
   "metadata": {},
   "outputs": [
    {
     "data": {
      "text/plain": [
       "array([[3167,  691],\n",
       "       [ 487, 1975]], dtype=int64)"
      ]
     },
     "execution_count": 127,
     "metadata": {},
     "output_type": "execute_result"
    }
   ],
   "source": [
    "confusion2 = metrics.confusion_matrix(y_train_pred_final.Converted, y_train_pred_final.final_predicted )\n",
    "confusion2"
   ]
  },
  {
   "cell_type": "code",
   "execution_count": 128,
   "id": "161bdaa4",
   "metadata": {},
   "outputs": [],
   "source": [
    "TP = confusion2[1,1] # true positive \n",
    "TN = confusion2[0,0] # true negatives\n",
    "FP = confusion2[0,1] # false positives\n",
    "FN = confusion2[1,0] # false negatives"
   ]
  },
  {
   "cell_type": "code",
   "execution_count": 129,
   "id": "6d0a4916",
   "metadata": {},
   "outputs": [
    {
     "data": {
      "text/plain": [
       "0.8021933387489846"
      ]
     },
     "execution_count": 129,
     "metadata": {},
     "output_type": "execute_result"
    }
   ],
   "source": [
    "# Let's see the sensitivity of our logistic regression model\n",
    "TP / float(TP+FN)"
   ]
  },
  {
   "cell_type": "code",
   "execution_count": 130,
   "id": "98573f3d",
   "metadata": {},
   "outputs": [
    {
     "data": {
      "text/plain": [
       "0.8208916537065837"
      ]
     },
     "execution_count": 130,
     "metadata": {},
     "output_type": "execute_result"
    }
   ],
   "source": [
    "# Let us calculate specificity\n",
    "TN / float(TN+FP)"
   ]
  },
  {
   "cell_type": "code",
   "execution_count": 131,
   "id": "d637e2c1",
   "metadata": {},
   "outputs": [
    {
     "name": "stdout",
     "output_type": "stream",
     "text": [
      "0.17910834629341627\n"
     ]
    }
   ],
   "source": [
    "# Calculate false postive rate - predicting conversions when leads has not converted\n",
    "print(FP/ float(TN+FP))"
   ]
  },
  {
   "cell_type": "code",
   "execution_count": 132,
   "id": "415c6b64",
   "metadata": {},
   "outputs": [
    {
     "name": "stdout",
     "output_type": "stream",
     "text": [
      "0.7408102025506377\n"
     ]
    }
   ],
   "source": [
    "# Positive predictive value \n",
    "print (TP / float(TP+FP))"
   ]
  },
  {
   "cell_type": "code",
   "execution_count": 133,
   "id": "5600024a",
   "metadata": {},
   "outputs": [
    {
     "name": "stdout",
     "output_type": "stream",
     "text": [
      "0.8667214012041599\n"
     ]
    }
   ],
   "source": [
    "# Negative predictive value\n",
    "print (TN / float(TN+ FN))"
   ]
  },
  {
   "cell_type": "markdown",
   "id": "8415eec6",
   "metadata": {},
   "source": [
    "### Precision and Recall"
   ]
  },
  {
   "cell_type": "code",
   "execution_count": 135,
   "id": "b54371e4",
   "metadata": {},
   "outputs": [
    {
     "data": {
      "text/plain": [
       "array([[3413,  445],\n",
       "       [ 708, 1754]], dtype=int64)"
      ]
     },
     "execution_count": 135,
     "metadata": {},
     "output_type": "execute_result"
    }
   ],
   "source": [
    "#Looking at the confusion matrix again\n",
    "confusion = metrics.confusion_matrix(y_train_pred_final.Converted, y_train_pred_final.predicted )\n",
    "confusion"
   ]
  },
  {
   "cell_type": "markdown",
   "id": "a5ab37d8",
   "metadata": {},
   "source": [
    "#### Precision\n",
    "TP / TP + FP"
   ]
  },
  {
   "cell_type": "code",
   "execution_count": 138,
   "id": "935f1d24",
   "metadata": {},
   "outputs": [
    {
     "data": {
      "text/plain": [
       "0.7976352887676217"
      ]
     },
     "execution_count": 138,
     "metadata": {},
     "output_type": "execute_result"
    }
   ],
   "source": [
    "precision_score(y_train_pred_final.Converted, y_train_pred_final.predicted)"
   ]
  },
  {
   "cell_type": "markdown",
   "id": "431ede21",
   "metadata": {},
   "source": [
    "#### Recall\n",
    "TP / TP + FN"
   ]
  },
  {
   "cell_type": "code",
   "execution_count": 139,
   "id": "1c4619da",
   "metadata": {},
   "outputs": [
    {
     "data": {
      "text/plain": [
       "0.7124289195775793"
      ]
     },
     "execution_count": 139,
     "metadata": {},
     "output_type": "execute_result"
    }
   ],
   "source": [
    "recall_score(y_train_pred_final.Converted, y_train_pred_final.predicted)"
   ]
  },
  {
   "cell_type": "markdown",
   "id": "ae8911b6",
   "metadata": {},
   "source": [
    "### Precision and recall tradeoff"
   ]
  },
  {
   "cell_type": "code",
   "execution_count": 140,
   "id": "3c6539bd",
   "metadata": {},
   "outputs": [
    {
     "data": {
      "text/plain": [
       "(0       0\n",
       " 1       0\n",
       " 2       1\n",
       " 3       0\n",
       " 4       0\n",
       "        ..\n",
       " 6315    1\n",
       " 6316    1\n",
       " 6317    0\n",
       " 6318    0\n",
       " 6319    0\n",
       " Name: Converted, Length: 6320, dtype: int64,\n",
       " 0       1\n",
       " 1       1\n",
       " 2       1\n",
       " 3       0\n",
       " 4       0\n",
       "        ..\n",
       " 6315    0\n",
       " 6316    1\n",
       " 6317    0\n",
       " 6318    0\n",
       " 6319    0\n",
       " Name: predicted, Length: 6320, dtype: int64)"
      ]
     },
     "execution_count": 140,
     "metadata": {},
     "output_type": "execute_result"
    }
   ],
   "source": [
    "y_train_pred_final.Converted, y_train_pred_final.predicted"
   ]
  },
  {
   "cell_type": "code",
   "execution_count": 141,
   "id": "7edfeaa4",
   "metadata": {},
   "outputs": [],
   "source": [
    "p, r, thresholds = precision_recall_curve(y_train_pred_final.Converted, y_train_pred_final.Converted_Prob)"
   ]
  },
  {
   "cell_type": "code",
   "execution_count": 142,
   "id": "c3f0e778",
   "metadata": {},
   "outputs": [
    {
     "data": {
      "image/png": "[encoded data removed]",
      "text/plain": [
       "<Figure size 640x480 with 1 Axes>"
      ]
     },
     "metadata": {},
     "output_type": "display_data"
    }
   ],
   "source": [
    "plt.plot(thresholds, p[:-1], \"g-\")\n",
    "plt.plot(thresholds, r[:-1], \"r-\")\n",
    "plt.show()"
   ]
  },
  {
   "cell_type": "markdown",
   "id": "ba6dbc9c",
   "metadata": {},
   "source": [
    "### 11. Making predictions on the test set"
   ]
  },
  {
   "cell_type": "code",
   "execution_count": 143,
   "id": "cd302eb6",
   "metadata": {},
   "outputs": [],
   "source": [
    "X_test[['TotalVisits','Total Time Spent on Website','Page Views Per Visit']] = scaler.transform(X_test[['TotalVisits',\n",
    "                                                                        'Total Time Spent on Website','Page Views Per Visit']])"
   ]
  },
  {
   "cell_type": "code",
   "execution_count": 144,
   "id": "ed86a51a",
   "metadata": {},
   "outputs": [
    {
     "data": {
      "text/html": [
       "<div>\n",
       "<style scoped>\n",
       "    .dataframe tbody tr th:only-of-type {\n",
       "        vertical-align: middle;\n",
       "    }\n",
       "\n",
       "    .dataframe tbody tr th {\n",
       "        vertical-align: top;\n",
       "    }\n",
       "\n",
       "    .dataframe thead th {\n",
       "        text-align: right;\n",
       "    }\n",
       "</style>\n",
       "<table border=\"1\" class=\"dataframe\">\n",
       "  <thead>\n",
       "    <tr style=\"text-align: right;\">\n",
       "      <th></th>\n",
       "      <th>Do Not Email</th>\n",
       "      <th>TotalVisits</th>\n",
       "      <th>Total Time Spent on Website</th>\n",
       "      <th>LeadOrigin_Lead Add Form</th>\n",
       "      <th>LeadSource_Olark Chat</th>\n",
       "      <th>LeadSource_Welingak Website</th>\n",
       "      <th>LastActivity_Email Opened</th>\n",
       "      <th>LastActivity_Olark Chat Conversation</th>\n",
       "      <th>LastActivity_SMS Sent</th>\n",
       "      <th>CurrentOccupation_No Information</th>\n",
       "      <th>CurrentOccupation_Working Professional</th>\n",
       "      <th>LastNotableActivity_Had a Phone Conversation</th>\n",
       "      <th>LastNotableActivity_Modified</th>\n",
       "      <th>LastNotableActivity_Unreachable</th>\n",
       "    </tr>\n",
       "  </thead>\n",
       "  <tbody>\n",
       "    <tr>\n",
       "      <th>2296</th>\n",
       "      <td>0</td>\n",
       "      <td>0.1875</td>\n",
       "      <td>0.665313</td>\n",
       "      <td>0</td>\n",
       "      <td>0</td>\n",
       "      <td>0</td>\n",
       "      <td>0</td>\n",
       "      <td>0</td>\n",
       "      <td>1</td>\n",
       "      <td>0</td>\n",
       "      <td>0</td>\n",
       "      <td>0</td>\n",
       "      <td>0</td>\n",
       "      <td>0</td>\n",
       "    </tr>\n",
       "    <tr>\n",
       "      <th>8697</th>\n",
       "      <td>0</td>\n",
       "      <td>0.4375</td>\n",
       "      <td>0.184032</td>\n",
       "      <td>0</td>\n",
       "      <td>0</td>\n",
       "      <td>0</td>\n",
       "      <td>0</td>\n",
       "      <td>0</td>\n",
       "      <td>1</td>\n",
       "      <td>0</td>\n",
       "      <td>0</td>\n",
       "      <td>0</td>\n",
       "      <td>0</td>\n",
       "      <td>0</td>\n",
       "    </tr>\n",
       "    <tr>\n",
       "      <th>7378</th>\n",
       "      <td>0</td>\n",
       "      <td>0.1250</td>\n",
       "      <td>0.163284</td>\n",
       "      <td>0</td>\n",
       "      <td>0</td>\n",
       "      <td>0</td>\n",
       "      <td>1</td>\n",
       "      <td>0</td>\n",
       "      <td>0</td>\n",
       "      <td>0</td>\n",
       "      <td>0</td>\n",
       "      <td>0</td>\n",
       "      <td>0</td>\n",
       "      <td>0</td>\n",
       "    </tr>\n",
       "    <tr>\n",
       "      <th>8631</th>\n",
       "      <td>0</td>\n",
       "      <td>0.3125</td>\n",
       "      <td>0.407307</td>\n",
       "      <td>0</td>\n",
       "      <td>0</td>\n",
       "      <td>0</td>\n",
       "      <td>0</td>\n",
       "      <td>0</td>\n",
       "      <td>1</td>\n",
       "      <td>0</td>\n",
       "      <td>0</td>\n",
       "      <td>0</td>\n",
       "      <td>1</td>\n",
       "      <td>0</td>\n",
       "    </tr>\n",
       "    <tr>\n",
       "      <th>4799</th>\n",
       "      <td>0</td>\n",
       "      <td>0.5000</td>\n",
       "      <td>0.744700</td>\n",
       "      <td>0</td>\n",
       "      <td>0</td>\n",
       "      <td>0</td>\n",
       "      <td>0</td>\n",
       "      <td>0</td>\n",
       "      <td>1</td>\n",
       "      <td>0</td>\n",
       "      <td>0</td>\n",
       "      <td>0</td>\n",
       "      <td>0</td>\n",
       "      <td>0</td>\n",
       "    </tr>\n",
       "  </tbody>\n",
       "</table>\n",
       "</div>"
      ],
      "text/plain": [
       "      Do Not Email  TotalVisits  Total Time Spent on Website  \\\n",
       "2296             0       0.1875                     0.665313   \n",
       "8697             0       0.4375                     0.184032   \n",
       "7378             0       0.1250                     0.163284   \n",
       "8631             0       0.3125                     0.407307   \n",
       "4799             0       0.5000                     0.744700   \n",
       "\n",
       "      LeadOrigin_Lead Add Form  LeadSource_Olark Chat  \\\n",
       "2296                         0                      0   \n",
       "8697                         0                      0   \n",
       "7378                         0                      0   \n",
       "8631                         0                      0   \n",
       "4799                         0                      0   \n",
       "\n",
       "      LeadSource_Welingak Website  LastActivity_Email Opened  \\\n",
       "2296                            0                          0   \n",
       "8697                            0                          0   \n",
       "7378                            0                          1   \n",
       "8631                            0                          0   \n",
       "4799                            0                          0   \n",
       "\n",
       "      LastActivity_Olark Chat Conversation  LastActivity_SMS Sent  \\\n",
       "2296                                     0                      1   \n",
       "8697                                     0                      1   \n",
       "7378                                     0                      0   \n",
       "8631                                     0                      1   \n",
       "4799                                     0                      1   \n",
       "\n",
       "      CurrentOccupation_No Information  \\\n",
       "2296                                 0   \n",
       "8697                                 0   \n",
       "7378                                 0   \n",
       "8631                                 0   \n",
       "4799                                 0   \n",
       "\n",
       "      CurrentOccupation_Working Professional  \\\n",
       "2296                                       0   \n",
       "8697                                       0   \n",
       "7378                                       0   \n",
       "8631                                       0   \n",
       "4799                                       0   \n",
       "\n",
       "      LastNotableActivity_Had a Phone Conversation  \\\n",
       "2296                                             0   \n",
       "8697                                             0   \n",
       "7378                                             0   \n",
       "8631                                             0   \n",
       "4799                                             0   \n",
       "\n",
       "      LastNotableActivity_Modified  LastNotableActivity_Unreachable  \n",
       "2296                             0                                0  \n",
       "8697                             0                                0  \n",
       "7378                             0                                0  \n",
       "8631                             1                                0  \n",
       "4799                             0                                0  "
      ]
     },
     "execution_count": 144,
     "metadata": {},
     "output_type": "execute_result"
    }
   ],
   "source": [
    "X_test = X_test[col]\n",
    "X_test.head()"
   ]
  },
  {
   "cell_type": "code",
   "execution_count": 145,
   "id": "54e9e56e",
   "metadata": {},
   "outputs": [],
   "source": [
    "X_test_sm = sm.add_constant(X_test)"
   ]
  },
  {
   "cell_type": "markdown",
   "id": "a8e9c900",
   "metadata": {},
   "source": [
    "Making predictions on the test set"
   ]
  },
  {
   "cell_type": "code",
   "execution_count": 146,
   "id": "6c716202",
   "metadata": {},
   "outputs": [],
   "source": [
    "y_test_pred = res.predict(X_test_sm)"
   ]
  },
  {
   "cell_type": "code",
   "execution_count": 147,
   "id": "4d49900e",
   "metadata": {},
   "outputs": [
    {
     "data": {
      "text/plain": [
       "2296    0.901868\n",
       "8697    0.587969\n",
       "7378    0.213572\n",
       "8631    0.660152\n",
       "4799    0.950680\n",
       "4503    0.354912\n",
       "7129    0.872954\n",
       "1717    0.144281\n",
       "8398    0.867851\n",
       "5116    0.251214\n",
       "dtype: float64"
      ]
     },
     "execution_count": 147,
     "metadata": {},
     "output_type": "execute_result"
    }
   ],
   "source": [
    "y_test_pred[:10]"
   ]
  },
  {
   "cell_type": "code",
   "execution_count": 148,
   "id": "70d543a9",
   "metadata": {},
   "outputs": [],
   "source": [
    "# Converting y_pred to a dataframe which is an array\n",
    "y_pred_1 = pd.DataFrame(y_test_pred)"
   ]
  },
  {
   "cell_type": "code",
   "execution_count": 149,
   "id": "a01df7c1",
   "metadata": {},
   "outputs": [
    {
     "data": {
      "text/html": [
       "<div>\n",
       "<style scoped>\n",
       "    .dataframe tbody tr th:only-of-type {\n",
       "        vertical-align: middle;\n",
       "    }\n",
       "\n",
       "    .dataframe tbody tr th {\n",
       "        vertical-align: top;\n",
       "    }\n",
       "\n",
       "    .dataframe thead th {\n",
       "        text-align: right;\n",
       "    }\n",
       "</style>\n",
       "<table border=\"1\" class=\"dataframe\">\n",
       "  <thead>\n",
       "    <tr style=\"text-align: right;\">\n",
       "      <th></th>\n",
       "      <th>0</th>\n",
       "    </tr>\n",
       "  </thead>\n",
       "  <tbody>\n",
       "    <tr>\n",
       "      <th>2296</th>\n",
       "      <td>0.901868</td>\n",
       "    </tr>\n",
       "    <tr>\n",
       "      <th>8697</th>\n",
       "      <td>0.587969</td>\n",
       "    </tr>\n",
       "    <tr>\n",
       "      <th>7378</th>\n",
       "      <td>0.213572</td>\n",
       "    </tr>\n",
       "    <tr>\n",
       "      <th>8631</th>\n",
       "      <td>0.660152</td>\n",
       "    </tr>\n",
       "    <tr>\n",
       "      <th>4799</th>\n",
       "      <td>0.950680</td>\n",
       "    </tr>\n",
       "  </tbody>\n",
       "</table>\n",
       "</div>"
      ],
      "text/plain": [
       "             0\n",
       "2296  0.901868\n",
       "8697  0.587969\n",
       "7378  0.213572\n",
       "8631  0.660152\n",
       "4799  0.950680"
      ]
     },
     "execution_count": 149,
     "metadata": {},
     "output_type": "execute_result"
    }
   ],
   "source": [
    "# Let's see the head\n",
    "y_pred_1.head()"
   ]
  },
  {
   "cell_type": "code",
   "execution_count": 150,
   "id": "680f689f",
   "metadata": {},
   "outputs": [],
   "source": [
    "# Converting y_test to dataframe\n",
    "y_test_df = pd.DataFrame(y_test)"
   ]
  },
  {
   "cell_type": "code",
   "execution_count": 151,
   "id": "377f1e47",
   "metadata": {},
   "outputs": [],
   "source": [
    "# Putting LeadId to index\n",
    "y_test_df['LeadId'] = y_test_df.index"
   ]
  },
  {
   "cell_type": "code",
   "execution_count": 152,
   "id": "72e344b1",
   "metadata": {},
   "outputs": [],
   "source": [
    "# Removing index for both dataframes to append them side by side \n",
    "y_pred_1.reset_index(drop=True, inplace=True)\n",
    "y_test_df.reset_index(drop=True, inplace=True)"
   ]
  },
  {
   "cell_type": "code",
   "execution_count": 153,
   "id": "2918ba1a",
   "metadata": {},
   "outputs": [],
   "source": [
    "# Appending y_test_df and y_pred_1\n",
    "y_pred_final = pd.concat([y_test_df, y_pred_1],axis=1)"
   ]
  },
  {
   "cell_type": "code",
   "execution_count": 154,
   "id": "6ac044f5",
   "metadata": {},
   "outputs": [
    {
     "data": {
      "text/html": [
       "<div>\n",
       "<style scoped>\n",
       "    .dataframe tbody tr th:only-of-type {\n",
       "        vertical-align: middle;\n",
       "    }\n",
       "\n",
       "    .dataframe tbody tr th {\n",
       "        vertical-align: top;\n",
       "    }\n",
       "\n",
       "    .dataframe thead th {\n",
       "        text-align: right;\n",
       "    }\n",
       "</style>\n",
       "<table border=\"1\" class=\"dataframe\">\n",
       "  <thead>\n",
       "    <tr style=\"text-align: right;\">\n",
       "      <th></th>\n",
       "      <th>Converted</th>\n",
       "      <th>LeadId</th>\n",
       "      <th>0</th>\n",
       "    </tr>\n",
       "  </thead>\n",
       "  <tbody>\n",
       "    <tr>\n",
       "      <th>0</th>\n",
       "      <td>1</td>\n",
       "      <td>2296</td>\n",
       "      <td>0.901868</td>\n",
       "    </tr>\n",
       "    <tr>\n",
       "      <th>1</th>\n",
       "      <td>0</td>\n",
       "      <td>8697</td>\n",
       "      <td>0.587969</td>\n",
       "    </tr>\n",
       "    <tr>\n",
       "      <th>2</th>\n",
       "      <td>0</td>\n",
       "      <td>7378</td>\n",
       "      <td>0.213572</td>\n",
       "    </tr>\n",
       "    <tr>\n",
       "      <th>3</th>\n",
       "      <td>0</td>\n",
       "      <td>8631</td>\n",
       "      <td>0.660152</td>\n",
       "    </tr>\n",
       "    <tr>\n",
       "      <th>4</th>\n",
       "      <td>1</td>\n",
       "      <td>4799</td>\n",
       "      <td>0.950680</td>\n",
       "    </tr>\n",
       "  </tbody>\n",
       "</table>\n",
       "</div>"
      ],
      "text/plain": [
       "   Converted  LeadId         0\n",
       "0          1    2296  0.901868\n",
       "1          0    8697  0.587969\n",
       "2          0    7378  0.213572\n",
       "3          0    8631  0.660152\n",
       "4          1    4799  0.950680"
      ]
     },
     "execution_count": 154,
     "metadata": {},
     "output_type": "execute_result"
    }
   ],
   "source": [
    "y_pred_final.head()"
   ]
  },
  {
   "cell_type": "code",
   "execution_count": 155,
   "id": "13a451a7",
   "metadata": {},
   "outputs": [],
   "source": [
    "# Renaming the column \n",
    "y_pred_final= y_pred_final.rename(columns={ 0 : 'Converted_Prob'})"
   ]
  },
  {
   "cell_type": "code",
   "execution_count": 158,
   "id": "94443197",
   "metadata": {},
   "outputs": [],
   "source": [
    "#Rearranging the columns\n",
    "y_pred_final = y_pred_final.reindex(['LeadId','Converted','Converted_Prob'], axis=1)"
   ]
  },
  {
   "cell_type": "code",
   "execution_count": 159,
   "id": "5dee8334",
   "metadata": {},
   "outputs": [
    {
     "data": {
      "text/html": [
       "<div>\n",
       "<style scoped>\n",
       "    .dataframe tbody tr th:only-of-type {\n",
       "        vertical-align: middle;\n",
       "    }\n",
       "\n",
       "    .dataframe tbody tr th {\n",
       "        vertical-align: top;\n",
       "    }\n",
       "\n",
       "    .dataframe thead th {\n",
       "        text-align: right;\n",
       "    }\n",
       "</style>\n",
       "<table border=\"1\" class=\"dataframe\">\n",
       "  <thead>\n",
       "    <tr style=\"text-align: right;\">\n",
       "      <th></th>\n",
       "      <th>LeadId</th>\n",
       "      <th>Converted</th>\n",
       "      <th>Converted_Prob</th>\n",
       "    </tr>\n",
       "  </thead>\n",
       "  <tbody>\n",
       "    <tr>\n",
       "      <th>0</th>\n",
       "      <td>2296</td>\n",
       "      <td>1</td>\n",
       "      <td>0.901868</td>\n",
       "    </tr>\n",
       "    <tr>\n",
       "      <th>1</th>\n",
       "      <td>8697</td>\n",
       "      <td>0</td>\n",
       "      <td>0.587969</td>\n",
       "    </tr>\n",
       "    <tr>\n",
       "      <th>2</th>\n",
       "      <td>7378</td>\n",
       "      <td>0</td>\n",
       "      <td>0.213572</td>\n",
       "    </tr>\n",
       "    <tr>\n",
       "      <th>3</th>\n",
       "      <td>8631</td>\n",
       "      <td>0</td>\n",
       "      <td>0.660152</td>\n",
       "    </tr>\n",
       "    <tr>\n",
       "      <th>4</th>\n",
       "      <td>4799</td>\n",
       "      <td>1</td>\n",
       "      <td>0.950680</td>\n",
       "    </tr>\n",
       "  </tbody>\n",
       "</table>\n",
       "</div>"
      ],
      "text/plain": [
       "   LeadId  Converted  Converted_Prob\n",
       "0    2296          1        0.901868\n",
       "1    8697          0        0.587969\n",
       "2    7378          0        0.213572\n",
       "3    8631          0        0.660152\n",
       "4    4799          1        0.950680"
      ]
     },
     "execution_count": 159,
     "metadata": {},
     "output_type": "execute_result"
    }
   ],
   "source": [
    "# Let's see the head of y_pred_final\n",
    "y_pred_final.head()"
   ]
  },
  {
   "cell_type": "code",
   "execution_count": 160,
   "id": "7ee2b40e",
   "metadata": {},
   "outputs": [],
   "source": [
    "# Based on cut off threshold using accuracy, sensitivity and specificity of 0.37%\n",
    "\n",
    "y_pred_final['final_predicted'] = y_pred_final.Converted_Prob.map(lambda x: 1 if x > 0.37 else 0)"
   ]
  },
  {
   "cell_type": "code",
   "execution_count": 161,
   "id": "2eb0deee",
   "metadata": {},
   "outputs": [
    {
     "data": {
      "text/html": [
       "<div>\n",
       "<style scoped>\n",
       "    .dataframe tbody tr th:only-of-type {\n",
       "        vertical-align: middle;\n",
       "    }\n",
       "\n",
       "    .dataframe tbody tr th {\n",
       "        vertical-align: top;\n",
       "    }\n",
       "\n",
       "    .dataframe thead th {\n",
       "        text-align: right;\n",
       "    }\n",
       "</style>\n",
       "<table border=\"1\" class=\"dataframe\">\n",
       "  <thead>\n",
       "    <tr style=\"text-align: right;\">\n",
       "      <th></th>\n",
       "      <th>LeadId</th>\n",
       "      <th>Converted</th>\n",
       "      <th>Converted_Prob</th>\n",
       "      <th>final_predicted</th>\n",
       "    </tr>\n",
       "  </thead>\n",
       "  <tbody>\n",
       "    <tr>\n",
       "      <th>0</th>\n",
       "      <td>2296</td>\n",
       "      <td>1</td>\n",
       "      <td>0.901868</td>\n",
       "      <td>1</td>\n",
       "    </tr>\n",
       "    <tr>\n",
       "      <th>1</th>\n",
       "      <td>8697</td>\n",
       "      <td>0</td>\n",
       "      <td>0.587969</td>\n",
       "      <td>1</td>\n",
       "    </tr>\n",
       "    <tr>\n",
       "      <th>2</th>\n",
       "      <td>7378</td>\n",
       "      <td>0</td>\n",
       "      <td>0.213572</td>\n",
       "      <td>0</td>\n",
       "    </tr>\n",
       "    <tr>\n",
       "      <th>3</th>\n",
       "      <td>8631</td>\n",
       "      <td>0</td>\n",
       "      <td>0.660152</td>\n",
       "      <td>1</td>\n",
       "    </tr>\n",
       "    <tr>\n",
       "      <th>4</th>\n",
       "      <td>4799</td>\n",
       "      <td>1</td>\n",
       "      <td>0.950680</td>\n",
       "      <td>1</td>\n",
       "    </tr>\n",
       "  </tbody>\n",
       "</table>\n",
       "</div>"
      ],
      "text/plain": [
       "   LeadId  Converted  Converted_Prob  final_predicted\n",
       "0    2296          1        0.901868                1\n",
       "1    8697          0        0.587969                1\n",
       "2    7378          0        0.213572                0\n",
       "3    8631          0        0.660152                1\n",
       "4    4799          1        0.950680                1"
      ]
     },
     "execution_count": 161,
     "metadata": {},
     "output_type": "execute_result"
    }
   ],
   "source": [
    "y_pred_final.head()"
   ]
  },
  {
   "cell_type": "code",
   "execution_count": 162,
   "id": "33388648",
   "metadata": {},
   "outputs": [
    {
     "data": {
      "text/html": [
       "<div>\n",
       "<style scoped>\n",
       "    .dataframe tbody tr th:only-of-type {\n",
       "        vertical-align: middle;\n",
       "    }\n",
       "\n",
       "    .dataframe tbody tr th {\n",
       "        vertical-align: top;\n",
       "    }\n",
       "\n",
       "    .dataframe thead th {\n",
       "        text-align: right;\n",
       "    }\n",
       "</style>\n",
       "<table border=\"1\" class=\"dataframe\">\n",
       "  <thead>\n",
       "    <tr style=\"text-align: right;\">\n",
       "      <th></th>\n",
       "      <th>LeadId</th>\n",
       "      <th>Converted</th>\n",
       "      <th>Converted_Prob</th>\n",
       "      <th>final_predicted</th>\n",
       "      <th>lead_score</th>\n",
       "    </tr>\n",
       "  </thead>\n",
       "  <tbody>\n",
       "    <tr>\n",
       "      <th>0</th>\n",
       "      <td>2296</td>\n",
       "      <td>1</td>\n",
       "      <td>0.901868</td>\n",
       "      <td>1</td>\n",
       "      <td>90</td>\n",
       "    </tr>\n",
       "    <tr>\n",
       "      <th>1</th>\n",
       "      <td>8697</td>\n",
       "      <td>0</td>\n",
       "      <td>0.587969</td>\n",
       "      <td>1</td>\n",
       "      <td>59</td>\n",
       "    </tr>\n",
       "    <tr>\n",
       "      <th>2</th>\n",
       "      <td>7378</td>\n",
       "      <td>0</td>\n",
       "      <td>0.213572</td>\n",
       "      <td>0</td>\n",
       "      <td>21</td>\n",
       "    </tr>\n",
       "    <tr>\n",
       "      <th>3</th>\n",
       "      <td>8631</td>\n",
       "      <td>0</td>\n",
       "      <td>0.660152</td>\n",
       "      <td>1</td>\n",
       "      <td>66</td>\n",
       "    </tr>\n",
       "    <tr>\n",
       "      <th>4</th>\n",
       "      <td>4799</td>\n",
       "      <td>1</td>\n",
       "      <td>0.950680</td>\n",
       "      <td>1</td>\n",
       "      <td>95</td>\n",
       "    </tr>\n",
       "    <tr>\n",
       "      <th>5</th>\n",
       "      <td>4503</td>\n",
       "      <td>0</td>\n",
       "      <td>0.354912</td>\n",
       "      <td>0</td>\n",
       "      <td>35</td>\n",
       "    </tr>\n",
       "    <tr>\n",
       "      <th>6</th>\n",
       "      <td>7129</td>\n",
       "      <td>0</td>\n",
       "      <td>0.872954</td>\n",
       "      <td>1</td>\n",
       "      <td>87</td>\n",
       "    </tr>\n",
       "    <tr>\n",
       "      <th>7</th>\n",
       "      <td>1717</td>\n",
       "      <td>0</td>\n",
       "      <td>0.144281</td>\n",
       "      <td>0</td>\n",
       "      <td>14</td>\n",
       "    </tr>\n",
       "    <tr>\n",
       "      <th>8</th>\n",
       "      <td>8398</td>\n",
       "      <td>0</td>\n",
       "      <td>0.867851</td>\n",
       "      <td>1</td>\n",
       "      <td>87</td>\n",
       "    </tr>\n",
       "    <tr>\n",
       "      <th>9</th>\n",
       "      <td>5116</td>\n",
       "      <td>1</td>\n",
       "      <td>0.251214</td>\n",
       "      <td>0</td>\n",
       "      <td>25</td>\n",
       "    </tr>\n",
       "    <tr>\n",
       "      <th>10</th>\n",
       "      <td>1838</td>\n",
       "      <td>0</td>\n",
       "      <td>0.185587</td>\n",
       "      <td>0</td>\n",
       "      <td>19</td>\n",
       "    </tr>\n",
       "    <tr>\n",
       "      <th>11</th>\n",
       "      <td>5057</td>\n",
       "      <td>1</td>\n",
       "      <td>0.426794</td>\n",
       "      <td>1</td>\n",
       "      <td>43</td>\n",
       "    </tr>\n",
       "    <tr>\n",
       "      <th>12</th>\n",
       "      <td>7015</td>\n",
       "      <td>0</td>\n",
       "      <td>0.009971</td>\n",
       "      <td>0</td>\n",
       "      <td>1</td>\n",
       "    </tr>\n",
       "    <tr>\n",
       "      <th>13</th>\n",
       "      <td>6352</td>\n",
       "      <td>0</td>\n",
       "      <td>0.164026</td>\n",
       "      <td>0</td>\n",
       "      <td>16</td>\n",
       "    </tr>\n",
       "    <tr>\n",
       "      <th>14</th>\n",
       "      <td>575</td>\n",
       "      <td>0</td>\n",
       "      <td>0.099465</td>\n",
       "      <td>0</td>\n",
       "      <td>10</td>\n",
       "    </tr>\n",
       "    <tr>\n",
       "      <th>15</th>\n",
       "      <td>4597</td>\n",
       "      <td>1</td>\n",
       "      <td>0.153172</td>\n",
       "      <td>0</td>\n",
       "      <td>15</td>\n",
       "    </tr>\n",
       "    <tr>\n",
       "      <th>16</th>\n",
       "      <td>8355</td>\n",
       "      <td>0</td>\n",
       "      <td>0.555522</td>\n",
       "      <td>1</td>\n",
       "      <td>56</td>\n",
       "    </tr>\n",
       "    <tr>\n",
       "      <th>17</th>\n",
       "      <td>8574</td>\n",
       "      <td>1</td>\n",
       "      <td>0.508749</td>\n",
       "      <td>1</td>\n",
       "      <td>51</td>\n",
       "    </tr>\n",
       "    <tr>\n",
       "      <th>18</th>\n",
       "      <td>4207</td>\n",
       "      <td>0</td>\n",
       "      <td>0.018935</td>\n",
       "      <td>0</td>\n",
       "      <td>2</td>\n",
       "    </tr>\n",
       "    <tr>\n",
       "      <th>19</th>\n",
       "      <td>4420</td>\n",
       "      <td>1</td>\n",
       "      <td>0.818141</td>\n",
       "      <td>1</td>\n",
       "      <td>82</td>\n",
       "    </tr>\n",
       "  </tbody>\n",
       "</table>\n",
       "</div>"
      ],
      "text/plain": [
       "    LeadId  Converted  Converted_Prob  final_predicted  lead_score\n",
       "0     2296          1        0.901868                1          90\n",
       "1     8697          0        0.587969                1          59\n",
       "2     7378          0        0.213572                0          21\n",
       "3     8631          0        0.660152                1          66\n",
       "4     4799          1        0.950680                1          95\n",
       "5     4503          0        0.354912                0          35\n",
       "6     7129          0        0.872954                1          87\n",
       "7     1717          0        0.144281                0          14\n",
       "8     8398          0        0.867851                1          87\n",
       "9     5116          1        0.251214                0          25\n",
       "10    1838          0        0.185587                0          19\n",
       "11    5057          1        0.426794                1          43\n",
       "12    7015          0        0.009971                0           1\n",
       "13    6352          0        0.164026                0          16\n",
       "14     575          0        0.099465                0          10\n",
       "15    4597          1        0.153172                0          15\n",
       "16    8355          0        0.555522                1          56\n",
       "17    8574          1        0.508749                1          51\n",
       "18    4207          0        0.018935                0           2\n",
       "19    4420          1        0.818141                1          82"
      ]
     },
     "execution_count": 162,
     "metadata": {},
     "output_type": "execute_result"
    }
   ],
   "source": [
    "# Now let us calculate the lead score\n",
    "\n",
    "y_pred_final['lead_score'] = y_pred_final.Converted_Prob.map(lambda x: round(x*100))\n",
    "y_pred_final.head(20)"
   ]
  },
  {
   "cell_type": "code",
   "execution_count": 163,
   "id": "293f096f",
   "metadata": {},
   "outputs": [
    {
     "data": {
      "text/plain": [
       "1    806\n",
       "0    209\n",
       "Name: final_predicted, dtype: int64"
      ]
     },
     "execution_count": 163,
     "metadata": {},
     "output_type": "execute_result"
    }
   ],
   "source": [
    "# checking if 80% cases are correctly predicted based on the converted column.\n",
    "\n",
    "# get the total of final predicted conversion or non conversion counts from the actual converted rates\n",
    "\n",
    "checking_test_df = y_pred_final.loc[y_pred_final['Converted']==1,['Converted','final_predicted']]\n",
    "checking_test_df['final_predicted'].value_counts()"
   ]
  },
  {
   "cell_type": "code",
   "execution_count": 164,
   "id": "0989e06c",
   "metadata": {},
   "outputs": [
    {
     "data": {
      "text/plain": [
       "0.7940886699507389"
      ]
     },
     "execution_count": 164,
     "metadata": {},
     "output_type": "execute_result"
    }
   ],
   "source": [
    "# check the precentage of final_predicted conversions on test data\n",
    "\n",
    "806/float(806+209)"
   ]
  },
  {
   "cell_type": "markdown",
   "id": "65a010ca",
   "metadata": {},
   "source": [
    "Based on the result we can see that the final prediction of conversions have a target rate of 79% (0.7940%) .\n",
    "\n",
    "Around 1 % short of the predictions made on training data set.\n",
    "\n",
    "Now lets calculated Overall Metrics - Accuracy, Confusion Metrics, Sensitivity, Specificity on test set"
   ]
  },
  {
   "cell_type": "code",
   "execution_count": 165,
   "id": "b37342ae",
   "metadata": {},
   "outputs": [
    {
     "data": {
      "text/plain": [
       "0.8132152085640457"
      ]
     },
     "execution_count": 165,
     "metadata": {},
     "output_type": "execute_result"
    }
   ],
   "source": [
    "# Let's check the accuracy.\n",
    "\n",
    "metrics.accuracy_score(y_pred_final.Converted, y_pred_final.final_predicted)"
   ]
  },
  {
   "cell_type": "code",
   "execution_count": 166,
   "id": "5f5f6d40",
   "metadata": {},
   "outputs": [
    {
     "data": {
      "text/plain": [
       "array([[1397,  297],\n",
       "       [ 209,  806]], dtype=int64)"
      ]
     },
     "execution_count": 166,
     "metadata": {},
     "output_type": "execute_result"
    }
   ],
   "source": [
    "confusion2 = metrics.confusion_matrix(y_pred_final.Converted, y_pred_final.final_predicted )\n",
    "confusion2"
   ]
  },
  {
   "cell_type": "code",
   "execution_count": 167,
   "id": "1381d57b",
   "metadata": {},
   "outputs": [],
   "source": [
    "TP = confusion2[1,1] # true positive \n",
    "TN = confusion2[0,0] # true negatives\n",
    "FP = confusion2[0,1] # false positives\n",
    "FN = confusion2[1,0] # false negatives"
   ]
  },
  {
   "cell_type": "code",
   "execution_count": 168,
   "id": "ad5f7aaf",
   "metadata": {},
   "outputs": [
    {
     "data": {
      "text/plain": [
       "0.7940886699507389"
      ]
     },
     "execution_count": 168,
     "metadata": {},
     "output_type": "execute_result"
    }
   ],
   "source": [
    "# Let's see the sensitivity of our logistic regression model\n",
    "TP / float(TP+FN)"
   ]
  },
  {
   "cell_type": "code",
   "execution_count": 169,
   "id": "e19aae16",
   "metadata": {},
   "outputs": [
    {
     "data": {
      "text/plain": [
       "0.8246753246753247"
      ]
     },
     "execution_count": 169,
     "metadata": {},
     "output_type": "execute_result"
    }
   ],
   "source": [
    "# Let us calculate specificity\n",
    "TN / float(TN+FP)"
   ]
  },
  {
   "cell_type": "markdown",
   "id": "910ac91d",
   "metadata": {},
   "source": [
    "#### Precision and Recall on test set "
   ]
  },
  {
   "cell_type": "code",
   "execution_count": 170,
   "id": "0a5548b7",
   "metadata": {},
   "outputs": [
    {
     "name": "stdout",
     "output_type": "stream",
     "text": [
      "precision  0.7307343608340888\n",
      "recall  0.7940886699507389\n"
     ]
    }
   ],
   "source": [
    "# precision\n",
    "print('precision ',precision_score(y_pred_final.Converted, y_pred_final.final_predicted))\n",
    "\n",
    "# recall\n",
    "print('recall ',recall_score(y_pred_final.Converted, y_pred_final.final_predicted))"
   ]
  },
  {
   "cell_type": "code",
   "execution_count": 171,
   "id": "b8772961",
   "metadata": {},
   "outputs": [
    {
     "data": {
      "image/png": "[encoded data removed]",
      "text/plain": [
       "<Figure size 640x480 with 1 Axes>"
      ]
     },
     "metadata": {},
     "output_type": "display_data"
    }
   ],
   "source": [
    "p, r, thresholds = precision_recall_curve(y_pred_final.Converted, y_pred_final.Converted_Prob)\n",
    "\n",
    "plt.plot(thresholds, p[:-1], \"g-\")\n",
    "plt.plot(thresholds, r[:-1], \"r-\")\n",
    "plt.show()"
   ]
  },
  {
   "cell_type": "markdown",
   "id": "dc3b8482",
   "metadata": {},
   "source": [
    "### Conclusion : "
   ]
  },
  {
   "cell_type": "markdown",
   "id": "70b568b3",
   "metadata": {},
   "source": [
    "As we have checked Sensitivity,Specificity, Precision, and Recall as Metrics, we have considered the\n",
    "optimal cut off limit as 0.37 for calculating the final prediction.\n",
    "\n",
    "- Accuracy, Sensitivity and Specificity values of test set are around 81%, 79% and 82% which are approximately closer to \n",
    "  the respective values calculated using trained set.\n",
    "  \n",
    "- Also the lead score calculated in the trained set of data shows the conversion rate on the final predicted model is \n",
    "  around 80%\n",
    "  \n",
    "- Hence overall this model seems to be good. \n",
    "\n",
    "Firstly, need to sort out the best prospects from the leads you have generated. 'TotalVisits' , 'Total Time Spent on Website' , 'Page Views Per Visit' which contribute most towards the probability of a lead getting converted.\n",
    "\n",
    "Focus on converted leads.\n",
    "\n",
    "Hold question-answer sessions with leads to extract the right information you need about them. \n",
    "\n",
    "Make further inquiries and appointments with the leads to determine their intention and mentality to join online courses."
   ]
  }
 ],
 "metadata": {
  "kernelspec": {
   "display_name": "Python 3 (ipykernel)",
   "language": "python",
   "name": "python3"
  },
  "language_info": {
   "codemirror_mode": {
    "name": "ipython",
    "version": 3
   },
   "file_extension": ".py",
   "mimetype": "text/x-python",
   "name": "python",
   "nbconvert_exporter": "python",
   "pygments_lexer": "ipython3",
   "version": "3.9.13"
  }
 },
 "nbformat": 4,
 "nbformat_minor": 5
}
